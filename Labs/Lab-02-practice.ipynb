{
 "cells": [
  {
   "cell_type": "markdown",
   "metadata": {},
   "source": [
    "# Lab 2 Practice: Basics\n",
    "\n",
    "In this lab, we are to review (or learn) and practice the following material in Week 1's lectures.\n",
    "* How to create a function.\n",
    "* Various types of variables:  `bool`, `list`, `float`, `int`, `ndarray`.\n",
    "* More `if-else` practice. \n",
    "\n",
    "This notebook does not need to be submitted."
   ]
  },
  {
   "cell_type": "markdown",
   "metadata": {},
   "source": [
    "## Boolean type practices\n",
    "Run the following cells, try changing the given operands to `>, >=, ==, !=, <=, <` and run again."
   ]
  },
  {
   "cell_type": "code",
   "execution_count": null,
   "metadata": {},
   "outputs": [],
   "source": [
    "4**4 > 15**2"
   ]
  },
  {
   "cell_type": "code",
   "execution_count": null,
   "metadata": {},
   "outputs": [],
   "source": [
    "2**10 != 1024"
   ]
  },
  {
   "cell_type": "markdown",
   "metadata": {},
   "source": [
    "In Python, the order of operation for the boolean operands is: `NOT, AND, OR`. \n",
    "\n",
    "For example, the following two cell blocks should yield the same result."
   ]
  },
  {
   "cell_type": "code",
   "execution_count": null,
   "metadata": {},
   "outputs": [],
   "source": [
    "True and (not False)"
   ]
  },
  {
   "cell_type": "code",
   "execution_count": null,
   "metadata": {},
   "outputs": [],
   "source": [
    "True and not False"
   ]
  },
  {
   "cell_type": "markdown",
   "metadata": {},
   "source": [
    "Now try the following two cells."
   ]
  },
  {
   "cell_type": "code",
   "execution_count": null,
   "metadata": {},
   "outputs": [],
   "source": [
    "x = 2\n",
    "not x > 1 and x > 3"
   ]
  },
  {
   "cell_type": "code",
   "execution_count": null,
   "metadata": {},
   "outputs": [],
   "source": [
    "x = 2\n",
    "not (x > 1 and x > 3)"
   ]
  },
  {
   "cell_type": "markdown",
   "metadata": {},
   "source": [
    "See the difference?"
   ]
  },
  {
   "cell_type": "markdown",
   "metadata": {},
   "source": [
    "## Creating functions"
   ]
  },
  {
   "cell_type": "markdown",
   "metadata": {},
   "source": [
    "### Problem 1\n",
    "create a function `cubepoly()` which returns $x^3 + 2x -1$ if $x$ is the input. "
   ]
  },
  {
   "cell_type": "code",
   "execution_count": null,
   "metadata": {},
   "outputs": [],
   "source": [
    "def cubepoly(x):\n",
    "# insert your code here.\n"
   ]
  },
  {
   "cell_type": "code",
   "execution_count": null,
   "metadata": {},
   "outputs": [],
   "source": [
    "cubepoly(2) # see if this returns the correct evaluation"
   ]
  },
  {
   "cell_type": "markdown",
   "metadata": {},
   "source": [
    "### if-elif-else statements\n",
    "\n",
    "```python\n",
    "if statement_1:\n",
    "    code to evaluate when (statement_1 = True)\n",
    "elif statement_2:\n",
    "    code to evaluate when (statement_1 = not True) and (statement_2 = True)\n",
    "else:\n",
    "    code to evaluate when (statement_1 = not True) and (statement_2 = not True)\n",
    "```"
   ]
  },
  {
   "cell_type": "markdown",
   "metadata": {},
   "source": [
    "### Problem 2:\n",
    "\n",
    "Define the following function `F(x,y)` using two inputs `x` and `y`\n",
    "$$F(x,y) = \\begin{cases}\n",
    "|x-y| & \\text{ when } |x-y|\\geq 1,\n",
    "\\\\[5pt]\n",
    "\\displaystyle\\frac{|x-y|}{2} &  \\text{ when } 0\\leq |x-y|< 1,\n",
    "\\\\[5pt]\n",
    "0 & \\text{ otherwise. }\n",
    "\\end{cases} \\tag{$\\dagger$}$$\n",
    "\n",
    "**Note 1**: The `abs()` function is not part of the `math` module. We can use it directly.\n",
    "\n",
    "**Note 2**: when you want to return the numerical value of 0, please use the float `0.0`."
   ]
  },
  {
   "cell_type": "code",
   "execution_count": null,
   "metadata": {},
   "outputs": [],
   "source": [
    "def F(x,y):\n",
    "    # insert your code here."
   ]
  },
  {
   "cell_type": "code",
   "execution_count": null,
   "metadata": {},
   "outputs": [],
   "source": [
    "F(-11,-11.5) # should return 0.25."
   ]
  },
  {
   "cell_type": "code",
   "execution_count": null,
   "metadata": {},
   "outputs": [],
   "source": [
    "(F(12,5) - F(5,12)) < 1e-10 # should return True"
   ]
  },
  {
   "cell_type": "markdown",
   "metadata": {},
   "source": [
    "----"
   ]
  },
  {
   "cell_type": "markdown",
   "metadata": {},
   "source": [
    "## Plotting functions\n",
    "#### Import `math10.py` downloaded from Homework 1 page.\n"
   ]
  },
  {
   "cell_type": "code",
   "execution_count": null,
   "metadata": {},
   "outputs": [],
   "source": [
    "import math10\n",
    "# To import math10, we need to make sure math10.py file is in the same folder with this notebook."
   ]
  },
  {
   "cell_type": "markdown",
   "metadata": {},
   "source": [
    "***Note***:\n",
    "\n",
    "`math10` is already imported if you have run the cell above.\n",
    "We don't have to import again within the same notebook, even if all outputs are cleared.\n",
    "If the Python kernel is restarted, You do have to re-run the import code again."
   ]
  },
  {
   "cell_type": "code",
   "execution_count": null,
   "metadata": {},
   "outputs": [],
   "source": [
    "math10.drawfunction(F) # not Fnew"
   ]
  },
  {
   "cell_type": "markdown",
   "metadata": {},
   "source": [
    "### Problem 3\n",
    "Write a function `mycircle(x,y)` that returns 1.0 if the point $(x,y)$ is in a disk of radius $0.5$ centered at the origin and returns $0.0$ otherwise. Use the `drawfunction` function from `math10` module to check your results.\n",
    "\n",
    "HINT: what equation or inequality must $(x,y)$ if it is within a disk. "
   ]
  },
  {
   "cell_type": "code",
   "execution_count": null,
   "metadata": {},
   "outputs": [],
   "source": [
    "def mycircle(x,y):\n",
    "    # insert your code here\n",
    "    "
   ]
  },
  {
   "cell_type": "code",
   "execution_count": null,
   "metadata": {},
   "outputs": [],
   "source": [
    "math10.drawfunction(mycircle)"
   ]
  },
  {
   "cell_type": "markdown",
   "metadata": {},
   "source": [
    "### Problem 4\n",
    "Write a function `threecircles(x,y)` that returns $1.0$ if the point $(x,y)$ is in one of three disks centered at $(-0.5,-0.5)$, the origin, $(0.5,0.5)$ with radius $0.2$ and returns $0.0$ otherwise. Use the `math10.drawfunction()` function to check your results."
   ]
  },
  {
   "cell_type": "code",
   "execution_count": null,
   "metadata": {},
   "outputs": [],
   "source": [
    "def threecircles(x,y):\n",
    "    # insert your code here\n",
    "    "
   ]
  },
  {
   "cell_type": "code",
   "execution_count": null,
   "metadata": {},
   "outputs": [],
   "source": [
    "math10.drawfunction(threecircles)"
   ]
  },
  {
   "cell_type": "markdown",
   "metadata": {},
   "source": [
    "----"
   ]
  },
  {
   "cell_type": "markdown",
   "metadata": {},
   "source": [
    "## What is a `float` exactly? (reading material)\n",
    "A `float` is in short for a *single-precision floating-point format*, either signed or unsigned, which is a number format occupying 32 bits (binary) in memory.\n",
    "\n",
    "A signed `float`, for example $0.15625$ (taken from Wikipedia page), is represented in computer as: \n",
    "\n",
    "> 0 &nbsp; &nbsp; &nbsp; 0 1 1 1 1 1 0 0 &nbsp; &nbsp; &nbsp; 0 1 0 0 0 0 0 0 0 0 0 0 0 0 0 0 0 0 0 0 0 0 0\n",
    "\n",
    "Let us denote $b_i \\in \\{0,1\\}$, $i=0,\\dots, 31$ as the digits above starting from the right to the left.\n",
    "\n",
    "* $b_{31} = 0 $ means that the $\\text{sign} = 0$, which represents a positive number ($1$ means negative).\n",
    "\n",
    "* The next eight digitis represent the exponent $e$: \n",
    "$$e=b_{30}b_{29}\\dots b_{23}=\\sum _{i=0}^{7}b_{23+i}2^{+i}=124,$$\n",
    "and the exponent is $2^{(e-127)}=2^{124-127}=2^{-3}$.\n",
    "\n",
    "* The next 23 digits represent the significant digits (or significand) after the decimal point:\n",
    "$$1.b_{22}b_{21}...b_{0}=1+\\sum _{i=1}^{23}b_{23-i}2^{-i}=1+1\\cdot 2^{-2}=1.25$$\n",
    "\n",
    "* Finally, the decimal number is obtained by\n",
    "$$ (-1)^{\\text{sign}} \\cdot 1.25 \\cdot 2^{-3} = 0.15625.$$\n",
    "\n",
    "The conversion above makes certain number cannot be represented exactly in computer.\n",
    "\n",
    "\n",
    "Reference (please read after the Lab): [https://docs.python.org/3/tutorial/floatingpoint.html](https://docs.python.org/3/tutorial/floatingpoint.html)"
   ]
  },
  {
   "cell_type": "code",
   "execution_count": 1,
   "metadata": {},
   "outputs": [
    {
     "data": {
      "text/plain": [
       "float"
      ]
     },
     "execution_count": 1,
     "metadata": {},
     "output_type": "execute_result"
    }
   ],
   "source": [
    "x = 1.0\n",
    "type(x)"
   ]
  }
 ],
 "metadata": {
  "kernelspec": {
   "display_name": "Python 3",
   "language": "python",
   "name": "python3"
  },
  "language_info": {
   "codemirror_mode": {
    "name": "ipython",
    "version": 3
   },
   "file_extension": ".py",
   "mimetype": "text/x-python",
   "name": "python",
   "nbconvert_exporter": "python",
   "pygments_lexer": "ipython3",
   "version": "3.7.2"
  },
  "latex_envs": {
   "LaTeX_envs_menu_present": true,
   "autoclose": true,
   "autocomplete": true,
   "bibliofile": "biblio.bib",
   "cite_by": "apalike",
   "current_citInitial": 1,
   "eqLabelWithNumbers": true,
   "eqNumInitial": 1,
   "hotkeys": {
    "equation": "Ctrl-E",
    "itemize": "Ctrl-I"
   },
   "labels_anchors": false,
   "latex_user_defs": false,
   "report_style_numbering": false,
   "user_envs_cfg": false
  },
  "varInspector": {
   "cols": {
    "lenName": 16,
    "lenType": 16,
    "lenVar": 40
   },
   "kernels_config": {
    "python": {
     "delete_cmd_postfix": "",
     "delete_cmd_prefix": "del ",
     "library": "var_list.py",
     "varRefreshCmd": "print(var_dic_list())"
    },
    "r": {
     "delete_cmd_postfix": ") ",
     "delete_cmd_prefix": "rm(",
     "library": "var_list.r",
     "varRefreshCmd": "cat(var_dic_list()) "
    }
   },
   "types_to_exclude": [
    "module",
    "function",
    "builtin_function_or_method",
    "instance",
    "_Feature"
   ],
   "window_display": false
  }
 },
 "nbformat": 4,
 "nbformat_minor": 1
}
