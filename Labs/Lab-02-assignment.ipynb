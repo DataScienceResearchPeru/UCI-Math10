{
 "cells": [
  {
   "cell_type": "markdown",
   "metadata": {},
   "source": [
    "# Lab 2 Assignment: \n",
    "\n",
    "### Please type your name here:\n",
    "### Do not forget to change the filename with your name appended\n",
    "\n",
    "In this lab please fill the indicated cells with your code and explainations, ***run*** everything (select `cell` in the menu, and click `Run all`), save the notebook with your name (last name+first name's initial) appended to the filename (for example, `Lab-02-assignment-caos.ipynb`), and upload it to canvas.\n",
    "<br><br>\n",
    "This lab assignment contains two problems (that need to be turned in), and one extra problem (for you to try after lab). \n",
    "<br><br>\n",
    "Read each problem carefully and answer them the best you can. You may type the code from Lecture 4 and Lecture 5 notebooks, please do not just copy/paste, rather use type and auto-complete by pressing Tab."
   ]
  },
  {
   "cell_type": "code",
   "execution_count": 1,
   "metadata": {},
   "outputs": [],
   "source": [
    "import numpy as np"
   ]
  },
  {
   "cell_type": "markdown",
   "metadata": {},
   "source": [
    "## Problem 1:\n",
    "The distance between two 2D vectors $\\mathbf{u} = (u_1,u_2)$ and $\\mathbf{v} = (v_1, v_2)$ is:\n",
    "$$\n",
    "d(\\mathbf{u},\\mathbf{v}) = \\sqrt{(u_1 - v_1)^2 + (u_2 - v_2)^2}\n",
    "$$\n",
    "Write a script that computes the distances between `array([1, 0])` (a single vector) and `array([[0, 0],[1, 0],[0, 1]])` (each row represents a vector), stores the distances in an ndarray of shape `(3,)`.\n",
    "* Tools to consider: FOR loops, `**`, `len()`, `np.sqrt()`."
   ]
  },
  {
   "cell_type": "markdown",
   "metadata": {},
   "source": [
    "## Problem 2: \n",
    "\n",
    "\n",
    "(Graded) Write a function `mydistance(u,V)` that returns an ndarray which stores the distances between a single vector `u` and a set of vectors `V`. For example, the following code snippet\n",
    "```python\n",
    "arr1 = np.array([1, 0])\n",
    "arr2 = np.array([[0, 0],[1, 0],[0, 1]])\n",
    "mydistance(arr1,arr2)\n",
    "```\n",
    "should return the same result with problem 1."
   ]
  },
  {
   "cell_type": "markdown",
   "metadata": {},
   "source": [
    "## Problem 3 (optional)\n",
    "Write a function `mydistancematrix(U,V)` that returns a matrix `D` (numpy ndarray), and the entry at the $i$-th row and $j$-th column of `D` stores the distances between the $i$-th row of `U` and the $j$-th row `V`. For example, the following \n",
    "```python\n",
    "arr3 = np.array([[1, 1],[0, 0]])\n",
    "arr4 = np.array([[0, 0],[1, 0],[0, 1]])\n",
    "mydistancematrix(arr3,arr4)\n",
    "```\n",
    "should return an output of \n",
    "```python\n",
    "array([[1.41421356, 1.        , 1.        ],\n",
    "       [0.        , 1.        , 1.        ]])\n",
    "```"
   ]
  }
 ],
 "metadata": {
  "kernelspec": {
   "display_name": "Python 3",
   "language": "python",
   "name": "python3"
  },
  "language_info": {
   "codemirror_mode": {
    "name": "ipython",
    "version": 3
   },
   "file_extension": ".py",
   "mimetype": "text/x-python",
   "name": "python",
   "nbconvert_exporter": "python",
   "pygments_lexer": "ipython3",
   "version": "3.7.2"
  },
  "latex_envs": {
   "LaTeX_envs_menu_present": true,
   "autoclose": true,
   "autocomplete": true,
   "bibliofile": "biblio.bib",
   "cite_by": "apalike",
   "current_citInitial": 1,
   "eqLabelWithNumbers": true,
   "eqNumInitial": 1,
   "hotkeys": {
    "equation": "Ctrl-E",
    "itemize": "Ctrl-I"
   },
   "labels_anchors": false,
   "latex_user_defs": false,
   "report_style_numbering": false,
   "user_envs_cfg": false
  },
  "varInspector": {
   "cols": {
    "lenName": 16,
    "lenType": 16,
    "lenVar": 40
   },
   "kernels_config": {
    "python": {
     "delete_cmd_postfix": "",
     "delete_cmd_prefix": "del ",
     "library": "var_list.py",
     "varRefreshCmd": "print(var_dic_list())"
    },
    "r": {
     "delete_cmd_postfix": ") ",
     "delete_cmd_prefix": "rm(",
     "library": "var_list.r",
     "varRefreshCmd": "cat(var_dic_list()) "
    }
   },
   "types_to_exclude": [
    "module",
    "function",
    "builtin_function_or_method",
    "instance",
    "_Feature"
   ],
   "window_display": false
  }
 },
 "nbformat": 4,
 "nbformat_minor": 1
}
