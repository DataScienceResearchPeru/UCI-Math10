{
 "cells": [
  {
   "cell_type": "markdown",
   "metadata": {},
   "source": [
    "# Lab 2 Assignment: \n",
    "\n",
    "### Please type your name here:\n",
    "### Do not forget to change the filename with your name appended\n",
    "\n",
    "In this lab please fill the indicated cells with your code and explainations, ***run*** everything (select `cell` in the menu, and click `Run all`), save the notebook with your name appended to the filename (for example, `Lab-02-assignment-shuhaocao.ipynb`), and upload it to Canvas.\n",
    "<br><br>\n",
    "This lab assignment contains two problems (that need to be turned in), and one extra problem (for you to try after lab). \n",
    "<br><br>\n",
    "Read each problem carefully and answer them the best you can. You may type the code from Lecture 4 and Lecture 5 notebooks, please do not just copy/paste, rather use type and auto-complete by pressing Tab. All problems can be completed *exclusively* using `while` loops."
   ]
  },
  {
   "cell_type": "markdown",
   "metadata": {},
   "source": [
    "## Problem 1\n",
    "\n",
    "Create a list `mylst` containing the first 10 positive integers divisible by 9 with the last digit 1 using a loop. \n",
    "<br><br>\n",
    "* Using `len(mylst)` to check the length of this list and `mylst.append()` function might become useful.\n",
    "* We can use a number modulo 10 to get its last digit (the remainder of being divided by 10)."
   ]
  },
  {
   "cell_type": "code",
   "execution_count": null,
   "metadata": {},
   "outputs": [],
   "source": [
    "mylst = []\n",
    "# insert your code here\n"
   ]
  },
  {
   "cell_type": "code",
   "execution_count": null,
   "metadata": {},
   "outputs": [],
   "source": [
    "print(mylst) # the result should be [81, 171, 261, 351, 441, 531, 621, 711, 801, 891]"
   ]
  },
  {
   "cell_type": "markdown",
   "metadata": {},
   "source": [
    "## Problem 2\n",
    "\n",
    "Recall from Lecture 5 that you can determine whether a positive integer is prime or not using the following code:"
   ]
  },
  {
   "cell_type": "code",
   "execution_count": 1,
   "metadata": {},
   "outputs": [],
   "source": [
    "def isprime(n):\n",
    "    if n <= 1 or type(n) != int:\n",
    "        print(\"Please enter a positive integer >= 2 and try again.\")\n",
    "        return False\n",
    "    d = 2\n",
    "    while d < n:\n",
    "        if n % d  == 0:\n",
    "            return False\n",
    "        d += 1\n",
    "    return True"
   ]
  },
  {
   "cell_type": "code",
   "execution_count": 2,
   "metadata": {},
   "outputs": [
    {
     "data": {
      "text/plain": [
       "True"
      ]
     },
     "execution_count": 2,
     "metadata": {},
     "output_type": "execute_result"
    }
   ],
   "source": [
    "# for example\n",
    "isprime(23)"
   ]
  },
  {
   "cell_type": "markdown",
   "metadata": {},
   "source": [
    "Create a function `listprimes(m)` that returns the first $m$ prime numbers in a list using a `while` loop.\n",
    "\n",
    "You may use the function `isprime(n)`.\n",
    "\n",
    "**Be careful!!!** of the difference of $m$ and $n$, $m$ is the number of primes in the list, while $n$ is the number itself to be checked."
   ]
  },
  {
   "cell_type": "code",
   "execution_count": null,
   "metadata": {},
   "outputs": [],
   "source": [
    "def listprimes(m):\n",
    "    primelst = [] # initialize the list\n",
    "    # insert your code here"
   ]
  },
  {
   "cell_type": "code",
   "execution_count": null,
   "metadata": {},
   "outputs": [],
   "source": [
    "print(listprimes(10)) # this command should print the first 10 primes [2, 3, 5, 7, 11, 13, 17, 19, 23, 29] in a list"
   ]
  },
  {
   "cell_type": "markdown",
   "metadata": {},
   "source": [
    "----\n",
    "## The following problems are optional.\n",
    "##  please only try this problem if you have time left"
   ]
  },
  {
   "cell_type": "markdown",
   "metadata": {},
   "source": [
    "###  Problem 2 Optional\n",
    "Please debug the following function for problem 2, find where it goes wrong, and fix it in the current format (using `k` to track the counter or index in the `while` loop)"
   ]
  },
  {
   "cell_type": "code",
   "execution_count": 3,
   "metadata": {},
   "outputs": [],
   "source": [
    "def listprimes_bug(m):\n",
    "    primelst = [] # initialize the list\n",
    "    k = 0 # this is the counter (index), not the actual integer\n",
    "    n = 2 # this is the integer to be checked, starting from 2\n",
    "    while k < m:\n",
    "        if isprime(n): # returns True if n is a prime\n",
    "            primelst.append(n)\n",
    "        k += 1\n",
    "        n += 1\n",
    "    return primelst"
   ]
  },
  {
   "cell_type": "code",
   "execution_count": 4,
   "metadata": {},
   "outputs": [
    {
     "name": "stdout",
     "output_type": "stream",
     "text": [
      "[2, 3, 5, 7, 11]\n"
     ]
    }
   ],
   "source": [
    "# run me first before fixing\n",
    "print(listprimes_bug(10)) # this only prints 5 primes?!"
   ]
  },
  {
   "cell_type": "code",
   "execution_count": null,
   "metadata": {},
   "outputs": [],
   "source": [
    "def listprimes_debug(m):\n",
    "    primelst = [] # initialize the list\n",
    "    # insert your debugged version here"
   ]
  },
  {
   "cell_type": "code",
   "execution_count": null,
   "metadata": {},
   "outputs": [],
   "source": [
    "print(listprimes_debug(10)) # this should print [2, 3, 5, 7, 11, 13, 17, 19, 23, 29]"
   ]
  },
  {
   "cell_type": "markdown",
   "metadata": {},
   "source": [
    "## Problem 3 Optional\n",
    "\n",
    "### Part (a)\n",
    "Estimate $\\pi$ by adding the first $1000$ terms in the formula: \n",
    "$$\\frac{\\pi}{4} = 1 - \\frac13 + \\frac15 - \\frac17+ \\cdots,$$ \n",
    "which comes from the Taylor expansion of $\\arctan(x)$.\n",
    "\n",
    "Compare the answer to the built-in `math.pi` (you want to  import `math` module)."
   ]
  },
  {
   "cell_type": "code",
   "execution_count": null,
   "metadata": {},
   "outputs": [],
   "source": [
    "import math\n",
    "k = 0 # starting the counter\n",
    "estpi = 0.0 # initialize the estimation of pi using float!\n",
    "# insert your code below\n"
   ]
  },
  {
   "cell_type": "code",
   "execution_count": null,
   "metadata": {},
   "outputs": [],
   "source": [
    "error = abs(estpi - math.pi)\n",
    "print(\"The error after %s-th iteration is %s.\" % (k,error) ) # should be kinda small"
   ]
  },
  {
   "cell_type": "markdown",
   "metadata": {},
   "source": [
    "## Problem 3 Optional\n",
    "\n",
    "### Part (b)\n",
    "Creating a NumPy array `estpi_arr` to store the first $1000$ approximation along the way. \n",
    "<br><br> \n",
    "For example, `estpi_arr[0]` should be $4\\cdot 1$.\n",
    "<br><br> \n",
    "`estpi_arr[1]` should be $4\\cdot \\left(1 - \\frac13\\right)$, `estpi_arr[2]` should be $4\\cdot \\left(1 - \\frac13 + \\frac15\\right)$, etc.\n",
    "<br><br>\n",
    "Then run the following script using matplotlib to visualize the approximation procedure."
   ]
  },
  {
   "cell_type": "code",
   "execution_count": null,
   "metadata": {},
   "outputs": [],
   "source": [
    "import numpy as np\n",
    "estpi_arr = np.zeros(1000) # to initialize estpi array, we can create a size 1000 array with zeros\n",
    "# insert your code here, be very very careful with indices\n"
   ]
  },
  {
   "cell_type": "code",
   "execution_count": null,
   "metadata": {},
   "outputs": [],
   "source": [
    "print(estpi_arr) # click the dots below to reveal the collapsed output"
   ]
  },
  {
   "cell_type": "code",
   "execution_count": null,
   "metadata": {},
   "outputs": [],
   "source": [
    "# the last entry should coincide with Problem 3a\n",
    "abs(estpi_arr[-1] - estpi)"
   ]
  },
  {
   "cell_type": "markdown",
   "metadata": {},
   "source": [
    "**Remark** even though the following code returns True, we want to avoid using `==` on floats at any cost!!!!!!!!!!!!!"
   ]
  },
  {
   "cell_type": "code",
   "execution_count": null,
   "metadata": {},
   "outputs": [],
   "source": [
    "estpi_arr[-1] == estpi"
   ]
  },
  {
   "cell_type": "code",
   "execution_count": null,
   "metadata": {},
   "outputs": [],
   "source": [
    "# define estpi first, then\n",
    "# run the following code to see the convergence for the approximation\n",
    "import matplotlib.pyplot as plt\n",
    "%matplotlib inline \n",
    "grid = np.linspace(1,1000,1000) # reference grid, an array from 1 to 1000\n",
    "refpi = math.pi*np.ones(1000) # reference values of pi"
   ]
  },
  {
   "cell_type": "code",
   "execution_count": null,
   "metadata": {},
   "outputs": [],
   "source": [
    "# plot the first 30 approximations\n",
    "plt.plot(grid[0:29],refpi[0:29],linewidth=3)\n",
    "plt.plot(grid[0:29],estpi_arr[0:29],linewidth=1,marker='o',linestyle=':')\n",
    "plt.show()"
   ]
  },
  {
   "cell_type": "code",
   "execution_count": null,
   "metadata": {},
   "outputs": [],
   "source": [
    "# plot the last 50 approximations\n",
    "plt.plot(grid[-49:],refpi[-49:],linewidth=3)\n",
    "plt.plot(grid[-49:],estpi_arr[-49:],linewidth=1,marker='o',linestyle=':')\n",
    "plt.axis([grid[-49], grid[-1], 3.135, 3.15]) # set the axis range\n",
    "plt.show()"
   ]
  }
 ],
 "metadata": {
  "kernelspec": {
   "display_name": "Python 3",
   "language": "python",
   "name": "python3"
  },
  "language_info": {
   "codemirror_mode": {
    "name": "ipython",
    "version": 3
   },
   "file_extension": ".py",
   "mimetype": "text/x-python",
   "name": "python",
   "nbconvert_exporter": "python",
   "pygments_lexer": "ipython3",
   "version": "3.7.1"
  }
 },
 "nbformat": 4,
 "nbformat_minor": 1
}
