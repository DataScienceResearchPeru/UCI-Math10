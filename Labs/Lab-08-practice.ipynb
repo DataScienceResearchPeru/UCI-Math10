{
 "cells": [
  {
   "cell_type": "markdown",
   "metadata": {},
   "source": [
    "# Lab Practice Week 8\n",
    "\n",
    "This notebook does not need to be submitted. This is only for you to gain experience and get some practice."
   ]
  },
  {
   "cell_type": "code",
   "execution_count": null,
   "metadata": {},
   "outputs": [],
   "source": [
    "# as always\n",
    "import numpy as np\n",
    "import matplotlib.pyplot as plt\n",
    "%matplotlib inline"
   ]
  },
  {
   "cell_type": "markdown",
   "metadata": {},
   "source": [
    "# Problem 1: A binary classification of the wine\n",
    "\n",
    "\n",
    "Download the `winequality-red.csv` from [UCI machine learning repo on Kaggle](https://www.kaggle.com/uciml/red-wine-quality-cortez-et-al-2009/) or [UCI machine learn repo](https://archive.ics.uci.edu/ml/datasets/Wine+Quality), unzip it and put it in the same directory with this notebook. Run the importing cell. If you download the set from UCI website, you might want to check the csv file in a text editor to change the delimiter.\n",
    "\n",
    "If you have done so, please complete the following task.\n",
    "* Goal: read the reference of the [logistic regression class](https://scikit-learn.org/stable/modules/generated/sklearn.linear_model.LogisticRegression.html) in `scikit-learn`, and learn how to use it. Then you have to train a logistic regression model using the wine quality data.\n",
    "* Split the data to training samples (67%) and testing samples (33%) (please import the `train_test_split` from `sklearn.model_selection` and fix the `random_state=666` parameter so that the test is replicable, read the manual by pressing `Shift+Tab` if you do not know how to use this function).\n",
    "* This time we will use all features from the first column (column 0) to the 11th column (column 10) as input values $X = (\\mathbf{x}^{(1)},\\dots, \\mathbf{x}^{(N)})^{\\top}$ so that each row of the matrix $X$ represent a data sample, `quality` as the target value $\\mathbf{y} = (y^{(1)} \\  \\cdots \\  y^{(N)})^{\\top}$, where $N$ is the number of samples.\n",
    "* Preprocessing data: if the `quality` of a wine is $\\geq 6$, relabel it as $y=1$ (favorable); if the `quality` of a wine is $\\leq 5$, relabel it as $y=0$ (mediocre).\n",
    "* Train the logistic regression model by tuning a good parameter combination, for example, try different `solver` provided by the `LogisticRegression` class, increase the `max_iter` if the fitting function complains. Lastly, compute the accuracy score, that is\n",
    "$$\n",
    "\\frac{1}{N_{\\text{test}}} \\sum_{i = 1}^{N_{\\text{test}}} 1\\{y^{(i), \\text{Pred}} = y^{(i), \\text{Actual}} \\}.\n",
    "$$\n",
    "You should get over 70% correct on the prediction.\n",
    "* Try other combinations train-test split ratio, e.g., 80%-20%, 50%-50%, 33%-67% What have you observed?\n",
    "* If we preprocess the data by using the following: `quality` being $\\geq 5$, relabel it as $y=1$ (good), while `quality` $\\leq 4$, relabel it as $y=0$ (bad). What happen if we re-run the logistic regression for this classification?"
   ]
  },
  {
   "cell_type": "code",
   "execution_count": null,
   "metadata": {},
   "outputs": [],
   "source": [
    "# load all 12 columns\n",
    "wine_data = np.loadtxt('winequality-red.csv', delimiter=',', skiprows=1)"
   ]
  },
  {
   "cell_type": "code",
   "execution_count": null,
   "metadata": {},
   "outputs": [],
   "source": [
    "# set up X and y"
   ]
  },
  {
   "cell_type": "code",
   "execution_count": null,
   "metadata": {},
   "outputs": [],
   "source": [
    "# split the test and train data using a fixed random_state=666"
   ]
  },
  {
   "cell_type": "code",
   "execution_count": null,
   "metadata": {},
   "outputs": [],
   "source": [
    "# train the model and print the accuracy score"
   ]
  }
 ],
 "metadata": {
  "anaconda-cloud": {},
  "kernelspec": {
   "display_name": "Python 3",
   "language": "python",
   "name": "python3"
  },
  "language_info": {
   "codemirror_mode": {
    "name": "ipython",
    "version": 3
   },
   "file_extension": ".py",
   "mimetype": "text/x-python",
   "name": "python",
   "nbconvert_exporter": "python",
   "pygments_lexer": "ipython3",
   "version": "3.7.2"
  }
 },
 "nbformat": 4,
 "nbformat_minor": 2
}
