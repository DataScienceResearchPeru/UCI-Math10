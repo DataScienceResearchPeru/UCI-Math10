{
 "cells": [
  {
   "cell_type": "markdown",
   "metadata": {},
   "source": [
    "# Lab 1 Practice: Getting familiar with Jupyter\n",
    "\n",
    "In this lab we are to get familiar with the tools we are gonna use constantly in Math 10.\n",
    "\n",
    "First we will learn certain Jupyter Notebook keyboard shortcuts to be an efficient coder in Python. Below are the keyboard shortcuts iPython notebook adapted from Data Science Bootcamp's class.\n",
    "\n",
    "**NOTE 1** these keyboard shortcuts are for Jupyter version 5.7.0 on Mac OS. For most shortcuts below, you can replace `cmd` for `ctrl` for Windows or Linux. Or, you can use the `H` keyboard shortcut in Windows or Linux to confirm the appropriate keyboard shortcuts for those operating systems.\n",
    "\n",
    "**NOTE 2**: some of the material in this lab requires some Lecture 2 material, such as defining functions etc."
   ]
  },
  {
   "cell_type": "markdown",
   "metadata": {},
   "source": [
    "## Command vs. Edit Modes\n",
    "\n",
    "First recall the Lecture 1: Jupyter Notebooks have two different keyboard input modes:\n",
    "\n",
    "1. **Command mode** - binds the keyboard to notebook level actions. Indicated by a grey cell border with a blue left margin.\n",
    "2. **Edit mode** - when you're typing in a cell. Indicated by a green cell border\n",
    "\n",
    "Experiment with switching between command and edit modes in this cell. \n",
    "\n",
    "Hint: If you're in command mode, type `enter` or double-click to enter edit mode. If you're in edit mode, type `esc` or `cmd`+`m` (`ctrl`+`m` in Windows/Linux) to enter command mode."
   ]
  },
  {
   "cell_type": "markdown",
   "metadata": {},
   "source": [
    "### Command Mode\n",
    "\n",
    "Let's practice the command mode (indicated by blue left margin) first for the following cells.\n",
    "\n",
    "To start, select the next cell and click `shift` + `enter` to run that cell and select the next cell"
   ]
  },
  {
   "cell_type": "code",
   "execution_count": null,
   "metadata": {},
   "outputs": [],
   "source": [
    "print(\"You just ran the cell and selected the next cell\")"
   ]
  },
  {
   "cell_type": "markdown",
   "metadata": {},
   "source": [
    "With the next cell selected, click `ctrl` + `enter` to run the cell and keep the same cell selected"
   ]
  },
  {
   "cell_type": "code",
   "execution_count": null,
   "metadata": {},
   "outputs": [],
   "source": [
    "print(\"You just ran the cell and the focus stayed in that cell\")"
   ]
  },
  {
   "cell_type": "markdown",
   "metadata": {},
   "source": [
    "With the next cell selected, click `option` + `enter` (Mac OS) or `alt` + `enter` (Windows/Linux) to run the cell and insert a new cell below"
   ]
  },
  {
   "cell_type": "code",
   "execution_count": null,
   "metadata": {},
   "outputs": [],
   "source": [
    "print(\"You just ran the cell and inserted a new cell below it\")"
   ]
  },
  {
   "cell_type": "markdown",
   "metadata": {},
   "source": [
    "Next we are gonna create our own keyboard shorcut for clearing the output of a cell, choose `Help` then `Edit Keyboard Shortcut`, find the shortcut option for `clear cell output`, in the dialogue, enter `Ctrl+o` (little case or upper case does not matter), and click the plus button."
   ]
  },
  {
   "cell_type": "code",
   "execution_count": null,
   "metadata": {},
   "outputs": [],
   "source": [
    "print(\"Run this cell and try to clear the output using the shortcut you just defined\")"
   ]
  },
  {
   "cell_type": "markdown",
   "metadata": {},
   "source": [
    "---"
   ]
  },
  {
   "cell_type": "markdown",
   "metadata": {},
   "source": [
    "Click `A` to insert a new cell above this one\n",
    "\n",
    "Then, click `B` to insert a new cell below."
   ]
  },
  {
   "cell_type": "markdown",
   "metadata": {},
   "source": [
    "---"
   ]
  },
  {
   "cell_type": "markdown",
   "metadata": {},
   "source": [
    "Copy the next cell with `C` and then paste it with `V`, the cell will be pasted as a new cell below the current cell."
   ]
  },
  {
   "cell_type": "code",
   "execution_count": null,
   "metadata": {},
   "outputs": [],
   "source": [
    "print(\"copy me\")"
   ]
  },
  {
   "cell_type": "markdown",
   "metadata": {},
   "source": [
    "Delete the cell below by selecting it and typing `D`+`D` (i.e., hit the `D` button twice)"
   ]
  },
  {
   "cell_type": "code",
   "execution_count": null,
   "metadata": {},
   "outputs": [],
   "source": [
    "print(\"delete me\")"
   ]
  },
  {
   "cell_type": "markdown",
   "metadata": {},
   "source": [
    "Merge the following two cells by selecting the first one and then typing `shift` + `M`"
   ]
  },
  {
   "cell_type": "code",
   "execution_count": null,
   "metadata": {},
   "outputs": [],
   "source": [
    "print(\"click me and then merge me with the next cell\")"
   ]
  },
  {
   "cell_type": "code",
   "execution_count": null,
   "metadata": {},
   "outputs": [],
   "source": [
    "print(\"merge me with the cell above\")"
   ]
  },
  {
   "cell_type": "markdown",
   "metadata": {},
   "source": [
    "You can use `shift`+`J` (select an additional cell below currently selected cells) or `shift`+`K` (select an additional cell above currently selected cells) to select multiple cells, then type `shift`+`M` to merge the selected cells. Experiment with the following few cells."
   ]
  },
  {
   "cell_type": "code",
   "execution_count": null,
   "metadata": {},
   "outputs": [],
   "source": [
    "print(\"merge me with neighbors\")"
   ]
  },
  {
   "cell_type": "code",
   "execution_count": null,
   "metadata": {},
   "outputs": [],
   "source": [
    "print(\"merge me with neighbors\")"
   ]
  },
  {
   "cell_type": "code",
   "execution_count": null,
   "metadata": {},
   "outputs": [],
   "source": [
    "print(\"merge me with neighbors\")"
   ]
  },
  {
   "cell_type": "code",
   "execution_count": null,
   "metadata": {},
   "outputs": [],
   "source": [
    "print(\"merge me with neighbors\")"
   ]
  },
  {
   "cell_type": "code",
   "execution_count": null,
   "metadata": {},
   "outputs": [],
   "source": [
    "print(\"merge me with neighbors\")"
   ]
  },
  {
   "cell_type": "code",
   "execution_count": null,
   "metadata": {},
   "outputs": [],
   "source": [
    "print(\"merge me with neighbors\")"
   ]
  },
  {
   "cell_type": "code",
   "execution_count": null,
   "metadata": {},
   "outputs": [],
   "source": [
    "print(\"merge me with neighbors\")"
   ]
  },
  {
   "cell_type": "markdown",
   "metadata": {},
   "source": [
    "------"
   ]
  },
  {
   "cell_type": "markdown",
   "metadata": {},
   "source": [
    "Experiment with changing the following cells to `code` and `markdown` modes"
   ]
  },
  {
   "cell_type": "code",
   "execution_count": null,
   "metadata": {},
   "outputs": [],
   "source": [
    "```\n",
    "print(\"I should be in Markdown mode. In command mode, type `M` to change me to markdown. Then type `shift` + `enter` to see the proper markkup\")\n",
    "```"
   ]
  },
  {
   "cell_type": "markdown",
   "metadata": {},
   "source": [
    "print(\"I should be code. Select me and then type `Y` to change me to `code` mode`\")"
   ]
  },
  {
   "cell_type": "markdown",
   "metadata": {},
   "source": [
    "## Edit Mode\n",
    "\n",
    "In the following cell, use the `cmd` + `double click` on Mac OS or `ctrl` + `double click` on windows/linux to quickly change all occurences of `variable_x` to `var_x`; for example, for `variable_a`, use `ctrl` + `double click` highlight all instances of `variable_a`, now start typing, you should see all the names changing at the same time."
   ]
  },
  {
   "cell_type": "code",
   "execution_count": null,
   "metadata": {},
   "outputs": [],
   "source": [
    "variable_a = 1\n",
    "variable_b = variable_a*2\n",
    "variable_c = variable_a + variable_b"
   ]
  },
  {
   "cell_type": "markdown",
   "metadata": {},
   "source": [
    "When defining functions in Python, indentation is important (uh...), running the code cell below gives you an error. Select the following `linex_fix_indent`s, press `Tab` to indent them and run again."
   ]
  },
  {
   "cell_type": "code",
   "execution_count": null,
   "metadata": {},
   "outputs": [],
   "source": [
    "def my_func():\n",
    "line1_fix_indent\n",
    "line2_fix_indent\n",
    "line3_fix_indent\n",
    "line4_fix_indent"
   ]
  },
  {
   "cell_type": "markdown",
   "metadata": {},
   "source": [
    "___\n",
    "Select the entire text in the next cell and click `cmd` + `/` on Mac OS or `ctrl` + `/` on Windows/Linux to toggle comment lines"
   ]
  },
  {
   "cell_type": "code",
   "execution_count": null,
   "metadata": {},
   "outputs": [],
   "source": [
    "print(\"this\")\n",
    "print(\"will be\")\n",
    "print(\"a big\")\n",
    "print(\"block of\")\n",
    "print(\"text to comment\")"
   ]
  },
  {
   "cell_type": "markdown",
   "metadata": {},
   "source": [
    "---\n",
    "\n",
    "Run the next cell to import the `math` module we used in Lecture 1 and then put your cursor next to the `math.` in cell following it. Then, press `tab` to see what code completions are available."
   ]
  },
  {
   "cell_type": "code",
   "execution_count": null,
   "metadata": {},
   "outputs": [],
   "source": [
    "import math"
   ]
  },
  {
   "cell_type": "code",
   "execution_count": null,
   "metadata": {},
   "outputs": [],
   "source": [
    "math."
   ]
  },
  {
   "cell_type": "markdown",
   "metadata": {},
   "source": [
    "These completions are functions available to use in the `math` module."
   ]
  },
  {
   "cell_type": "markdown",
   "metadata": {},
   "source": [
    "Put your cursor between the `()` in the `math.isclose()` code below. Then press `shift` + `tab` to get the tooltip."
   ]
  },
  {
   "cell_type": "code",
   "execution_count": null,
   "metadata": {},
   "outputs": [],
   "source": [
    "math.isclose()"
   ]
  },
  {
   "cell_type": "markdown",
   "metadata": {},
   "source": [
    "Try getting the tooltips for the following functions in `numpy` which we will use extensively in our class. Import the `numpy` module as `np` first, then repeat the `shift` + `tab` to get the tooltips."
   ]
  },
  {
   "cell_type": "code",
   "execution_count": null,
   "metadata": {},
   "outputs": [],
   "source": [
    "import numpy as np"
   ]
  },
  {
   "cell_type": "code",
   "execution_count": null,
   "metadata": {},
   "outputs": [],
   "source": [
    "np.array()"
   ]
  },
  {
   "cell_type": "code",
   "execution_count": null,
   "metadata": {},
   "outputs": [],
   "source": [
    "np.zeros()"
   ]
  },
  {
   "cell_type": "code",
   "execution_count": null,
   "metadata": {},
   "outputs": [],
   "source": [
    "np.linspace()"
   ]
  },
  {
   "cell_type": "code",
   "execution_count": null,
   "metadata": {},
   "outputs": [],
   "source": [
    "np.mean()"
   ]
  },
  {
   "cell_type": "markdown",
   "metadata": {},
   "source": [
    "---"
   ]
  },
  {
   "cell_type": "markdown",
   "metadata": {},
   "source": [
    "Use `ctrl` + `shift` + `-` (last key is a minus, same for Mac OS and Windows) to split the following cell between the two functions"
   ]
  },
  {
   "cell_type": "code",
   "execution_count": null,
   "metadata": {},
   "outputs": [],
   "source": [
    "def func1():\n",
    "    print(\"I'm func1. Separate me from func2\")\n",
    "    \n",
    "def func2():\n",
    "    print(\"I'm func2. Separate me from func1\")"
   ]
  },
  {
   "cell_type": "markdown",
   "metadata": {},
   "source": [
    "#### Command Palette\n",
    "\n",
    "`cmd` + `shift` + `p` on Mac OS\n",
    "`ctrl` + `shift` + `p` on Windows/Linux\n",
    "\n",
    "Want quick access to all the commands in Jupyter Notebooks? Open the command palette with `cmd` + `shift` + `p` and you'll quickly be able to search all the commands!"
   ]
  },
  {
   "cell_type": "markdown",
   "metadata": {},
   "source": [
    "Try pulling out the command palette, enter `clear` first, then all the commands with the word `clear` in it will be auto-completed, try clearing all outputs from all cells."
   ]
  },
  {
   "cell_type": "markdown",
   "metadata": {},
   "source": [
    "#### View all keyboard shortcuts\n",
    "\n",
    "`H` (in Command mode)\n",
    "\n",
    "Forget what that keyboard shortcut is? Type `H` in Command mode for a list of all available keyboard shortcuts."
   ]
  },
  {
   "cell_type": "markdown",
   "metadata": {},
   "source": [
    "## Lab 1 Optional Practice:\n",
    "\n",
    "Re-run all cells from Lecture 1 notebook."
   ]
  },
  {
   "cell_type": "markdown",
   "metadata": {},
   "source": [
    "## Lab 1 Assignment Preview:\n",
    "\n",
    "solving quadratic equations using what we have learned in Lecture 1 and 2."
   ]
  }
 ],
 "metadata": {
  "kernelspec": {
   "display_name": "Python 3",
   "language": "python",
   "name": "python3"
  },
  "language_info": {
   "codemirror_mode": {
    "name": "ipython",
    "version": 3
   },
   "file_extension": ".py",
   "mimetype": "text/x-python",
   "name": "python",
   "nbconvert_exporter": "python",
   "pygments_lexer": "ipython3",
   "version": "3.7.1"
  }
 },
 "nbformat": 4,
 "nbformat_minor": 1
}
