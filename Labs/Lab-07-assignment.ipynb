{
 "cells": [
  {
   "cell_type": "markdown",
   "metadata": {},
   "source": [
    "# Lab 7 Assignment: \n",
    "\n",
    "### Please type your name here:\n",
    "### Do not forget to change the filename with your name appended\n",
    "\n",
    "In this lab please fill the indicated cells with your code and explainations, ***run*** everything (select `cell` in the menu, and click `Run all`), save the notebook with your name appended to the filename (for example, `Lab-07-assignment-shuhaocao.ipynb`), and upload it to Canvas.\n",
    "<br><br>\n",
    "This lab assignment contains one problem. \n",
    "<br><br>\n",
    "Read each problem carefully and answer them the best you can. You may copy the code from the Lecture 17's notebook. Even though a better way would be copy the code from Lecture 17, make the codes comment-like, type the codes by yourself using auto-completion.\n",
    "<br><br>\n",
    "For how to use a function, instead of asking others (TA, friend, your neighbor), you can put the cursor inside an empty parenthesis, press `Shift + Tab` (hold the shift key, press tab) to read the help in the pop up window."
   ]
  },
  {
   "cell_type": "code",
   "execution_count": null,
   "metadata": {},
   "outputs": [],
   "source": [
    "# you might find the following useful\n",
    "import numpy as np\n",
    "import matplotlib.pyplot as plt\n",
    "%matplotlib inline"
   ]
  },
  {
   "cell_type": "markdown",
   "metadata": {},
   "source": [
    "# Problem 1: Multi-dimensional data fitting\n",
    "\n",
    "Download the `winequality-red.csv` from [UCI machine learning repo on Kaggle](https://www.kaggle.com/uciml/red-wine-quality-cortez-et-al-2009/) or [UCI machine learn repo](https://archive.ics.uci.edu/ml/datasets/Wine+Quality), unzip it and put it in the same directory with this notebook. If you download the set from UCI website, you might want to check the csv file in a text editor to change the delimiter.\n",
    "\n",
    "If you have done so, please complete the following task.\n",
    "* Train a multivariate linear regression model using that has features including `fixed acidity`, `volative_acid`, `citric acid`, `free sulfur dioxide`, `total sulfur dioxide` (input values), `pH` as target value (output). Use the script in the next cell to load the data as an array. Normalize every feature and target value by subtracting their means, respectively, so that we do not have to worry about the bias. You do not have to add a regularization either.\n",
    "* Split the data to training samples (50%) and testing samples (50%) (you may import the `train_test_split` from `sklearn.model_selection` if you do not want to split the data using shuffle and slicing manually).\n",
    "* (For grading) Compute the mean square error between the predicted target value using the trained weights and the actual one.\n",
    "* (For grading) Compute the $R^2$ statistics from Lecture 17 (you should get something that is $>0.5$, which is deemed as acceptable as a regression model).\n",
    "* Try other combinations train-test split ratio, e.g., 80%-20%, 67%-33%, 33%-67% What have you observed?\n",
    "\n",
    "You can implement from scratch using solely `numpy`, or import some existing classes or modules in `scikit-learn` (refering Lecture 15 notebook)."
   ]
  },
  {
   "cell_type": "code",
   "execution_count": null,
   "metadata": {},
   "outputs": [],
   "source": [
    "wine_data = np.loadtxt('winequality-red.csv', delimiter=',', skiprows=1)"
   ]
  },
  {
   "cell_type": "code",
   "execution_count": null,
   "metadata": {},
   "outputs": [],
   "source": [
    "# your code here"
   ]
  },
  {
   "cell_type": "markdown",
   "metadata": {},
   "source": [
    "## Visualization\n",
    "\n",
    "When you have done the tasks above, use the following routine to visualize the multidimensional regression."
   ]
  },
  {
   "cell_type": "code",
   "execution_count": null,
   "metadata": {},
   "outputs": [],
   "source": [
    "import pandas as pd\n",
    "wine_data_vis = pd.read_csv('winequality-red.csv')\n",
    "wine_data_vis[:10]"
   ]
  },
  {
   "cell_type": "code",
   "execution_count": null,
   "metadata": {},
   "outputs": [],
   "source": [
    "import seaborn as sns\n",
    "sns.set(style='white')\n",
    "fig, axes = plt.subplots(4,2, figsize=(16, 24))\n",
    "sns.regplot(ax = axes[0,0], x=\"citric acid\", y=\"pH\", x_bins=30, data=wine_data_vis)\n",
    "sns.regplot(ax = axes[0,1], x=\"volatile acidity\", y=\"pH\", x_bins=30, data=wine_data_vis)\n",
    "sns.regplot(ax = axes[1,0], x=\"fixed acidity\", y=\"pH\", x_bins=30, data=wine_data_vis)\n",
    "sns.regplot(ax = axes[1,1], x=\"chlorides\", y=\"pH\", x_bins=30, data=wine_data_vis)\n",
    "sns.regplot(ax = axes[2,0], x=\"free sulfur dioxide\", y=\"pH\", x_bins=30, data=wine_data_vis)\n",
    "sns.regplot(ax = axes[2,1], x=\"total sulfur dioxide\", y=\"pH\", x_bins=30, data=wine_data_vis)\n",
    "sns.regplot(ax = axes[3,0], x=\"alcohol\", y=\"pH\", x_bins=30, data=wine_data_vis)\n",
    "sns.regplot(ax = axes[3,1], x=\"sulphates\", y=\"pH\", x_bins=30, data=wine_data_vis)\n",
    "axes[3,1].set_xlim([0.4, 1.2])\n",
    "axes[3,1].set_ylim([3, 3.5])"
   ]
  },
  {
   "cell_type": "markdown",
   "metadata": {},
   "source": [
    "# Extra question:\n",
    "\n",
    "Based on the visualization above, can you propose a better regression model for `pH` target value by deleting or adding certain feature(s) from the previous model? Test your guesses."
   ]
  }
 ],
 "metadata": {
  "anaconda-cloud": {},
  "kernelspec": {
   "display_name": "Python 3",
   "language": "python",
   "name": "python3"
  },
  "language_info": {
   "codemirror_mode": {
    "name": "ipython",
    "version": 3
   },
   "file_extension": ".py",
   "mimetype": "text/x-python",
   "name": "python",
   "nbconvert_exporter": "python",
   "pygments_lexer": "ipython3",
   "version": "3.7.2"
  }
 },
 "nbformat": 4,
 "nbformat_minor": 2
}
