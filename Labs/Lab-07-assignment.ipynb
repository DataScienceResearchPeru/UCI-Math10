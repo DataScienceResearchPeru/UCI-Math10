{
 "cells": [
  {
   "cell_type": "markdown",
   "metadata": {},
   "source": [
    "# Lab 7 Assignment: \n",
    "\n",
    "### Please type your name here:\n",
    "### Do not forget to change the filename with your name appended\n",
    "\n",
    "In this lab please fill the indicated cells with your code and explainations, ***run*** everything (select `cell` in the menu, and click `Run all`), save the notebook with your name appended to the filename (for example, `Lab-08-assignment-caos.ipynb`), and upload it to Canvas.\n",
    "<br><br>\n",
    "This lab assignment contains one problem about the implementation of the softmax regression, and one optional problem for you to try after the lab.\n",
    "<br><br>\n",
    "Read each problem statement carefully and answer them the best you can. You may copy the code from the Lectures' notebook. Even though a better way would be copy the code from Lectures, make the codes comment-like, type the codes by yourself using auto-completion.\n",
    "<br><br>\n",
    "For how to use a function, instead of asking others (TA, friend, your neighbor), you can put the cursor inside an empty parenthesis, press `Shift + Tab` (hold the shift key, press tab) to read the help in the pop up window."
   ]
  },
  {
   "cell_type": "code",
   "execution_count": null,
   "metadata": {},
   "outputs": [],
   "source": [
    "# you might find the following useful\n",
    "import numpy as np\n",
    "import matplotlib.pyplot as plt\n",
    "%matplotlib inline"
   ]
  },
  {
   "cell_type": "markdown",
   "metadata": {},
   "source": [
    "# Problem 1: k-fold training/cross-validation\n",
    "\n",
    "Use the `np.load` routine in Lecture 18 to import the training and testing data/labels as `X_train`, `y_train`, and `X_test`, `y_test` from the npz files on Canvas. \n",
    "\n",
    "If you have done so, please complete the following task.\n",
    "\n",
    "* Read the reference of the [`LogisticRegression` class](https://scikit-learn.org/stable/modules/generated/sklearn.linear_model.LogisticRegression.html) in `scikit-learn`, and learn how to use it for multiclass classifier by change the `multi_class` toggle when initializing the class (you can refer to Lecture 18 notebook as well). Then you have to train a softmax regression model using the MNIST data.\n",
    "* (Graded) In machine learning competitions on Kaggle, we often use a **k-fold training/cross-validation strategy** to pick a model that performs best on cross-validation dataset. Split the **training** data into 4 folds, i.e., split `X_train` and `y_train` into four chunks, each chunk has 15000 training samples (data and labels).\n",
    "* (Graded) Use `scikit-learn`'s `LogisticRegression` class to train 4 models (4 weights for softmax regression, you may want to name each class differently when initializing) using the 4-fold training data split in the previous step. For each model, you are using 3 chunks as the training data, and 1 chunk as the cross-validation data. For example, model no.1 should use chunk 1 as the CV data and chunk 2,3,4 as the training data; model no.2 should use chunk 2 as CV while chunk 1,3,4 as training, etc. Please use the same hyper-parameters and settings in the `LogisticRegression` class for each model (learning rate, optimizer, maximum iterations, etc).\n",
    "* Now rank your 4 models based on their prediction accuracies on the cross-validation sets. Use these models on the testing set to get `y_pred`, check the accuracy vs `y_test`. What you have observed about their performances?\n",
    "\n",
    "\n",
    "Expected accuracy: your best model should get over 80% correct on the prediction for `X_test`.\n"
   ]
  }
 ],
 "metadata": {
  "anaconda-cloud": {},
  "kernelspec": {
   "display_name": "Python 3",
   "language": "python",
   "name": "python3"
  },
  "language_info": {
   "codemirror_mode": {
    "name": "ipython",
    "version": 3
   },
   "file_extension": ".py",
   "mimetype": "text/x-python",
   "name": "python",
   "nbconvert_exporter": "python",
   "pygments_lexer": "ipython3",
   "version": "3.7.2"
  },
  "latex_envs": {
   "LaTeX_envs_menu_present": true,
   "autoclose": true,
   "autocomplete": true,
   "bibliofile": "biblio.bib",
   "cite_by": "apalike",
   "current_citInitial": 1,
   "eqLabelWithNumbers": true,
   "eqNumInitial": 1,
   "hotkeys": {
    "equation": "Ctrl-E",
    "itemize": "Ctrl-I"
   },
   "labels_anchors": false,
   "latex_user_defs": false,
   "report_style_numbering": false,
   "user_envs_cfg": false
  },
  "varInspector": {
   "cols": {
    "lenName": 16,
    "lenType": 16,
    "lenVar": 40
   },
   "kernels_config": {
    "python": {
     "delete_cmd_postfix": "",
     "delete_cmd_prefix": "del ",
     "library": "var_list.py",
     "varRefreshCmd": "print(var_dic_list())"
    },
    "r": {
     "delete_cmd_postfix": ") ",
     "delete_cmd_prefix": "rm(",
     "library": "var_list.r",
     "varRefreshCmd": "cat(var_dic_list()) "
    }
   },
   "types_to_exclude": [
    "module",
    "function",
    "builtin_function_or_method",
    "instance",
    "_Feature"
   ],
   "window_display": false
  }
 },
 "nbformat": 4,
 "nbformat_minor": 2
}
