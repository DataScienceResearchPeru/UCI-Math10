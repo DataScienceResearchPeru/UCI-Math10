{
 "cells": [
  {
   "cell_type": "markdown",
   "metadata": {},
   "source": [
    "# Lab 3 Assignment: \n",
    "\n",
    "### Please type your name here:\n",
    "### Do not forget to change the filename with your name appended\n",
    "\n",
    "In this lab please fill the indicated cells with your code and explainations, ***run*** everything (select `cell` in the menu, and click `Run all`), save the notebook with your name appended to the filename (for example, `Lab-03-assignment-shuhaocao.ipynb`), and upload it to Canvas.\n",
    "<br><br>\n",
    "This lab assignment contains three problems (that need to be turned in), and one extra problem (for you to try after lab). Even the fourth \n",
    "<br><br>\n",
    "Read each problem carefully and answer them the best you can. You may type the code from Lecture 6 and 7 notebooks, please do not just copy/paste, rather use type and auto-complete by pressing Tab."
   ]
  },
  {
   "cell_type": "markdown",
   "metadata": {},
   "source": [
    "## Numpy Arrays\n",
    "All the problems today are involving numpy arrays, please import `numpy` module first."
   ]
  },
  {
   "cell_type": "code",
   "execution_count": 1,
   "metadata": {},
   "outputs": [],
   "source": [
    "import numpy as np"
   ]
  },
  {
   "cell_type": "markdown",
   "metadata": {},
   "source": [
    "## Review: vectorization\n",
    "We can create an array using the following line:"
   ]
  },
  {
   "cell_type": "code",
   "execution_count": 18,
   "metadata": {},
   "outputs": [
    {
     "data": {
      "text/plain": [
       "array([[ 2.,  2.,  3.],\n",
       "       [ 4.,  6.,  6.],\n",
       "       [ 7.,  8., 10.]])"
      ]
     },
     "execution_count": 18,
     "metadata": {},
     "output_type": "execute_result"
    }
   ],
   "source": [
    "arr1 = np.identity(3) + 1 + np.array(range(9)).reshape(3,3)\n",
    "arr1"
   ]
  },
  {
   "cell_type": "code",
   "execution_count": 12,
   "metadata": {},
   "outputs": [
    {
     "data": {
      "text/plain": [
       "array([[ 1,  2,  3],\n",
       "       [ 8,  9, 10],\n",
       "       [15, 16, 17]])"
      ]
     },
     "execution_count": 12,
     "metadata": {},
     "output_type": "execute_result"
    }
   ],
   "source": [
    "arr2 = np.array(range(9)).reshape(3,3) + np.array([[1],[5],[9]])\n",
    "arr2"
   ]
  },
  {
   "cell_type": "code",
   "execution_count": 10,
   "metadata": {},
   "outputs": [],
   "source": [
    "def myfunc(a, b):\n",
    "    # Return a-b if a>b, otherwise return a+b\n",
    "    if a > b:\n",
    "        return a - b\n",
    "    else:\n",
    "        return a + b"
   ]
  },
  {
   "cell_type": "markdown",
   "metadata": {},
   "source": [
    "Now directly using this function on an array will give you error."
   ]
  },
  {
   "cell_type": "code",
   "execution_count": null,
   "metadata": {},
   "outputs": [],
   "source": [
    "myfunc(arr1, 2) \n",
    "# please delete this cell before submitting, it will give you error and is only for demonstration purpose"
   ]
  },
  {
   "cell_type": "code",
   "execution_count": 16,
   "metadata": {},
   "outputs": [
    {
     "name": "stdout",
     "output_type": "stream",
     "text": [
      "[[ 2.  2.  3.]\n",
      " [ 4.  6.  6.]\n",
      " [ 7.  8. 10.]] \n",
      "\n",
      "[[4. 4. 1.]\n",
      " [2. 4. 4.]\n",
      " [5. 6. 8.]]\n"
     ]
    }
   ],
   "source": [
    "print(arr1,\"\\n\")\n",
    "zs = np.vectorize(myfunc)(arr1, 2)\n",
    "print(zs)"
   ]
  },
  {
   "cell_type": "markdown",
   "metadata": {},
   "source": [
    "### Please complete Problem 1 and 2 for grading, Problem 3 is not graded but is very important"
   ]
  },
  {
   "cell_type": "markdown",
   "metadata": {},
   "source": [
    "## Problem 1:\n",
    "Create the following 3 by 3 matrix (multi-dimensional array) using a vectorized routine in the `numpy` module (either `float` or `int` is fine).\n",
    "$$\\begin{pmatrix} \n",
    "1   & 2  & 3 \\\\\n",
    "5   & 6  & 7 \\\\\n",
    "9  & 10  & 11 \n",
    "\\end{pmatrix}$$\n",
    "*No* `for` loop nor any slicing operand `:` should be used."
   ]
  },
  {
   "cell_type": "code",
   "execution_count": null,
   "metadata": {
    "scrolled": true
   },
   "outputs": [],
   "source": [
    "# code for Problem 1 here.\n"
   ]
  },
  {
   "cell_type": "markdown",
   "metadata": {},
   "source": [
    "## Problem 2\n",
    "Plot the following function g(x) for $x$ in $[-\\pi,\\pi]$ using `matplotlib` and `numpy` using exactly 1000 points in `np.linspace` function. Use the `math` module to import $\\pi$. You can NOT import `math10.py` to do the plot for you.\n",
    "\n",
    "$ g(x) =\n",
    "  \\begin{cases}\n",
    "    x^{2}\\sin\\left(x^{3}\\right)       & \\quad \\text{if } x \\neq 0\\\\\n",
    "    0 & \\quad \\text{if } x = 0\\\\\n",
    "  \\end{cases}$\n",
    "\n",
    "You may check Lecture 4's annotated notebook in our class's [Github repo](https://github.com/scaomath/UCI-Math10-Winter19)."
   ]
  },
  {
   "cell_type": "code",
   "execution_count": null,
   "metadata": {},
   "outputs": [],
   "source": [
    "# code for Problem 2 here.\n"
   ]
  },
  {
   "cell_type": "markdown",
   "metadata": {},
   "source": [
    "## Problem 3 (not graded but very important)\n",
    "\n",
    "You are given the following numpy array which contains stock prices for the last five days.  "
   ]
  },
  {
   "cell_type": "code",
   "execution_count": 8,
   "metadata": {},
   "outputs": [],
   "source": [
    "import numpy as np\n",
    "names = np.array([\"AAPL\", \"GOOGL\", \"TSLA\", \"NVDA\"])\n",
    "# each row is a company\n",
    "X = np.array([[135.55, 135.30, 136.26, 136.63, 137.20], \n",
    "              [838.97, 845.83, 851.24, 848.50, 850.01],\n",
    "              [279.25, 270.67, 268.04, 278.88, 275.53],\n",
    "              [108.24, 106.83, 107.14, 110.52, 110.64]])"
   ]
  },
  {
   "cell_type": "markdown",
   "metadata": {},
   "source": [
    "### Problem 3 (a)\n",
    "Produce an 1-dimensional **structured** array (with 4 elements) which will contain the company name and the **average** price of each stock **in the last 3 days**. \n",
    "<br><br>\n",
    "**Hint**: use array slicing (i.e. taking `X[??,??]` where ?? are expressions that have `:` in them) and `np.apply_along_axis` and `np.mean`."
   ]
  },
  {
   "cell_type": "code",
   "execution_count": null,
   "metadata": {},
   "outputs": [],
   "source": [
    "# initialize this structured array\n",
    "X_avg = np.array([(\"\", 0.0), (\"\", 0.0), (\"\", 0.0), (\"\", 0.0)], \n",
    "                 dtype = [('name', 'S10'), ('avg_price', 'f8')])\n",
    "print(X_avg['name'])\n",
    "print(X_avg['avg_price'])\n",
    "# your code here\n"
   ]
  },
  {
   "cell_type": "markdown",
   "metadata": {},
   "source": [
    "### Problem 3 (b)\n",
    "\n",
    "Say four new days of data are given to you as a numpy array called `Y` in the cell that follows. What would the shape of `Y` be? How would you make a new array for all the prices together? \n",
    "<br><br>\n",
    "**Remark**: you can use slicing to set things too, like `X[0,:] = Z[3,:]` will make `X`'s row 0 (first row) be set to `Z`'s row 3 (4th row)."
   ]
  },
  {
   "cell_type": "code",
   "execution_count": null,
   "metadata": {},
   "outputs": [],
   "source": [
    "Y = np.array([[139.,140.,141., 144.],\n",
    "              [840., 841., 838., 836], \n",
    "              [276., 276., 277., 280], \n",
    "              [110., 108., 107., 109]])"
   ]
  },
  {
   "cell_type": "code",
   "execution_count": 20,
   "metadata": {},
   "outputs": [],
   "source": [
    "# your code here"
   ]
  }
 ],
 "metadata": {
  "anaconda-cloud": {},
  "kernelspec": {
   "display_name": "Python 3",
   "language": "python",
   "name": "python3"
  },
  "language_info": {
   "codemirror_mode": {
    "name": "ipython",
    "version": 3
   },
   "file_extension": ".py",
   "mimetype": "text/x-python",
   "name": "python",
   "nbconvert_exporter": "python",
   "pygments_lexer": "ipython3",
   "version": "3.7.1"
  }
 },
 "nbformat": 4,
 "nbformat_minor": 2
}
