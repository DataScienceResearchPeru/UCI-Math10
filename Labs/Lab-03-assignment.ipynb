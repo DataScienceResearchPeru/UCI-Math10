{
 "cells": [
  {
   "cell_type": "markdown",
   "metadata": {},
   "source": [
    "# Lab 3 Assignment: \n",
    "\n",
    "### Please type your name here:\n",
    "### Do not forget to change the filename with your name appended\n",
    "\n",
    "In this lab please fill the indicated cells with your code and explainations, ***run*** everything (select `cell` in the menu, and click `Run all`), save the notebook with your name appended to the filename (for example, `Lab-03-assignment-caos.ipynb`), and upload it to Canvas.\n",
    "<br><br>\n",
    "This lab assignment contains three problems.\n",
    "<br><br>\n",
    "Read each problem carefully and answer them the best you can. You may type the code from Lecture notebooks, please do not just copy/paste, rather use type and auto-complete by pressing Tab."
   ]
  },
  {
   "cell_type": "code",
   "execution_count": 3,
   "metadata": {},
   "outputs": [],
   "source": [
    "# as always\n",
    "import numpy as np\n",
    "import pandas as pd\n",
    "import matplotlib.pyplot as plt\n",
    "%matplotlib inline"
   ]
  },
  {
   "cell_type": "markdown",
   "metadata": {},
   "source": [
    "## Review: vectorization\n",
    "We can create an array using the following line:"
   ]
  },
  {
   "cell_type": "code",
   "execution_count": 9,
   "metadata": {},
   "outputs": [
    {
     "data": {
      "text/plain": [
       "array([[ 2.,  2.,  3.],\n",
       "       [ 4.,  6.,  6.],\n",
       "       [ 7.,  8., 10.]])"
      ]
     },
     "execution_count": 9,
     "metadata": {},
     "output_type": "execute_result"
    }
   ],
   "source": [
    "arr1 = np.identity(3) + 1 + np.arange(9).reshape(3,3)\n",
    "arr1"
   ]
  },
  {
   "cell_type": "code",
   "execution_count": 10,
   "metadata": {},
   "outputs": [
    {
     "data": {
      "text/plain": [
       "array([[ 1,  2,  3],\n",
       "       [ 8,  9, 10],\n",
       "       [15, 16, 17]])"
      ]
     },
     "execution_count": 10,
     "metadata": {},
     "output_type": "execute_result"
    }
   ],
   "source": [
    "arr2 = np.arange(9).reshape(3,3) + np.array([[1],[5],[9]])\n",
    "arr2"
   ]
  },
  {
   "cell_type": "code",
   "execution_count": 5,
   "metadata": {},
   "outputs": [],
   "source": [
    "def myfunc(a, b):\n",
    "    # Return a-b if a>b, otherwise return a+b\n",
    "    if a > b:\n",
    "        return a - b\n",
    "    else:\n",
    "        return a + b"
   ]
  },
  {
   "cell_type": "markdown",
   "metadata": {},
   "source": [
    "Now directly using this function on an array will give you error."
   ]
  },
  {
   "cell_type": "code",
   "execution_count": null,
   "metadata": {},
   "outputs": [],
   "source": [
    "myfunc(arr1, 2) \n",
    "# please delete this cell before submitting, it will give you error and is only for demonstration purpose"
   ]
  },
  {
   "cell_type": "code",
   "execution_count": 8,
   "metadata": {},
   "outputs": [
    {
     "name": "stdout",
     "output_type": "stream",
     "text": [
      "[[ 2.  2.  3.]\n",
      " [ 4.  6.  6.]\n",
      " [ 7.  8. 10.]] \n",
      "\n",
      "[[4. 4. 1.]\n",
      " [2. 4. 4.]\n",
      " [5. 6. 8.]]\n"
     ]
    }
   ],
   "source": [
    "print(arr1,\"\\n\")\n",
    "zs = np.vectorize(myfunc)(arr1, 2)\n",
    "print(zs) # now this function is applied elementwisely"
   ]
  },
  {
   "cell_type": "markdown",
   "metadata": {},
   "source": [
    "## Problem 1 (graded):\n",
    "Create the following 5 by 5 matrix (multi-dimensional array) using a vectorized routine in the `numpy` module (either `float` or `int` is fine).\n",
    "```python\n",
    "array([[ 0,  0,  0,  0,  0],\n",
    "       [ 0,  1,  2,  3,  0],\n",
    "       [ 0,  5,  6,  7,  0],\n",
    "       [ 0,  9, 10, 11,  0],\n",
    "       [ 0,  0,  0,  0,  0]])\n",
    "```\n",
    "*No* `for` nor `while` loops should be used."
   ]
  },
  {
   "cell_type": "code",
   "execution_count": null,
   "metadata": {
    "scrolled": true
   },
   "outputs": [],
   "source": [
    "# code for Problem 1 here.\n"
   ]
  },
  {
   "cell_type": "markdown",
   "metadata": {},
   "source": [
    "## Problem 2 (graded)\n",
    "Plot the following function g(x) for $x$ in $[-\\pi,\\pi]$ using `matplotlib` with exactly 1000 points in `np.linspace` function. Use the `math` module to import $\\pi$. You can NOT import `math10.py` to do the plot for you.\n",
    "\n",
    "$ g(x) =\n",
    "  \\begin{cases}\n",
    "    x^{2}\\sin\\left(x^{3}\\right)       & \\quad \\text{if } x \\neq 0\\\\\n",
    "    0 & \\quad \\text{if } x = 0\\\\\n",
    "  \\end{cases}$"
   ]
  },
  {
   "cell_type": "code",
   "execution_count": null,
   "metadata": {},
   "outputs": [],
   "source": [
    "# code for Problem 2 here.\n"
   ]
  },
  {
   "cell_type": "markdown",
   "metadata": {},
   "source": [
    "## Problem 3\n",
    "\n",
    "Load the `Iris.csv` dataset on Canvas using the following cell, then plot the histograms for all 4 features `SepalLengthCm`, `SepalWidthCm`, `PetalLengthCm`, `PetalWidthCm` in 4 separate figures.\n",
    "\n",
    "You may use 4 cells to do this, or you may use `subplots` of which the usage can be learned from an example of [matplotlib reference](https://matplotlib.org/gallery/subplots_axes_and_figures/subplots_demo.html).\n",
    "\n",
    "Reference: Lab 3 practice."
   ]
  },
  {
   "cell_type": "code",
   "execution_count": null,
   "metadata": {},
   "outputs": [],
   "source": []
  }
 ],
 "metadata": {
  "anaconda-cloud": {},
  "kernelspec": {
   "display_name": "Python 3",
   "language": "python",
   "name": "python3"
  },
  "language_info": {
   "codemirror_mode": {
    "name": "ipython",
    "version": 3
   },
   "file_extension": ".py",
   "mimetype": "text/x-python",
   "name": "python",
   "nbconvert_exporter": "python",
   "pygments_lexer": "ipython3",
   "version": "3.7.2"
  },
  "latex_envs": {
   "LaTeX_envs_menu_present": true,
   "autoclose": true,
   "autocomplete": true,
   "bibliofile": "biblio.bib",
   "cite_by": "apalike",
   "current_citInitial": 1,
   "eqLabelWithNumbers": true,
   "eqNumInitial": 1,
   "hotkeys": {
    "equation": "Ctrl-E",
    "itemize": "Ctrl-I"
   },
   "labels_anchors": false,
   "latex_user_defs": false,
   "report_style_numbering": false,
   "user_envs_cfg": false
  },
  "varInspector": {
   "cols": {
    "lenName": 16,
    "lenType": 16,
    "lenVar": 40
   },
   "kernels_config": {
    "python": {
     "delete_cmd_postfix": "",
     "delete_cmd_prefix": "del ",
     "library": "var_list.py",
     "varRefreshCmd": "print(var_dic_list())"
    },
    "r": {
     "delete_cmd_postfix": ") ",
     "delete_cmd_prefix": "rm(",
     "library": "var_list.r",
     "varRefreshCmd": "cat(var_dic_list()) "
    }
   },
   "types_to_exclude": [
    "module",
    "function",
    "builtin_function_or_method",
    "instance",
    "_Feature"
   ],
   "window_display": false
  }
 },
 "nbformat": 4,
 "nbformat_minor": 2
}
