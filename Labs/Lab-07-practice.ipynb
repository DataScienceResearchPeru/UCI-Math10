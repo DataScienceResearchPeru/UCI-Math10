{
 "cells": [
  {
   "cell_type": "markdown",
   "metadata": {},
   "source": [
    "# Lab Practice Week 7\n",
    "\n",
    "This notebook does not need to be submitted. This is only for you to gain experience and get some practice."
   ]
  },
  {
   "cell_type": "code",
   "execution_count": 1,
   "metadata": {},
   "outputs": [],
   "source": [
    "# as always\n",
    "import numpy as np\n",
    "import matplotlib.pyplot as plt\n",
    "import pandas as pd\n",
    "%matplotlib inline"
   ]
  },
  {
   "cell_type": "markdown",
   "metadata": {},
   "source": [
    "# Problem 1: A binary classification of the wine\n",
    "\n",
    "\n",
    "Download the `winequality-red.csv` from [UCI machine learning repo on Kaggle](https://www.kaggle.com/uciml/red-wine-quality-cortez-et-al-2009/), unzip it and put it in the same directory with this notebook. Import it using `pandas` and extract the values from the dataframe.\n",
    "\n",
    "If you have done so, please complete the following task.\n",
    "* Goal: read the reference of the [logistic regression class](https://scikit-learn.org/stable/modules/generated/sklearn.linear_model.LogisticRegression.html) in `scikit-learn`, and learn how to use it. Then you have to train a logistic regression model using the wine quality data.\n",
    "* Split the data to training samples (67%) and testing samples (33%) (please import the `train_test_split` from `sklearn.model_selection` and fix the `random_state` parameter so that the test is replicable, read the manual by pressing `Shift+Tab` if you do not know how to use this function).\n",
    "* This time we will use all features from the first column (column 0) to the 11th column (column 10) as input values $X = (\\mathbf{x}^{(1)},\\dots, \\mathbf{x}^{(N)})^{\\top}$ so that each row of the matrix $X$ represent a data sample, `quality` as the target value $\\mathbf{y} = (y^{(1)} \\  \\cdots \\  y^{(N)})^{\\top}$, where $N$ is the number of samples.\n",
    "* Preprocessing data: if the `quality` of a wine is $\\geq 7$, relabel it as $y=1$ (favorable, class 1); if the `quality` of a wine is $\\leq 6$, relabel it as $y=0$ (mediocre, class 0).\n",
    "* (Graded) Train the logistic regression model by tuning a good parameter combination, for example, try different `solver` provided by the `LogisticRegression` class, increase the `max_iter` if the fitting function complains. Lastly, compute the accuracy score, that is\n",
    "$$\n",
    "\\frac{1}{N_{\\text{test}}} \\sum_{i = 1}^{N_{\\text{test}}} 1\\{y^{(i), \\text{Pred}} = y^{(i), \\text{Actual}} \\}.\n",
    "$$\n",
    "Expected accuracy: you should get over 80% correct on the prediction.\n",
    "* Try other combinations train-test split ratio, e.g., 80%-20%, 50%-50%, 33%-67% What have you observed?\n",
    "* If we preprocess the data by using the following: `quality` being $\\geq 5$, relabel it as $y=1$ (good, class 1), while `quality` $\\leq 4$, relabel it as $y=0$ (bad, class 0). What happen if we re-run the logistic regression for this classification?"
   ]
  },
  {
   "cell_type": "code",
   "execution_count": 2,
   "metadata": {},
   "outputs": [],
   "source": [
    "# load all 12 columns\n",
    "wine_data = pd.read_csv('winequality-red.csv')"
   ]
  },
  {
   "cell_type": "code",
   "execution_count": 3,
   "metadata": {},
   "outputs": [],
   "source": [
    "wine_data = wine_data.values"
   ]
  },
  {
   "cell_type": "code",
   "execution_count": null,
   "metadata": {},
   "outputs": [],
   "source": [
    "# set up X and y"
   ]
  },
  {
   "cell_type": "code",
   "execution_count": null,
   "metadata": {},
   "outputs": [],
   "source": [
    "# split the test and train data using a fixed random_state"
   ]
  },
  {
   "cell_type": "code",
   "execution_count": null,
   "metadata": {},
   "outputs": [],
   "source": [
    "# train the model and print the accuracy score"
   ]
  }
 ],
 "metadata": {
  "anaconda-cloud": {},
  "kernelspec": {
   "display_name": "Python 3",
   "language": "python",
   "name": "python3"
  },
  "language_info": {
   "codemirror_mode": {
    "name": "ipython",
    "version": 3
   },
   "file_extension": ".py",
   "mimetype": "text/x-python",
   "name": "python",
   "nbconvert_exporter": "python",
   "pygments_lexer": "ipython3",
   "version": "3.7.2"
  },
  "latex_envs": {
   "LaTeX_envs_menu_present": true,
   "autoclose": true,
   "autocomplete": true,
   "bibliofile": "biblio.bib",
   "cite_by": "apalike",
   "current_citInitial": 1,
   "eqLabelWithNumbers": true,
   "eqNumInitial": 1,
   "hotkeys": {
    "equation": "Ctrl-E",
    "itemize": "Ctrl-I"
   },
   "labels_anchors": false,
   "latex_user_defs": false,
   "report_style_numbering": false,
   "user_envs_cfg": false
  },
  "varInspector": {
   "cols": {
    "lenName": 16,
    "lenType": 16,
    "lenVar": 40
   },
   "kernels_config": {
    "python": {
     "delete_cmd_postfix": "",
     "delete_cmd_prefix": "del ",
     "library": "var_list.py",
     "varRefreshCmd": "print(var_dic_list())"
    },
    "r": {
     "delete_cmd_postfix": ") ",
     "delete_cmd_prefix": "rm(",
     "library": "var_list.r",
     "varRefreshCmd": "cat(var_dic_list()) "
    }
   },
   "types_to_exclude": [
    "module",
    "function",
    "builtin_function_or_method",
    "instance",
    "_Feature"
   ],
   "window_display": false
  }
 },
 "nbformat": 4,
 "nbformat_minor": 2
}
