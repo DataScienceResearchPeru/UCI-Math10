{
 "cells": [
  {
   "cell_type": "markdown",
   "metadata": {},
   "source": [
    "# Lab Practice Week 3\n",
    "\n",
    "This notebook does not need to be submitted. This is only for you to gain experience and get some practice."
   ]
  },
  {
   "cell_type": "markdown",
   "metadata": {},
   "source": [
    "## Numpy Arrays\n",
    "Today we will review all the manipulation from lectures for numpy arrays and how to use matplotlib to plot graphs."
   ]
  },
  {
   "cell_type": "code",
   "execution_count": null,
   "metadata": {},
   "outputs": [],
   "source": [
    "import numpy as np"
   ]
  },
  {
   "cell_type": "code",
   "execution_count": null,
   "metadata": {},
   "outputs": [],
   "source": [
    "# be familiar with the following built-in functions in numpy\n",
    "arrOne = np.zeros([3,3])\n",
    "arrTwo = np.ones([3,3])\n",
    "arrThree = np.identity(3)\n",
    "arrFour = np.identity(3) + 1\n",
    "arrFive = arrFour + np.array(range(9)).reshape(3,3)\n",
    "print(arrOne, \"\\n\") #recall \"\\n\" creates a new line. notice the additional spacing.\n",
    "print(arrTwo)\n",
    "print() # or we can use this to create additional spacing\n",
    "print(arrThree)\n",
    "print()\n",
    "print(arrFour, \"\\n\")\n",
    "print(\"Array no.5 is: \\n\", arrFive)"
   ]
  },
  {
   "cell_type": "code",
   "execution_count": null,
   "metadata": {},
   "outputs": [],
   "source": [
    "arrSix = np.array([ [3,7,1,2,9,6,2] ]) # Note the double square brackets.\n",
    "arrSeven = np.array([ [3],[7],[1],[2],[9],[6],[2] ]) # every element has a bracket\n",
    "arrEight = np.array([3,7,1,2,9,6,2]) # This is the single square bracket\n",
    "print(arrSix,\"\\n\")\n",
    "print(arrSeven)\n",
    "print()\n",
    "print(\"arrEight is the most commonly used: \\n\", arrEight)"
   ]
  },
  {
   "cell_type": "code",
   "execution_count": null,
   "metadata": {},
   "outputs": [],
   "source": [
    "print(arrSix.shape,\"\\n\")\n",
    "print(arrSeven.shape, \"\\n\")\n",
    "print(arrEight.shape)"
   ]
  },
  {
   "cell_type": "markdown",
   "metadata": {},
   "source": [
    "### Complete the following exercises."
   ]
  },
  {
   "cell_type": "markdown",
   "metadata": {},
   "source": [
    "### Exercise 1:\n",
    "Recall how we use `Matplotlib` to plot the graph of a 1D function (Reference: Lecture 4 annotated notebook), for example, if we want to plot:\n",
    "$$\n",
    "f(x) = \\sin(8x), \\quad \\text{for }x\\in [-\\pi, \\pi]\n",
    "$$"
   ]
  },
  {
   "cell_type": "code",
   "execution_count": null,
   "metadata": {},
   "outputs": [],
   "source": [
    "import numpy as np\n",
    "import matplotlib.pyplot as plt\n",
    "%matplotlib inline\n",
    "from math import pi"
   ]
  },
  {
   "cell_type": "code",
   "execution_count": null,
   "metadata": {
    "scrolled": true
   },
   "outputs": [],
   "source": [
    "# create an equal-distant linear space with 1000 points using numpy\n",
    "xs = np.linspace(-pi,pi,1000)\n",
    "# evaluate the function value at these 1000 points (using np.sin instead of math.sin)\n",
    "ys = np.sin(8*xs)"
   ]
  },
  {
   "cell_type": "code",
   "execution_count": null,
   "metadata": {},
   "outputs": [],
   "source": [
    "plt.plot(xs,ys)"
   ]
  },
  {
   "cell_type": "code",
   "execution_count": null,
   "metadata": {
    "scrolled": true
   },
   "outputs": [],
   "source": [
    "# if we want to specify color, reference grid\n",
    "plt.plot(xs,ys, color='red',linewidth=1.5)\n",
    "plt.grid(True, linestyle = 'dashed', alpha = 0.3)"
   ]
  },
  {
   "cell_type": "markdown",
   "metadata": {},
   "source": [
    "## Exercise 1: \n",
    "Now apply the routine above to plot function using 10, 100, 1000 points in `np.linspace`: \n",
    "$$\n",
    "f(x) = x\\sin(8x), \\quad \\text{for }x\\in [-\\pi, \\pi]\n",
    "$$\n",
    "what have you observed?"
   ]
  },
  {
   "cell_type": "code",
   "execution_count": null,
   "metadata": {},
   "outputs": [],
   "source": [
    "# insert your test for 10 points here\n"
   ]
  },
  {
   "cell_type": "markdown",
   "metadata": {},
   "source": [
    "**Note**: if you wondered why the graph looks wrong using 10 points in `np.linspace`, refer to Math 9 linear interpolation part."
   ]
  },
  {
   "cell_type": "code",
   "execution_count": null,
   "metadata": {},
   "outputs": [],
   "source": [
    "# insert your test for 100 points here\n"
   ]
  },
  {
   "cell_type": "code",
   "execution_count": null,
   "metadata": {},
   "outputs": [],
   "source": [
    "# insert your test for 1000 points here\n"
   ]
  },
  {
   "cell_type": "markdown",
   "metadata": {},
   "source": [
    "## Exercise 2:\n",
    "* Use the `listprimes()` function from Lab 2 assignment to create a list `primeList` containing the first 100 prime numbers. Then generate a numpy array `primeArray` using elements in `primeList`.\n",
    "* Reshape `primeArray` using `np.reshape` into a 4 row by 25 column array, then compute the sum of each row and the average of each column.\n",
    "* Create a function `primeFun(q)` that takes in a prime number $q$ and returns $q^{3}-512$ if $q>512$, else return $q^3 - 128$.\n",
    "* Using the scripts given below of `np.vectorize`, so that you can apply `primeFun()` to each entry of `primeArray` without any loop."
   ]
  },
  {
   "cell_type": "code",
   "execution_count": null,
   "metadata": {},
   "outputs": [],
   "source": [
    "#  you code here to list first 100 primes\n"
   ]
  },
  {
   "cell_type": "code",
   "execution_count": null,
   "metadata": {},
   "outputs": [],
   "source": [
    "# reshape"
   ]
  },
  {
   "cell_type": "code",
   "execution_count": null,
   "metadata": {},
   "outputs": [],
   "source": [
    "def primeFun(q):\n",
    "    # code for function here\n",
    "    "
   ]
  },
  {
   "cell_type": "code",
   "execution_count": null,
   "metadata": {},
   "outputs": [],
   "source": [
    "# test primeFun() using np.vectorize\n",
    "output = np.vectorize(primeFun)(primeArray)\n",
    "output"
   ]
  },
  {
   "cell_type": "code",
   "execution_count": null,
   "metadata": {},
   "outputs": [],
   "source": [
    "# test primeFun() without np.vectorize\n",
    "# this should give you error\n",
    "primeFun(primeArray)"
   ]
  },
  {
   "cell_type": "markdown",
   "metadata": {},
   "source": [
    "### Exercise 3:"
   ]
  },
  {
   "cell_type": "code",
   "execution_count": null,
   "metadata": {},
   "outputs": [],
   "source": [
    "# You are given the following two numpy arrays.\n",
    "arrX = np.array([[1],[7]])\n",
    "arrY = np.array([[4,-1]])"
   ]
  },
  {
   "cell_type": "code",
   "execution_count": null,
   "metadata": {
    "scrolled": true
   },
   "outputs": [],
   "source": [
    "# What is \"arrX.dot(arrY)\" doing? You can try to alter arrX and arrY's entries to test more\n",
    "print(arrX.dot(arrY))"
   ]
  },
  {
   "cell_type": "markdown",
   "metadata": {
    "collapsed": true
   },
   "source": [
    "Answer:"
   ]
  },
  {
   "cell_type": "code",
   "execution_count": null,
   "metadata": {},
   "outputs": [],
   "source": [
    "# what about *\n",
    "print(arrX*arrY)"
   ]
  },
  {
   "cell_type": "markdown",
   "metadata": {},
   "source": [
    "Answer:\n",
    "\n"
   ]
  }
 ],
 "metadata": {
  "anaconda-cloud": {},
  "kernelspec": {
   "display_name": "Python 3",
   "language": "python",
   "name": "python3"
  },
  "language_info": {
   "codemirror_mode": {
    "name": "ipython",
    "version": 3
   },
   "file_extension": ".py",
   "mimetype": "text/x-python",
   "name": "python",
   "nbconvert_exporter": "python",
   "pygments_lexer": "ipython3",
   "version": "3.7.1"
  }
 },
 "nbformat": 4,
 "nbformat_minor": 2
}
