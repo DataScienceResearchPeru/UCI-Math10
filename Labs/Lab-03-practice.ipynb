{
 "cells": [
  {
   "cell_type": "markdown",
   "metadata": {},
   "source": [
    "# Lab Practice Week 3\n",
    "\n",
    "This notebook does not need to be submitted. This is only for you to gain experience and get some practice."
   ]
  },
  {
   "cell_type": "code",
   "execution_count": null,
   "metadata": {},
   "outputs": [],
   "source": [
    "import numpy as np\n",
    "from math import pi\n",
    "import matplotlib.pyplot as plt\n",
    "%matplotlib inline"
   ]
  },
  {
   "cell_type": "markdown",
   "metadata": {},
   "source": [
    "## Example 1 (Plot)\n",
    "Recall how we use the plot function in `matplotlib.pyplot` to plot the graph of a 1D function (Reference: Lecture 5 annotated notebook), for example, if we want to plot:\n",
    "$$\n",
    "f(x) = \\sin(8x), \\quad \\text{for }x\\in [-\\pi, \\pi]\n",
    "$$"
   ]
  },
  {
   "cell_type": "code",
   "execution_count": null,
   "metadata": {},
   "outputs": [],
   "source": [
    "# create an equal-distant linear space with 1000 points using numpy\n",
    "xs = np.linspace(-pi,pi,1000)\n",
    "# evaluate the function value at these 1000 points (using np.sin instead of math.sin)\n",
    "ys = np.sin(8*xs)\n",
    "plt.plot(xs,ys)"
   ]
  },
  {
   "cell_type": "code",
   "execution_count": null,
   "metadata": {},
   "outputs": [],
   "source": [
    "# if we want to decorate the graph to specify colors, reference grid\n",
    "plt.plot(xs,ys, color='red',linewidth=1.5, label='$y=\\sin(8x)$')\n",
    "plt.grid(True, linestyle = 'dashed', alpha = 0.3)\n",
    "plt.legend(loc='upper right')\n",
    "plt.show() # this is to suppress the memory address output "
   ]
  },
  {
   "cell_type": "markdown",
   "metadata": {},
   "source": [
    "## Exercise 1: \n",
    "Now apply the routine above to plot function using 10, 100, 1000 points in `np.linspace`: \n",
    "$$\n",
    "f(x) = x\\sin(8x), \\quad \\text{for }x\\in [-\\pi, \\pi]\n",
    "$$\n",
    "what have you observed?"
   ]
  },
  {
   "cell_type": "code",
   "execution_count": null,
   "metadata": {},
   "outputs": [],
   "source": [
    "# insert your test for 10 points here\n"
   ]
  },
  {
   "cell_type": "code",
   "execution_count": null,
   "metadata": {},
   "outputs": [],
   "source": [
    "# insert your test for 100 points here\n"
   ]
  },
  {
   "cell_type": "code",
   "execution_count": null,
   "metadata": {},
   "outputs": [],
   "source": [
    "# insert your test for 1000 points here\n"
   ]
  },
  {
   "cell_type": "markdown",
   "metadata": {},
   "source": [
    "### Observation"
   ]
  },
  {
   "cell_type": "markdown",
   "metadata": {},
   "source": [
    "## Example 2 (Histogram)\n",
    "\n",
    "Download the `Iris.csv` from the Canvas page and put it in the same folder with this notebook. In this example, we will learn how to import data from a csv file using **Python Data Analysis Library** `pandas`. \n",
    "\n",
    "The data set we are using is the [Iris Flower Dataset (IFD)](https://archive.ics.uci.edu/ml/datasets/Iris), or you can download from [UCI machine learning repo on Kaggle](https://www.kaggle.com/uciml/iris). IFD was first introduced in 1936 by the famous statistician Ronald Fisher and consists of 50 observations from each of three species of Iris (Iris setosa, Iris virginica and Iris versicolor). Four features were measured from each sample: the length and the width of the sepals and petals. It is now widely used as a toy model dataset in statistics class and machine learning class.\n",
    "\n",
    "Run the following cells and then use `hist` in `matplotlib.pyplot` to visualize the features of the Iris dataset we have extracted."
   ]
  },
  {
   "cell_type": "code",
   "execution_count": null,
   "metadata": {},
   "outputs": [],
   "source": [
    "import pandas as pd"
   ]
  },
  {
   "cell_type": "code",
   "execution_count": null,
   "metadata": {},
   "outputs": [],
   "source": [
    "iris = pd.read_csv('Iris.csv')"
   ]
  },
  {
   "cell_type": "code",
   "execution_count": null,
   "metadata": {},
   "outputs": [],
   "source": [
    "iris.head() # this is showing the first 5 rows"
   ]
  },
  {
   "cell_type": "code",
   "execution_count": null,
   "metadata": {},
   "outputs": [],
   "source": [
    "type(iris) # this is pandas's special variable type: Dataframe, of df in short"
   ]
  },
  {
   "cell_type": "code",
   "execution_count": null,
   "metadata": {},
   "outputs": [],
   "source": [
    "X = iris['SepalLengthCm'].values\n",
    "# this is how to retrieve the values of the 'SepalLengthCm'"
   ]
  },
  {
   "cell_type": "code",
   "execution_count": null,
   "metadata": {},
   "outputs": [],
   "source": [
    "type(X) # now this is a numpy array"
   ]
  },
  {
   "cell_type": "markdown",
   "metadata": {},
   "source": [
    "## Exercise 2\n",
    "Please try the following:\n",
    "* Use `hist` to show the histogram of `X` (`SepalLengthCm`)'s distribution with `bins=20`. Try setting `density=True` vs `density=False` (default), can you observe what is the difference? Please use `edgecolor='black'` as an option of `hist` to highlight the edge of each bar.\n",
    "* In the `Species` column, there are three types of Iris, `Iris-setosa`, `Iris-versicolour`, and `Iris-virginica`. Use the sample code to retrieve the `SepalLengthCm` values of `Iris-setosa`, `Iris-versicolour`, and `Iris-virginica` respectively as `X1`, `X2`, `X3` (the code for `X1` is provided, do the same routine for `X2` and `X3`). Then plot the histograms of `X1`, `X2`, and `X3`."
   ]
  },
  {
   "cell_type": "code",
   "execution_count": null,
   "metadata": {},
   "outputs": [],
   "source": [
    "# plot the histogram of X"
   ]
  },
  {
   "cell_type": "code",
   "execution_count": null,
   "metadata": {},
   "outputs": [],
   "source": [
    "np.unique(iris['Species']) # this retries the unique values of the `Species` column"
   ]
  },
  {
   "cell_type": "code",
   "execution_count": null,
   "metadata": {},
   "outputs": [],
   "source": [
    "iris['Species'] == 'Iris-setosa' \n",
    "# this is a boolean array that represents the indices of `Iris-setosa` in this DataFrame"
   ]
  },
  {
   "cell_type": "code",
   "execution_count": null,
   "metadata": {},
   "outputs": [],
   "source": [
    "X1 = iris.loc[iris['Species']=='Iris-setosa', 'SepalLengthCm']\n",
    "# the loc function (position-based value selection) can be use to retrieve \n",
    "# values of column A based on the values of column B\n",
    "# for example, this single line of code assign X1 as the values of iris['SepalLengthCm'].values\n",
    "# if the iris['Species'] is 'Iris-setosa'"
   ]
  },
  {
   "cell_type": "code",
   "execution_count": null,
   "metadata": {},
   "outputs": [],
   "source": [
    "# X2 should be the SepalLengthCm values for Iris-versicolour species"
   ]
  },
  {
   "cell_type": "code",
   "execution_count": null,
   "metadata": {},
   "outputs": [],
   "source": [
    "# X3 should be the SepalLengthCm values for Iris-virginica species"
   ]
  },
  {
   "cell_type": "code",
   "execution_count": null,
   "metadata": {},
   "outputs": [],
   "source": [
    "# plot three histograms of X1, X2, X3 using different colors"
   ]
  }
 ],
 "metadata": {
  "kernelspec": {
   "display_name": "Python 3",
   "language": "python",
   "name": "python3"
  },
  "language_info": {
   "codemirror_mode": {
    "name": "ipython",
    "version": 3
   },
   "file_extension": ".py",
   "mimetype": "text/x-python",
   "name": "python",
   "nbconvert_exporter": "python",
   "pygments_lexer": "ipython3",
   "version": "3.7.2"
  },
  "latex_envs": {
   "LaTeX_envs_menu_present": true,
   "autoclose": true,
   "autocomplete": true,
   "bibliofile": "biblio.bib",
   "cite_by": "apalike",
   "current_citInitial": 1,
   "eqLabelWithNumbers": true,
   "eqNumInitial": 1,
   "hotkeys": {
    "equation": "Ctrl-E",
    "itemize": "Ctrl-I"
   },
   "labels_anchors": false,
   "latex_user_defs": false,
   "report_style_numbering": false,
   "user_envs_cfg": false
  },
  "varInspector": {
   "cols": {
    "lenName": 16,
    "lenType": 16,
    "lenVar": 40
   },
   "kernels_config": {
    "python": {
     "delete_cmd_postfix": "",
     "delete_cmd_prefix": "del ",
     "library": "var_list.py",
     "varRefreshCmd": "print(var_dic_list())"
    },
    "r": {
     "delete_cmd_postfix": ") ",
     "delete_cmd_prefix": "rm(",
     "library": "var_list.r",
     "varRefreshCmd": "cat(var_dic_list()) "
    }
   },
   "types_to_exclude": [
    "module",
    "function",
    "builtin_function_or_method",
    "instance",
    "_Feature"
   ],
   "window_display": false
  }
 },
 "nbformat": 4,
 "nbformat_minor": 2
}
