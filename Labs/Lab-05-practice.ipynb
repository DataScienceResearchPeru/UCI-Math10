{
 "cells": [
  {
   "cell_type": "markdown",
   "metadata": {},
   "source": [
    "# Lab Practice Week 5\n",
    "\n",
    "This notebook does not need to be submitted. This is only for you to gain experience and get some practice."
   ]
  },
  {
   "cell_type": "markdown",
   "metadata": {},
   "source": [
    "# Randomness, radnomenss, rondmansse\n",
    "In this notebook, we will review and learn new materials based on what we have learned in Lecture 8 to 12, and the majority of the code is pre-filled, you just need to run the cells to understand the results and the codes."
   ]
  },
  {
   "cell_type": "markdown",
   "metadata": {},
   "source": [
    "# Problem\n",
    "## Hypothesis testing\n",
    "In Lecture 10-12, we have learned how to generate sequences of coin flipping based on the knowledge of **knowing that the coin is biased or not** beforehand. For example, we assign $p=0.5$, $p=0.2$, etc. If we have $p>0.5$, we should get significantly more heads than tails as the step grows bigger and bigger.\n",
    "<br><br>\n",
    "Now what if we DO NOT know the this $p$, we only have the results of the flipping, and we want to make an inference that whether this coin is biased or not biased on our sample flippings!"
   ]
  },
  {
   "cell_type": "markdown",
   "metadata": {},
   "source": [
    "## Example\n",
    "Suppose I flipped a coin for 200 times, getting 80 heads and 120 tails, can we say this coin is biased? Here we introduce a hypothesis called *null hypothesis*:\n",
    "> **Null hypothesis**: $p=0.5$ for this coin I just flipped, i.e., this coin is fair.\n",
    "\n",
    "Whether we want to *accept* this hypothesis or *reject* it, we want to develop certain quantitative measure to help us do it.\n",
    "<br><br>\n",
    "Here instead letting head be $1$ and tail be $-1$, we consider the following random variable:\n",
    "$$\n",
    "X = \\begin{cases}1, & \\text{when the head is flipped with probability } p,\\\\[3pt] 0, & \\text{when the tail is flipped with probability } 1-p.\\end{cases}\n",
    "$$\n",
    "It is straigtforward to verify that the mean (expected value) and variance (st dev squared) of $X$ are:\n",
    "$$\n",
    "E[X] = p, \\quad \\text{ and }\\quad {\\rm Var}[X] = p(1-p).\n",
    "$$\n",
    "Now letting $X_n$ denote the random variable corresponding to the flipping at $n$-th step, and let \n",
    "$$Y_n = \\frac{X_1 + X_2 + ... + X_n}{n}.$$\n",
    "Here $Y_n$ computes in $n$ flips, what is the percentage of the flips being head? or to say, what is the *empirical* or *sampling* probability of the flips being head?\n",
    "<br><br>\n",
    "In Lecture 12, by the central limit theorem, we know that when $n$ (number of flippings) is big, approximately $Y_n$ should satisfy normal distribution with mean $\\mu = p$, which is the same with $X_i$'s; and standard deviation $\\sigma/\\sqrt{n} = p(1-p)/\\sqrt{n}$, which is $X_i$'s stdev divided by square root of $n$:\n",
    "$$Y_n = \\frac{X_1 + X_2 + ... + X_n}{n} \\sim \\mathcal{N}\\left(\\mu, \\Big(\\frac{\\sigma}{\\sqrt{n}} \\Big)^2\\right)\n",
    "$$\n",
    "We want to develop a measure based on this approximation."
   ]
  },
  {
   "cell_type": "code",
   "execution_count": null,
   "metadata": {},
   "outputs": [],
   "source": [
    "# first we import scipy.stats submodule \n",
    "# scipy is the module of scientific computing in Python, which is numpy's mother module\n",
    "import numpy as np\n",
    "from scipy import stats\n",
    "import math"
   ]
  },
  {
   "cell_type": "markdown",
   "metadata": {},
   "source": [
    "Run the following cell. You should get two numbers representing an interval."
   ]
  },
  {
   "cell_type": "code",
   "execution_count": null,
   "metadata": {},
   "outputs": [],
   "source": [
    "alpha = 0.05\n",
    "n = 200 # no. of flips\n",
    "p = 0.5 # fair\n",
    "mean = p # average we expect from p = 0.5\n",
    "stdev = p*(1-p)/math.sqrt(n) # variance we expect from p = 0.5\n",
    "a_1, a_2 = stats.norm.interval(1 - alpha, loc = mean, scale = stdev) # loc is mean, scale is variance\n",
    "print(a_1, a_2)"
   ]
  },
  {
   "cell_type": "markdown",
   "metadata": {},
   "source": [
    "### Interpretation of the code above:\n",
    "For 200 coin flips, if we get $Y_n$ between $a_1$ and $a_2$, which means we have a number of heads between $200 \\cdot a_1$ and $200 \\cdot a_2$, we \"accept the null hypothesis\", otherwise we \"reject the null hypothesis.\" "
   ]
  },
  {
   "cell_type": "code",
   "execution_count": null,
   "metadata": {},
   "outputs": [],
   "source": [
    "200*a_1, 200*a_2"
   ]
  },
  {
   "cell_type": "markdown",
   "metadata": {},
   "source": [
    "### What Is the Alpha?\n",
    "The significance level $\\alpha$ is the probability of rejecting the null hypothesis when it is true. The confidence level is $1-\\alpha$. For example, a significance level of $0.05$ indicates a 5% risk of \"reject the hypothesis\" incorrectly; or say we are confident that 95% of the time we are correctly \"accepting the null hypothesis\". In this example, if we use whether $Y_n$ falls into $[a_1, a_2]$ to determine whether this coin is fair or not, we will be wrong 5% of the time. In other words, we may get 80 heads, and 120 tails and the coin is still fair, but the chance is too low to be true."
   ]
  },
  {
   "cell_type": "markdown",
   "metadata": {},
   "source": [
    "### Q1:\n",
    "Should we reject or accept the null hypothesis of $p=0.5$ if we get 80 heads and 120 tails?"
   ]
  },
  {
   "cell_type": "markdown",
   "metadata": {},
   "source": [
    "### Answer:"
   ]
  },
  {
   "cell_type": "markdown",
   "metadata": {},
   "source": [
    "## Changet the value of $\\alpha$\n",
    "Try to change $\\alpha = 2.5\\%, 1\\%$, i.e, confidence level becomes higher, see how the interval changes. \n",
    "\n",
    "> If we increase the confidence level (making $\\alpha$ smaller), i.e., we want to be more sure about whether we reject the null hypothesis correctly, the interval becomes smaller/bigger (delete one)."
   ]
  },
  {
   "cell_type": "code",
   "execution_count": null,
   "metadata": {},
   "outputs": [],
   "source": [
    "# your trials here:"
   ]
  },
  {
   "cell_type": "markdown",
   "metadata": {},
   "source": [
    "## Change the value of $p$\n",
    "If you have run the tests above, you should conclude that this coin is unfair (samples with 80 heads and 120 tails).\n",
    "<br><br>\n",
    "Now we may further ask the following: \n",
    "\n",
    "> What is the probability that we \"reject the null hypothesis\" when $p\\neq0.5$? \n",
    "\n",
    "Lets say that the coin has bias with $p=0.45$, the probability of not getting $200\\cdot a_1$ to $200\\cdot a_2$ heads, i.e, $Y_n$ is not between $a_1$ and $a_2$ can be computed by the *cumulative distribution function*:\n",
    "$$\n",
    "P\\big( Y_n > a_2 \\text{ or } Y_n < a_1 \\big) = 1- P\\big( a_1\\leq Y_n \\leq a_2 \\big)\n",
    "= 1 - \\Big( P\\big(Y_n\\leq a_2 \\big) - P\\big(Y_n< a_1 \\big)\\Big)\n",
    "= 1 - \\Big(F_{\\mu,\\sigma}(a_2) - F_{\\mu,\\sigma}(a_1) \\Big),\n",
    "$$\n",
    "where $F_{\\mu,\\sigma}(a)$ is the cumulative distribution function (cdf) of a normal random variable with mean $\\mu$ and variance $\\sigma$.\n",
    "\n",
    "<br><br>\n",
    "In the following cell, we compute some probability using this cdf."
   ]
  },
  {
   "cell_type": "code",
   "execution_count": null,
   "metadata": {},
   "outputs": [],
   "source": [
    "# use the 5% a_1, a_2\n",
    "a_1, a_2 = 0.4653524043912581, 0.534647595608742\n",
    "p = 0.45\n",
    "mean_b = p\n",
    "stdev_b = p*(1-p)/math.sqrt(n) \n",
    "p_not_a1a2 = 1 - (stats.norm.cdf(a_2, loc = mean_b, scale = stdev_b) \n",
    "               - stats.norm.cdf(a_1, loc = mean_b, scale = stdev_b))\n",
    "print(p_not_a1a2)"
   ]
  },
  {
   "cell_type": "markdown",
   "metadata": {},
   "source": [
    "To interpret the number you get above, we recall what $Y_n$ represents, and use the definition of the cumulative distribution function: \n",
    "\n",
    "> If coin is biased with $p=0.45$ for heads, the probability of not getting $200\\cdot a_1$ to $200\\cdot a_2$ number of heads is: `p_not_a1a2`.\n",
    "\n",
    "Another way to interpret this number is, if $p=0.45$, there is a `p_not_a1a2` chance that we will reject the following hypothesis:\n",
    "> If we get $200\\cdot a_1$ to $200\\cdot a_2$ heads in 200 flippings, the coin is fair.\n",
    "\n",
    "In other words, `p_not_a1a2` of the time we would be able to distinguish between a fair coin ($p=0.5$) from a biased one with $p=0.45$ in 200 flippings. "
   ]
  },
  {
   "cell_type": "markdown",
   "metadata": {},
   "source": [
    "## Q2:\n",
    "Should we reject or accept the null hypothesis of $p = 0.45$ if we get 80 heads and 120 tails? with what $\\alpha$?"
   ]
  },
  {
   "cell_type": "code",
   "execution_count": null,
   "metadata": {},
   "outputs": [],
   "source": [
    "# your testing code here"
   ]
  },
  {
   "cell_type": "markdown",
   "metadata": {},
   "source": [
    "### Answer:"
   ]
  },
  {
   "cell_type": "markdown",
   "metadata": {},
   "source": [
    "## Optional reading:\n",
    "The number you just obtained is called a **statistical power**, and it is the probability that the test rejects the null hypothesis (H0) when a specific alternative hypothesis (H1) is true.\n",
    "<br><br>\n",
    "In our example, it is the probability that we reject the following hypothesis (H0)\n",
    "> If we get $200⋅a_1$ to $200⋅a_2$ heads in 200 flippings, the coin is fair ($p=0.5$).\n",
    "\n",
    "while the following alt hypothesis (H1) being true:\n",
    "\n",
    "> The coin is biased with head probability $p=0.45$. \n",
    "\n",
    "In the following cell, we define a function to compute this statistical power for different $p$, $n$, and $\\alpha$'s."
   ]
  },
  {
   "cell_type": "code",
   "execution_count": null,
   "metadata": {},
   "outputs": [],
   "source": [
    "def coin_flipping_power(n, p, alpha=0.05):\n",
    "    # n : number of trials (flippings)\n",
    "    # p : actual probability for heads\n",
    "    # alpha: 1- alpha is the confidence level, by default it is 1-0.05 = 95%\n",
    "    mean = p\n",
    "    stdev = p*(1-p)/math.sqrt(n)\n",
    "    # lower upper are the interval when the coin is fair\n",
    "    lower, upper = stats.norm.interval(1 - alpha, loc = 0.5, scale = 0.25/math.sqrt(n))\n",
    "    p_between_lower_upper = stats.norm.cdf(upper, p, stdev) - stats.norm.cdf(lower, p, stdev)\n",
    "    return 1 - p_between_lower_upper"
   ]
  },
  {
   "cell_type": "markdown",
   "metadata": {},
   "source": [
    "Now we try to visualize this power:"
   ]
  },
  {
   "cell_type": "code",
   "execution_count": null,
   "metadata": {},
   "outputs": [],
   "source": [
    "import matplotlib.pyplot as plt\n",
    "fig, ax = plt.subplots()\n",
    "ax.set_title(\"Power vs Actual Heads Probability for n = 200\")\n",
    "p_values = np.linspace(0.001,0.999,100)\n",
    "n = 200\n",
    "ax.plot(p_values, coin_flipping_power(n, p_values, alpha=0.05), linewidth = 2.0)\n",
    "ax.grid(True, linestyle = 'dashed')\n",
    "ax.set_ylabel(\"Statistical Power\")\n",
    "ax.set_xlabel(\"Actual Heads Probability p\")\n",
    "plt.show()"
   ]
  },
  {
   "cell_type": "markdown",
   "metadata": {},
   "source": [
    "### Q3 (optional):\n",
    "Where does this statistical power function achieves its minimum and why?"
   ]
  }
 ],
 "metadata": {
  "anaconda-cloud": {},
  "kernelspec": {
   "display_name": "Python 3",
   "language": "python",
   "name": "python3"
  },
  "language_info": {
   "codemirror_mode": {
    "name": "ipython",
    "version": 3
   },
   "file_extension": ".py",
   "mimetype": "text/x-python",
   "name": "python",
   "nbconvert_exporter": "python",
   "pygments_lexer": "ipython3",
   "version": "3.7.1"
  }
 },
 "nbformat": 4,
 "nbformat_minor": 2
}
