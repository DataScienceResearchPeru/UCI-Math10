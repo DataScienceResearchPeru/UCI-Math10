{
 "cells": [
  {
   "cell_type": "markdown",
   "metadata": {},
   "source": [
    "# Lab Practice Week 4\n",
    "\n",
    "This notebook does not need to be submitted. This is only for you to gain experience and get some practice."
   ]
  },
  {
   "cell_type": "markdown",
   "metadata": {},
   "source": [
    "# Randomness, Histograms, Scatter plot\n",
    "Today we will review all the manipulation from lectures for numpy arrays and how to use matplotlib to plot graphs."
   ]
  },
  {
   "cell_type": "code",
   "execution_count": 3,
   "metadata": {},
   "outputs": [],
   "source": [
    "import numpy as np\n",
    "import matplotlib.pyplot as plt\n",
    "%matplotlib inline"
   ]
  },
  {
   "cell_type": "markdown",
   "metadata": {},
   "source": [
    "## Problem 1: model a biased coin\n",
    "\n",
    "Reference: Lecture 10, Homework 3.\n",
    "\n",
    "Consider the following **stochastic process**:\n",
    "> Consider the following game: we start from the time $t_0 = 0$, at each subsequent $t_i=i$ ($i=1,2,\\dots$), we  flip a **biased** coin. \n",
    "> If the coin lands on head, we win $\\$ 1 $, otherwise we lose $\\$ 1$. \n",
    "> Suppose $M_i$ denotes our money (in $\\$ $) in the wallet at $t_i$, and $M_0 = 0$ (when the money amount is $<0$, it means we owe money to the dealer).\n",
    "\n",
    "We want to model how $M_i$ evolves after 1000 steps, please finish the following exercises.\n",
    "\n",
    "### Question 1\n",
    "\n",
    "* Create a function `coinflip(p)` where $p$ is some real number in $(0,1)$, which returns the float $1.0$ (for Heads) with probability $p$ and the float $-1.0$ with probaility $1-p$ (for Tails)."
   ]
  },
  {
   "cell_type": "code",
   "execution_count": 37,
   "metadata": {},
   "outputs": [],
   "source": [
    "def coinflip(p):\n",
    "    if random.random() < p:\n",
    "        return 1.0\n",
    "    return -1.0"
   ]
  },
  {
   "cell_type": "markdown",
   "metadata": {},
   "source": [
    "### Question 2\n",
    "Let $p=0.6$, and consider $Y_n$ as follows\n",
    "$$Y_n = \\frac{X_1 + X_2 + ... + X_n}{n},$$\n",
    "Each $X_i$ represent the flipping result at $i$-th step. If it's heads, $X_i=1$; if it is tails $X_i = -1$. If I play this flipping game $n$ times, the average winning per game is $Y_n$. \n",
    "Let's design our experiment a little more carefully so that we can get the most information, please finish the following:\n",
    "\n",
    "* **Sample** $Y_n$ 1000 times for $n=1,2,3,...,200$, that is, create 1000 simulations, each simulation is 200 steps long (200 flippings), record the sampled $Y_1 = X_1$ for all 1000 simulations, i.e., we should have 1000 samples for $Y_1$; $Y_2= (X_1 + X_2)/2$ for all 1000 simulations, etc.\n",
    "* Use a numpy array `means` of shape `(200,)` to record the mean of the sampled $Y_n$ at each time step.\n",
    "* Use a numpy array `stdevs` of shape `(200,)` to record the standard deviation of the sampled $Y_n$ at each time step."
   ]
  },
  {
   "cell_type": "markdown",
   "metadata": {},
   "source": [
    "### Question 3: Verification of the Law of Large Number and Central Limit Theorem\n",
    "\n",
    "$p=0.6$ as well as in question 2. In the process of $n\\to \\infty$, it can be computed that the **true expected valued** of $E(Y_n) = 2p-1$, and the **true standard deviation** is $\\dfrac{1- (2p-1)^2}{\\sqrt{n}}$ at the $n$-th time step. Use the result from Question 2:\n",
    "\n",
    "* Use the `plot` function in `matplotlib.pyplot` to plot the sample mean of $Y_n$ for these 200 steps.\n",
    "* Plot the sample standard deviation of $Y_n$ against the true standard deviation for these 200 steps."
   ]
  },
  {
   "cell_type": "code",
   "execution_count": 31,
   "metadata": {},
   "outputs": [
    {
     "data": {
      "image/png": "[encoded data removed]",
      "text/plain": [
       "<Figure size 432x288 with 1 Axes>"
      ]
     },
     "metadata": {
      "needs_background": "light"
     },
     "output_type": "display_data"
    }
   ],
   "source": [
    "# q3\n",
    "import matplotlib.pyplot as plt\n",
    "%matplotlib inline\n",
    "# histogram here\n",
    "# plt.axis([0, 100, 0, 80])\n",
    "result_1ktest = simulation_coinflip(0.6)\n",
    "plt.hist(result_1ktest, bins = 20, edgecolor='k');\n",
    "\n",
    "# the histogram is concentrated around 60 because p=0.6"
   ]
  },
  {
   "cell_type": "code",
   "execution_count": null,
   "metadata": {},
   "outputs": [],
   "source": []
  }
 ],
 "metadata": {
  "anaconda-cloud": {},
  "kernelspec": {
   "display_name": "Python 3",
   "language": "python",
   "name": "python3"
  },
  "language_info": {
   "codemirror_mode": {
    "name": "ipython",
    "version": 3
   },
   "file_extension": ".py",
   "mimetype": "text/x-python",
   "name": "python",
   "nbconvert_exporter": "python",
   "pygments_lexer": "ipython3",
   "version": "3.7.2"
  },
  "latex_envs": {
   "LaTeX_envs_menu_present": true,
   "autoclose": true,
   "autocomplete": true,
   "bibliofile": "biblio.bib",
   "cite_by": "apalike",
   "current_citInitial": 1,
   "eqLabelWithNumbers": true,
   "eqNumInitial": 1,
   "hotkeys": {
    "equation": "Ctrl-E",
    "itemize": "Ctrl-I"
   },
   "labels_anchors": false,
   "latex_user_defs": false,
   "report_style_numbering": false,
   "user_envs_cfg": false
  },
  "varInspector": {
   "cols": {
    "lenName": 16,
    "lenType": 16,
    "lenVar": 40
   },
   "kernels_config": {
    "python": {
     "delete_cmd_postfix": "",
     "delete_cmd_prefix": "del ",
     "library": "var_list.py",
     "varRefreshCmd": "print(var_dic_list())"
    },
    "r": {
     "delete_cmd_postfix": ") ",
     "delete_cmd_prefix": "rm(",
     "library": "var_list.r",
     "varRefreshCmd": "cat(var_dic_list()) "
    }
   },
   "types_to_exclude": [
    "module",
    "function",
    "builtin_function_or_method",
    "instance",
    "_Feature"
   ],
   "window_display": false
  }
 },
 "nbformat": 4,
 "nbformat_minor": 2
}
