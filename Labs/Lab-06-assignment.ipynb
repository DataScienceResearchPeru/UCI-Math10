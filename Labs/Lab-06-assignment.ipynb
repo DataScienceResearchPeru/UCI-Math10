{
 "cells": [
  {
   "cell_type": "markdown",
   "metadata": {},
   "source": [
    "# Lab 6 Assignment: \n",
    "\n",
    "### Please type your name here:\n",
    "### Do not forget to change the filename with your name appended\n",
    "\n",
    "In this lab please fill the indicated cells with your code and explainations, ***run*** everything (select `cell` in the menu, and click `Run all`), save the notebook with your name appended to the filename (for example, `Lab-07-assignment-caos.ipynb`), and upload it to Canvas.\n",
    "<br><br>\n",
    "This lab assignment contains one problem. \n",
    "<br><br>\n",
    "Read each problem carefully and answer them the best you can. You may copy the code from the Lecture 12-13 and Lab 6's notebooks. \n",
    "<br><br>\n",
    "For how to use a function, instead of asking others (TA, friend, your neighbor), you can put the cursor inside an empty parenthesis, press `Shift + Tab` (hold the shift key, press tab) to read the help in the pop up window."
   ]
  },
  {
   "cell_type": "code",
   "execution_count": 1,
   "metadata": {},
   "outputs": [],
   "source": [
    "# you might find the following useful\n",
    "import numpy as np\n",
    "import matplotlib.pyplot as plt\n",
    "import pandas as pd\n",
    "%matplotlib inline"
   ]
  },
  {
   "cell_type": "markdown",
   "metadata": {},
   "source": [
    "# Problem 1: Multi-dimensional data fitting\n",
    "\n",
    "Download the `winequality-red.csv` from [UCI machine learning repo on Kaggle](https://www.kaggle.com/uciml/red-wine-quality-cortez-et-al-2009/), unzip it and put it in the same directory with this notebook.\n",
    "\n",
    "If you have done so, please complete the following task.\n",
    "* Train a multivariate linear regression model using that has features including `fixed acidity`, `volatile acidity`, `citric acid`, `free sulfur dioxide`, `total sulfur dioxide` (input values), `pH` as target value (output). Use the script in the next cell to load the data as an array. Normalize every feature and target value by subtracting their means, respectively, so that we do not have to worry about the bias. You do not have to add a regularization either.\n",
    "* Split the data to training samples (50%) and testing samples (50%) (you may import the `train_test_split` from `sklearn.model_selection` if you do not want to split the data using shuffle and slicing manually).\n",
    "* (For grading) Compute the mean square error between the predicted target value using the trained weights and the actual one.\n",
    "* (For grading) Compute the $R^2$ statistics (you should get something that is near $0.5$, which is deemed as acceptable as a regression model).\n",
    "* Try other combinations train-test split ratio, e.g., 80%-20%, 67%-33%, 33%-67% What have you observed?\n",
    "\n",
    "You can implement from scratch using solely `numpy`, or import the `LinearRegression` class from `linear_models` module in `scikit-learn` (refering Lecture 12-13 notebook)."
   ]
  },
  {
   "cell_type": "code",
   "execution_count": 2,
   "metadata": {},
   "outputs": [],
   "source": [
    "wine_data = pd.read_csv('winequality-red.csv')"
   ]
  },
  {
   "cell_type": "code",
   "execution_count": 3,
   "metadata": {},
   "outputs": [],
   "source": [
    "X = np.zeros((wine_data.shape[0], 5)) # 5 features\n",
    "X[:,0] = wine_data['fixed acidity'].values\n",
    "X[:,1] = wine_data['volatile acidity'].values\n",
    "X[:,2] = wine_data['citric acid'].values\n",
    "X[:,3] = wine_data['free sulfur dioxide'].values\n",
    "X[:,4] = wine_data['total sulfur dioxide'].values\n",
    "y = wine_data['pH'].values"
   ]
  },
  {
   "cell_type": "markdown",
   "metadata": {},
   "source": [
    "## Visualization\n",
    "\n",
    "When you have done the tasks above, use the following routine to visualize the multidimensional regression."
   ]
  },
  {
   "cell_type": "code",
   "execution_count": null,
   "metadata": {},
   "outputs": [],
   "source": [
    "import seaborn as sns\n",
    "sns.set(style='white')\n",
    "fig, axes = plt.subplots(4,2, figsize=(16, 24))\n",
    "sns.regplot(ax = axes[0,0], x=\"citric acid\", y=\"pH\", x_bins=30, data=wine_data)\n",
    "sns.regplot(ax = axes[0,1], x=\"volatile acidity\", y=\"pH\", x_bins=30, data=wine_data)\n",
    "sns.regplot(ax = axes[1,0], x=\"fixed acidity\", y=\"pH\", x_bins=30, data=wine_data)\n",
    "sns.regplot(ax = axes[1,1], x=\"chlorides\", y=\"pH\", x_bins=30, data=wine_data)\n",
    "sns.regplot(ax = axes[2,0], x=\"free sulfur dioxide\", y=\"pH\", x_bins=30, data=wine_data)\n",
    "sns.regplot(ax = axes[2,1], x=\"total sulfur dioxide\", y=\"pH\", x_bins=30, data=wine_data)\n",
    "sns.regplot(ax = axes[3,0], x=\"alcohol\", y=\"pH\", x_bins=30, data=wine_data)\n",
    "sns.regplot(ax = axes[3,1], x=\"sulphates\", y=\"pH\", x_bins=30, data=wine_data)\n",
    "axes[3,1].set_xlim([0.4, 1.2]);\n",
    "axes[3,1].set_ylim([3, 3.5]);"
   ]
  },
  {
   "cell_type": "markdown",
   "metadata": {},
   "source": [
    "# Extra question:\n",
    "\n",
    "Based on the visualization above, can you propose a better regression model for `pH` target value by deleting or adding certain feature(s) from the previous model? Test your guesses."
   ]
  }
 ],
 "metadata": {
  "anaconda-cloud": {},
  "kernelspec": {
   "display_name": "Python 3",
   "language": "python",
   "name": "python3"
  },
  "language_info": {
   "codemirror_mode": {
    "name": "ipython",
    "version": 3
   },
   "file_extension": ".py",
   "mimetype": "text/x-python",
   "name": "python",
   "nbconvert_exporter": "python",
   "pygments_lexer": "ipython3",
   "version": "3.7.2"
  },
  "latex_envs": {
   "LaTeX_envs_menu_present": true,
   "autoclose": true,
   "autocomplete": true,
   "bibliofile": "biblio.bib",
   "cite_by": "apalike",
   "current_citInitial": 1,
   "eqLabelWithNumbers": true,
   "eqNumInitial": 1,
   "hotkeys": {
    "equation": "Ctrl-E",
    "itemize": "Ctrl-I"
   },
   "labels_anchors": false,
   "latex_user_defs": false,
   "report_style_numbering": false,
   "user_envs_cfg": false
  },
  "varInspector": {
   "cols": {
    "lenName": 16,
    "lenType": 16,
    "lenVar": 40
   },
   "kernels_config": {
    "python": {
     "delete_cmd_postfix": "",
     "delete_cmd_prefix": "del ",
     "library": "var_list.py",
     "varRefreshCmd": "print(var_dic_list())"
    },
    "r": {
     "delete_cmd_postfix": ") ",
     "delete_cmd_prefix": "rm(",
     "library": "var_list.r",
     "varRefreshCmd": "cat(var_dic_list()) "
    }
   },
   "types_to_exclude": [
    "module",
    "function",
    "builtin_function_or_method",
    "instance",
    "_Feature"
   ],
   "window_display": false
  }
 },
 "nbformat": 4,
 "nbformat_minor": 2
}
