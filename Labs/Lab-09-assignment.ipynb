{
 "cells": [
  {
   "cell_type": "markdown",
   "metadata": {},
   "source": [
    "# Lab 9 Assignment: \n",
    "\n",
    "### Please type your name here:\n",
    "### Do not forget to change the filename with your name appended\n",
    "\n",
    "In this lab please fill the indicated cells with your code and explainations, ***run*** everything (select `cell` in the menu, and click `Run all`), save the notebook with your name appended to the filename (for example, `Lab-09-assignment-caos.ipynb`), and upload it to Canvas.\n",
    "<br><br>\n",
    "This lab is preparing you for the final project.\n",
    "<br><br>\n",
    "For how to use a function, instead of asking others (TA, friend, your neighbor), you can put the cursor inside an empty parenthesis, press `Shift + Tab` (hold the shift key, press tab) to read the help in the pop up window. "
   ]
  },
  {
   "cell_type": "code",
   "execution_count": 1,
   "metadata": {},
   "outputs": [],
   "source": [
    "# as always\n",
    "import numpy as np\n",
    "import matplotlib.pyplot as plt\n",
    "%matplotlib inline"
   ]
  },
  {
   "cell_type": "markdown",
   "metadata": {},
   "source": [
    "# Problem 1: Build your own neural net in scikit-learn\n",
    "\n",
    "\n",
    "Please load the MNIST training and testing dataset as `npz` files from Canvas.\n",
    "\n",
    "If you have done so, please complete the following task.\n",
    "* Import the MNIST dataset as training and testing sets. If you are using your own laptop, choose the first 20000 training samples and 10000 testing samples as training and testing sets. Rescale the data by dividing the training/testing samples by 255 while keeping the labels unchanged.\n",
    "* Read the [reference](https://scikit-learn.org/stable/modules/generated/sklearn.neural_network.MLPClassifier.html) the `MLPClassifier` class in [`scikit-learn`'s neural network module](https://scikit-learn.org/stable/modules/classes.html#module-sklearn.neural_network).\n",
    "* (Graded) Use `MLPClassifier` to train a neural network with one hidden layer of size 256 with `verbose=True`. The network has total 3 layers, one input layer of size 784, one hidden layer of size 256, and one output layer with size 10. Score both training and testing datasets (prediction accuracy of labels, you should expect over 98% accuracy).\n",
    "* Vary the `alpha` parameter in this class from `1e-4` (default) to `1e-2` and `1` without changing the structure of the network (one hidden layer of size 256). Does the score change much?\n",
    "* (Graded) Vary the `hidden_layer_sizes` parameter, for example, by adding another hidden layer by setting `hidden_layer_sizes = (256, 32)`. Increase the size of the second hidden layer, for example, try making the second hidden layer of sizes 32, 64, and 128. Does adding a second hidden layer help on scoring? Why and what is your conjecture on this?\n",
    "* (After-class) Watch [all four videos](https://www.youtube.com/playlist?list=PLZHQObOWTQDNU6R1_67000Dx_ZCJB-3pi) made by 3Blue1Brown on the feedforward neural network.\n",
    "\n",
    "Reference: [https://scikit-learn.org/stable/modules/neural_networks_supervised.html](https://scikit-learn.org/stable/modules/neural_networks_supervised.html)"
   ]
  },
  {
   "cell_type": "code",
   "execution_count": 9,
   "metadata": {},
   "outputs": [],
   "source": [
    "_X_train = np.load('mnist_train.npz')['X']/255\n",
    "_y_train = np.load('mnist_train.npz')['y'].astype(int)\n",
    "_X_test = np.load('mnist_test.npz')['X']/255\n",
    "_y_test = np.load('mnist_test.npz')['y'].astype(int)\n",
    "X_train = _X_train[:20000]\n",
    "y_train = _y_train[:20000]\n",
    "X_test = _X_test[:10000]\n",
    "y_test = _y_test[:10000]"
   ]
  },
  {
   "cell_type": "code",
   "execution_count": 5,
   "metadata": {},
   "outputs": [],
   "source": [
    "from sklearn.neural_network import MLPClassifier"
   ]
  },
  {
   "cell_type": "code",
   "execution_count": 8,
   "metadata": {},
   "outputs": [
    {
     "data": {
      "text/plain": [
       "MLPClassifier(activation='relu', alpha=0.0001, batch_size='auto', beta_1=0.9,\n",
       "       beta_2=0.999, early_stopping=False, epsilon=1e-08,\n",
       "       hidden_layer_sizes=(256,), learning_rate='constant',\n",
       "       learning_rate_init=0.001, max_iter=1000, momentum=0.9,\n",
       "       n_iter_no_change=10, nesterovs_momentum=True, power_t=0.5,\n",
       "       random_state=None, shuffle=True, solver='lbfgs', tol=0.0001,\n",
       "       validation_fraction=0.1, verbose=1, warm_start=False)"
      ]
     },
     "execution_count": 8,
     "metadata": {},
     "output_type": "execute_result"
    }
   ],
   "source": [
    "clf = MLPClassifier(hidden_layer_sizes=(256,),solver='lbfgs',max_iter=1000,verbose=1)\n",
    "clf.fit(X_train,y_train)"
   ]
  },
  {
   "cell_type": "code",
   "execution_count": 10,
   "metadata": {},
   "outputs": [
    {
     "data": {
      "text/plain": [
       "0.9686"
      ]
     },
     "execution_count": 10,
     "metadata": {},
     "output_type": "execute_result"
    }
   ],
   "source": [
    "clf.score(X_test, y_test)"
   ]
  },
  {
   "cell_type": "markdown",
   "metadata": {},
   "source": [
    "Remark: Adding more layers resulting only marginal improvement."
   ]
  }
 ],
 "metadata": {
  "anaconda-cloud": {},
  "kernelspec": {
   "display_name": "Python 3",
   "language": "python",
   "name": "python3"
  },
  "language_info": {
   "codemirror_mode": {
    "name": "ipython",
    "version": 3
   },
   "file_extension": ".py",
   "mimetype": "text/x-python",
   "name": "python",
   "nbconvert_exporter": "python",
   "pygments_lexer": "ipython3",
   "version": "3.7.2"
  },
  "latex_envs": {
   "LaTeX_envs_menu_present": true,
   "autoclose": true,
   "autocomplete": true,
   "bibliofile": "biblio.bib",
   "cite_by": "apalike",
   "current_citInitial": 1,
   "eqLabelWithNumbers": true,
   "eqNumInitial": 1,
   "hotkeys": {
    "equation": "Ctrl-E",
    "itemize": "Ctrl-I"
   },
   "labels_anchors": false,
   "latex_user_defs": false,
   "report_style_numbering": false,
   "user_envs_cfg": false
  },
  "varInspector": {
   "cols": {
    "lenName": 16,
    "lenType": 16,
    "lenVar": 40
   },
   "kernels_config": {
    "python": {
     "delete_cmd_postfix": "",
     "delete_cmd_prefix": "del ",
     "library": "var_list.py",
     "varRefreshCmd": "print(var_dic_list())"
    },
    "r": {
     "delete_cmd_postfix": ") ",
     "delete_cmd_prefix": "rm(",
     "library": "var_list.r",
     "varRefreshCmd": "cat(var_dic_list()) "
    }
   },
   "types_to_exclude": [
    "module",
    "function",
    "builtin_function_or_method",
    "instance",
    "_Feature"
   ],
   "window_display": false
  }
 },
 "nbformat": 4,
 "nbformat_minor": 2
}
