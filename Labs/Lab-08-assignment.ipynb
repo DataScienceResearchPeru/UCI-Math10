{
 "cells": [
  {
   "cell_type": "markdown",
   "metadata": {},
   "source": [
    "# Lab 8 Assignment: \n",
    "\n",
    "### Please type your name here:\n",
    "### Do not forget to change the filename with your name appended\n",
    "\n",
    "In this lab please fill the indicated cells with your code and explainations, ***run*** everything (select `cell` in the menu, and click `Run all`), save the notebook with your name appended to the filename (for example, `Lab-08-assignment-shuhaocao.ipynb`), and upload it to Canvas.\n",
    "<br><br>\n",
    "This lab assignment contains one problem about logistic regression, and one optional problem for you to try after the lab.\n",
    "<br><br>\n",
    "Read each problem carefully and answer them the best you can. You may copy the code from the Lecture 18's notebook. Even though a better way would be copy the code from Lecture 18, make the codes comment-like, type the codes by yourself using auto-completion.\n",
    "<br><br>\n",
    "For how to use a function, instead of asking others (TA, friend, your neighbor), you can put the cursor inside an empty parenthesis, press `Shift + Tab` (hold the shift key, press tab) to read the help in the pop up window."
   ]
  },
  {
   "cell_type": "code",
   "execution_count": null,
   "metadata": {},
   "outputs": [],
   "source": [
    "# you might find the following useful\n",
    "import numpy as np\n",
    "import matplotlib.pyplot as plt\n",
    "%matplotlib inline"
   ]
  },
  {
   "cell_type": "markdown",
   "metadata": {},
   "source": [
    "# Problem 1: A binary classification of the wine\n",
    "\n",
    "Download the `winequality-red.csv` from [UCI machine learning repo on Kaggle](https://www.kaggle.com/uciml/red-wine-quality-cortez-et-al-2009/) or [UCI machine learn repo](https://archive.ics.uci.edu/ml/datasets/Wine+Quality), unzip it and put it in the same directory with this notebook. Run the importing cell. If you download the set from UCI website, you might want to check the csv file in a text editor to change the delimiter.\n",
    "\n",
    "If you have done so, please complete the following task.\n",
    "* Goal: implement the training of a logistic regression model from scratch using solely `numpy` by adapting the code from Lecture 18 notebook, you can copy the gradient descent routine from previous lecture notebooks. Please use all features from the first column (column 0) to the 11th column (column 10) as input values $X = (\\mathbf{x}^{(1)},\\dots, \\mathbf{x}^{(N)})^{\\top}$ so that each row of the matrix $X$ represent a data sample, `quality` as the target value $\\mathbf{y} = (y^{(1)} \\  \\cdots \\  y^{(N)})^{\\top}$, where $N$ is the number of samples.\n",
    "* Preprocessing data: if the `quality` of a wine is $\\geq 6$, relabel it as $y=1$ (favorable); if the `quality` of a wine is $\\leq 5$, relabel it as $y=0$ (mediocre).\n",
    "* Split the data to training samples (67%) and testing samples (33%) (please import the `train_test_split` from `sklearn.model_selection` and fix the `random_state=666` parameter so that the test is replicable, read the manual by pressing `Shift+Tab` if you do not know how to use this function).\n",
    "* (For grading) Train the logistic regression model using gradient descent method by tuning a good parameter combination (step size, regularization or not, you may refer to Lecture 18 notebook). Compute the accuracy score, that is\n",
    "$$\n",
    "\\frac{1}{N_{\\text{test}}} \\sum_{i = 1}^{N_{\\text{test}}} 1\\{y^{(i), \\text{Pred}} = y^{(i), \\text{Actual}} \\}.\n",
    "$$\n",
    "* (For checking) You can use `LogisticRegression` class to check if your implementation is correct by fixing the `random_state` when splitting the training and testing samples.\n"
   ]
  },
  {
   "cell_type": "code",
   "execution_count": null,
   "metadata": {},
   "outputs": [],
   "source": [
    "wine_data = np.loadtxt('winequality-red.csv', delimiter=',', skiprows=1)"
   ]
  },
  {
   "cell_type": "code",
   "execution_count": null,
   "metadata": {},
   "outputs": [],
   "source": [
    "# your code here"
   ]
  },
  {
   "cell_type": "markdown",
   "metadata": {},
   "source": [
    "## Visualization\n",
    "\n",
    "When you have done the tasks above, use the following routine to visualize the multidimensional logistic regression."
   ]
  },
  {
   "cell_type": "code",
   "execution_count": null,
   "metadata": {},
   "outputs": [],
   "source": [
    "import pandas as pd\n",
    "wine_data_vis = pd.read_csv('winequality-red.csv')\n",
    "# wine_data_vis['quality'] = 1*(wine_data_vis['quality'] >= 6)\n",
    "wine_data_vis[:10]"
   ]
  },
  {
   "cell_type": "markdown",
   "metadata": {},
   "source": [
    "## A multidimension-relation visualization\n",
    "Try changing `x` to different columns, while fixing `y=\"alcohol\"` below."
   ]
  },
  {
   "cell_type": "code",
   "execution_count": null,
   "metadata": {},
   "outputs": [],
   "source": [
    "import seaborn as sns\n",
    "sns.set(style='white')\n",
    "cmap = sns.cubehelix_palette(rot=-.2, as_cmap=True)\n",
    "plt.subplots(figsize=(14, 8))\n",
    "sns.scatterplot(x=\"total sulfur dioxide\", y=\"alcohol\", \n",
    "                size=\"citric acid\", hue=\"quality\", \n",
    "                data=wine_data_vis, \n",
    "                palette=cmap, alpha = 0.8, sizes=(5,200))\n",
    "# we can read fromt the plot that in general more alcholic a wine is, the high quality score it will get"
   ]
  }
 ],
 "metadata": {
  "anaconda-cloud": {},
  "kernelspec": {
   "display_name": "Python 3",
   "language": "python",
   "name": "python3"
  },
  "language_info": {
   "codemirror_mode": {
    "name": "ipython",
    "version": 3
   },
   "file_extension": ".py",
   "mimetype": "text/x-python",
   "name": "python",
   "nbconvert_exporter": "python",
   "pygments_lexer": "ipython3",
   "version": "3.7.2"
  }
 },
 "nbformat": 4,
 "nbformat_minor": 2
}
