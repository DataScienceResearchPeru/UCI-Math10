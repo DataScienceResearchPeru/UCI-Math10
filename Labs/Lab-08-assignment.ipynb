{
 "cells": [
  {
   "cell_type": "markdown",
   "metadata": {},
   "source": [
    "# Lab 8 Assignment: \n",
    "\n",
    "### Please type your name here:\n",
    "### Do not forget to change the filename with your name appended\n",
    "\n",
    "In this lab please fill the indicated cells with your code and explainations, ***run*** everything (select `cell` in the menu, and click `Run all`), save the notebook with your name appended to the filename (for example, `Lab-09-assignment-caos.ipynb`), and upload it to Canvas.\n",
    "<br><br>\n",
    "This lab assignment contains one problem about PCA/SVD. The second one is optional.\n",
    "<br><br>\n",
    "Read each problem carefully and answer them the best you can. You may copy the code from the kNN Lecture's notebook.\n",
    "<br><br>\n",
    "For how to use a function, instead of asking others (TA, friend, your neighbor), you can put the cursor inside an empty parenthesis, press `Shift + Tab` (hold the shift key, press tab) to read the help in the pop up window."
   ]
  },
  {
   "cell_type": "code",
   "execution_count": 6,
   "metadata": {},
   "outputs": [],
   "source": [
    "# you might find the following useful\n",
    "import numpy as np\n",
    "import matplotlib.pyplot as plt\n",
    "%matplotlib inline"
   ]
  },
  {
   "cell_type": "markdown",
   "metadata": {},
   "source": [
    "# Problem 1: PCA on the Iris dataset\n",
    "\n",
    "* Load the Iris dataset using `scikit-learn`'s dataset package.\n",
    "* Let `X` be the data, and `y` be the target in the data you have loaded.\n",
    "* Apply PCA on `X`, transform `X` to `X_reduced` using two eigenvectors corresponding to the two largest singular value to reduce its dimension.\n",
    "* Split the data `X_reduced` and `y` into 60% training and 40% testing datasets.\n",
    "* Apply $k$NN with $k=5$ on this reduced test dataset to classify the Iris flowers and print the accuracy.\n",
    "\n",
    "After you have done so, please run the following cell to visualized the reduced data (expected output plotted)."
   ]
  },
  {
   "cell_type": "code",
   "execution_count": null,
   "metadata": {},
   "outputs": [],
   "source": [
    "import seaborn as sns\n",
    "sns.set()\n",
    "sns.scatterplot(x= X_reduced[:,0], y = X_reduced[:,1], hue=y)\n",
    "plt.show()"
   ]
  },
  {
   "cell_type": "markdown",
   "metadata": {},
   "source": [
    "# Problem 2 (optional): Vectorized computation of pair-wise Manhattan distance\n",
    "\n",
    "For `X` and `y` in the previous problem, compute the mean of species $i$ ($i=0,1,2$) (centroids) using the following code\n",
    "```python\n",
    "centroids[i,:] = np.mean(X[y==i,:], axis = 0)\n",
    "```\n",
    "We note that in the [Iris dataset](https://www.kaggle.com/uciml/iris), there are 50 samples of each species. Write a vectorized implementation using `np.newaxis`, for the first species (class 0 or $y=0$), compute an array `dist` of size `(3,50)` such that `dist[i,j]` stores the Manhattan distance of the $(j+1)$-th sample in this species to the $(i+1)$-th centroid, i.e., `dist[0,:]` should store the the Manhattan distances of class 0'th sample to class 0's centroid, `dist[1,:]` should store the the Manhattan distances of class 0'th sample to class 1's centroid, and so on.\n",
    "\n",
    "The Manhattan distance, aka $L^1$-distance, is computed as follows for vectors $\\mathbf{u} = (u_1, \\dots, u_n)$ and $\\mathbf{v} = (v_1, \\dots, v_n)$:\n",
    "$$\n",
    "\\|\\mathbf{u} - \\mathbf{v} \\|_{L^1} = \\sum_{i=1}^n |u_i - v_i|.\n",
    "$$\n",
    "\n",
    "Reference: the vectorized implementation of kNN."
   ]
  }
 ],
 "metadata": {
  "anaconda-cloud": {},
  "kernelspec": {
   "display_name": "Python 3",
   "language": "python",
   "name": "python3"
  },
  "language_info": {
   "codemirror_mode": {
    "name": "ipython",
    "version": 3
   },
   "file_extension": ".py",
   "mimetype": "text/x-python",
   "name": "python",
   "nbconvert_exporter": "python",
   "pygments_lexer": "ipython3",
   "version": "3.7.2"
  },
  "latex_envs": {
   "LaTeX_envs_menu_present": true,
   "autoclose": true,
   "autocomplete": true,
   "bibliofile": "biblio.bib",
   "cite_by": "apalike",
   "current_citInitial": 1,
   "eqLabelWithNumbers": true,
   "eqNumInitial": 1,
   "hotkeys": {
    "equation": "Ctrl-E",
    "itemize": "Ctrl-I"
   },
   "labels_anchors": false,
   "latex_user_defs": false,
   "report_style_numbering": false,
   "user_envs_cfg": false
  },
  "varInspector": {
   "cols": {
    "lenName": 16,
    "lenType": 16,
    "lenVar": 40
   },
   "kernels_config": {
    "python": {
     "delete_cmd_postfix": "",
     "delete_cmd_prefix": "del ",
     "library": "var_list.py",
     "varRefreshCmd": "print(var_dic_list())"
    },
    "r": {
     "delete_cmd_postfix": ") ",
     "delete_cmd_prefix": "rm(",
     "library": "var_list.r",
     "varRefreshCmd": "cat(var_dic_list()) "
    }
   },
   "types_to_exclude": [
    "module",
    "function",
    "builtin_function_or_method",
    "instance",
    "_Feature"
   ],
   "window_display": false
  }
 },
 "nbformat": 4,
 "nbformat_minor": 2
}
