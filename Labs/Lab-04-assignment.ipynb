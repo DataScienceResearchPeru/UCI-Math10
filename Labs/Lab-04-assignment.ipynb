{
 "cells": [
  {
   "cell_type": "markdown",
   "metadata": {},
   "source": [
    "# Lab 4 Assignment: \n",
    "\n",
    "### Please type your name here:\n",
    "### Do not forget to change the filename with your name appended\n",
    "\n",
    "In this lab please fill the indicated cells with your code and explainations, ***run*** everything (select `cell` in the menu, and click `Run all`), save the notebook with your name appended to the filename (for example, `Lab-04-assignment-shuhaocao.ipynb`), and upload it to Canvas.\n",
    "<br><br>\n",
    "This lab assignment contains two problems (that need to be turned in), and one extra problem (for you to try after the lab session). \n",
    "<br><br>\n",
    "Read each problem carefully and answer them the best you can. You may reference the code from the lecture notebooks, please do not just copy/paste, rather use type and auto-complete by pressing Tab.\n",
    "<br><br>\n",
    "For how to use a function, instead of asking others (TA, friend, your neighbor), you can put the cursor inside an empty parenthesis, press `Shift + Tab` (hold the shift key, press tab) to read the help in the pop up window, for example:"
   ]
  },
  {
   "cell_type": "code",
   "execution_count": null,
   "metadata": {},
   "outputs": [],
   "source": [
    "import numpy as np\n",
    "from numpy import random"
   ]
  },
  {
   "cell_type": "code",
   "execution_count": null,
   "metadata": {},
   "outputs": [],
   "source": [
    "random.random() # run the cell above, put the cursor inside the parenthesis and press Shift+Tab"
   ]
  },
  {
   "cell_type": "markdown",
   "metadata": {},
   "source": [
    "# Problem 1\n",
    "When you make an unbiased decision between two options, you may consider flipping a coin. However, if the coin is rigged (the proability to land on one side is different from the other side). Your decision based on the coin will be biased.\n",
    "\n",
    "Let $p$ be some real number in $(0,1)$. Create a function `coinflip(p)` using the `random` function in the `np.random` submodule that returns the float $1$ (for Heads) with probability `p` and the float 0 with probaility $1-p$ (for Tails).\n",
    "<br><br>\n",
    "For example:\n",
    "`coinflip(0.3)` should return 1 (Heads) 30% of the time and 0 (Tails) 70% of the time.\n",
    "<br><br>\n",
    "**Hint**: the simplest way is that we can sample a uniformly distribution random variable $X\\sim \\mathcal{U}(0,1)$ and:\n",
    "$$P(0<X<p) = p$$"
   ]
  },
  {
   "cell_type": "code",
   "execution_count": null,
   "metadata": {},
   "outputs": [],
   "source": [
    "# your function here"
   ]
  },
  {
   "cell_type": "markdown",
   "metadata": {},
   "source": [
    "# Problem 2\n",
    "\n",
    "> You just picked up a coin and is wondering if the coin is truly unbiased. To determine if this coin is unbiased, you decide to flip this coin 100 times and record how many times it returns head. Let us say this is flipping test No.1, and its result is the no. of heads.\n",
    "> Then you decide to repeat this flipping test 999 more times (for a total of 1000 times, each time you flip the coin 100 times). \n",
    "\n",
    "* Write a function called `simulation_coinflip(p)` returns a numpy array `result` with shape `(1000,)` where the $i$-th element (`result[i-1]`) in this array is the result of the $i$-th flipping test (the no. of heads in a given flip test).\n",
    "* Plot the histograms using 50 bins using the resulting array of `simulation_coinflip(p)` for $p = 0.2, 0.5, 0.7$.\n",
    "\n",
    "<br><br>\n",
    "**Remark**: using for loops is okay, the code for this problem can be formulated using completely vectorized routines without any `for` loops, and you MAY or MAY NOT find `np.vectorize()` (vectorize a function if there is `if-else` conditionals), `np.mean()`, `np.sum()`, `np.apply_along_axis`, `np.count_nonzero()`, and `np.random.random()` useful."
   ]
  },
  {
   "cell_type": "code",
   "execution_count": null,
   "metadata": {},
   "outputs": [],
   "source": [
    "# your function here"
   ]
  },
  {
   "cell_type": "code",
   "execution_count": 7,
   "metadata": {},
   "outputs": [],
   "source": [
    "import matplotlib.pyplot as plt\n",
    "%matplotlib inline\n",
    "# histogram here\n",
    "plt.axis([0, 100, 0, 80]) # fixing the x-axis from 0 to 100 and y-axis from 0 to 80"
   ]
  },
  {
   "cell_type": "markdown",
   "metadata": {},
   "source": [
    "### Addendum of problem 2:\n",
    "If you add `np.random.seed(1)` in your function, how the simulation result will change?"
   ]
  },
  {
   "cell_type": "markdown",
   "metadata": {},
   "source": [
    "# Problem 3 Monty hall problem (optional but fun)\n",
    "In a game show a prize is placed randomly behind one of three closed doors with equal chances, labeled $A$, $B$, and $C$. You then choose one of the doors. After you have made your choice, Monty opens one of the doors, and\n",
    "shows you that there is no prize behind it. \n",
    "<br><br>\n",
    "Monty will **NEVER** open the door you pick,\n",
    "and he will **NEVER** open a door that has a prize behind it. He gives you the choice of\n",
    "staying with your original choice or changing. \n",
    "\n",
    "* Write a function to simulate one round of the Monty Hall show, you decide what the inputs can be, and what the output is. (HINT: use numerical values to represent everything involved)\n",
    "\n",
    "* Run this simulation 1000 times to compute the probability of winning of if every time you change your choice, and if every time you stay with your choice."
   ]
  },
  {
   "cell_type": "code",
   "execution_count": null,
   "metadata": {},
   "outputs": [],
   "source": [
    "# your code here"
   ]
  }
 ],
 "metadata": {
  "anaconda-cloud": {},
  "kernelspec": {
   "display_name": "Python 3",
   "language": "python",
   "name": "python3"
  },
  "language_info": {
   "codemirror_mode": {
    "name": "ipython",
    "version": 3
   },
   "file_extension": ".py",
   "mimetype": "text/x-python",
   "name": "python",
   "nbconvert_exporter": "python",
   "pygments_lexer": "ipython3",
   "version": "3.7.1"
  }
 },
 "nbformat": 4,
 "nbformat_minor": 2
}
