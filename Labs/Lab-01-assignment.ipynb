{
 "cells": [
  {
   "cell_type": "markdown",
   "metadata": {},
   "source": [
    "# Lab 1 Assignment: \n",
    "\n",
    "### Please type your name here:\n",
    "### Do not forget to change the filename with your name appended\n",
    "\n",
    "In this lab please fill the indicated cells with your code and explainations, ***run*** everything (select `cell` in the menu, and click `Run all`), save the notebook with your name appended to the filename (for example, `Lab-01-assignment-shuhaocao.ipynb`), and upload it to canvas.\n",
    "\n",
    "This lab assignment contains two problems (one with 2 sub questions) and an extra problem. Read each problem carefully and answer them the best you can."
   ]
  },
  {
   "cell_type": "markdown",
   "metadata": {},
   "source": [
    "In this assignment, we will try to solve the quadratic equation $ax^2 + bx + c= 0$ using the quadratic formula:\n",
    "$$x_1, x_2 = \\frac{-b \\pm \\sqrt{b^2 - 4ac}}{2a} .\\tag{1}$$"
   ]
  },
  {
   "cell_type": "markdown",
   "metadata": {},
   "source": [
    "### Problem 1\n",
    "Create variables `root1` and `root2` that represent the two roots to the quadratic equation $2x^2 + 3x - 1=0$ using only the operations: `**` (exponentiation), `*` (multiplication), `+` (addition), `-` (subtraction). Print out both roots using `print()` command."
   ]
  },
  {
   "cell_type": "code",
   "execution_count": null,
   "metadata": {},
   "outputs": [],
   "source": [
    "### insert your code in this cell\n",
    "### hint: **(0.5) is a square root\n",
    "\n",
    "\n",
    "### you can check using the following\n",
    "# print(2*root1**2. + 3*root1 - 1.)\n",
    "# print(2*root2**2. + 3*root2 - 1.)"
   ]
  },
  {
   "cell_type": "markdown",
   "metadata": {},
   "source": [
    "----"
   ]
  },
  {
   "cell_type": "markdown",
   "metadata": {},
   "source": [
    "### Problem 2 Part 1\n",
    "Import the `math` module in this problem, and use the square root function `sqrt` function in the `math` module to solve $2x^2 + 3x - 1=0$ by writing a `function` with the coefficient as inputs, and output the two roots by putting them in a `list`."
   ]
  },
  {
   "cell_type": "code",
   "execution_count": 2,
   "metadata": {},
   "outputs": [],
   "source": [
    "def quadraticsolver(a,b,c):\n",
    "    ### insert your code in this cell\n",
    "    ### note that you can either to import math module before defining the function or when running the function\n"
   ]
  },
  {
   "cell_type": "code",
   "execution_count": null,
   "metadata": {},
   "outputs": [],
   "source": [
    "# the following lines of code should yield the same outputs with Problem 1\n",
    "import math\n",
    "quadraticsolver(2,3,-1)"
   ]
  },
  {
   "cell_type": "markdown",
   "metadata": {},
   "source": [
    "### Problem 2 Part 2\n",
    "Your function above should be able to pass the following two tests\n",
    "* It should be able to recognize $0 x^2 + 3x - 1 = 0$ is not a quadratic equation, and your function should print certain warning message.\n",
    "* It should be able to tell the user that when the discriminant $\\Delta = b^2 - 4ac <0$, there are no real roots. Please use your function on $2x^2 + 3x + 4 = 0$. Be sure that your final output should **NOT** have any error message from `math.sqrt`.\n"
   ]
  },
  {
   "cell_type": "code",
   "execution_count": null,
   "metadata": {},
   "outputs": [],
   "source": [
    "# insert your tests here"
   ]
  },
  {
   "cell_type": "markdown",
   "metadata": {},
   "source": [
    "----"
   ]
  },
  {
   "cell_type": "markdown",
   "metadata": {},
   "source": [
    "----"
   ]
  },
  {
   "cell_type": "markdown",
   "metadata": {},
   "source": [
    "----"
   ]
  },
  {
   "cell_type": "markdown",
   "metadata": {},
   "source": [
    "----"
   ]
  },
  {
   "cell_type": "markdown",
   "metadata": {},
   "source": [
    "### (Optional) Problem 3\n",
    "#### please only try this problem if you have time left\n",
    "\n",
    "Formula (1) above will yield a slightly wrong answer, which is called a \"loss of precision\", if $|b| \\approx \\sqrt{b^2 - 4ac}$.\n",
    "<br><br>\n",
    "First try applying the function you wrote on equation $x^2 + 1000000x + 1= 0$. "
   ]
  },
  {
   "cell_type": "code",
   "execution_count": null,
   "metadata": {},
   "outputs": [],
   "source": [
    "import math\n",
    "quadraticsolver(1,1000000,1)"
   ]
  },
  {
   "cell_type": "markdown",
   "metadata": {},
   "source": [
    "Using a rationalization trick, formula (1) can be rewritten as follows:\n",
    "$$x_1, x_2=\\frac{2c}{-b\\mp \\sqrt{b^2-4ac}}. \\tag{2}$$\n",
    "<br><br>\n",
    "When $b>0$, we can implement our new quadratic solver as follows:\n",
    "$$x_1 = \\frac{-b - \\sqrt{b^2 - 4ac}}{2a} \\quad \\text{and} \\quad \n",
    "x_2=\\frac{2c}{-b - \\sqrt{b^2-4ac}}.$$\n",
    "Similarly, when $b<0$, we use alternatively\n",
    "$$x_1 = \\frac{-b + \\sqrt{b^2 - 4ac}}{2a} \\quad \\text{and} \\quad \n",
    "x_2=\\frac{2c}{-b + \\sqrt{b^2-4ac}}.$$\n",
    "Implement the scheme above efficiently in the following cell."
   ]
  },
  {
   "cell_type": "code",
   "execution_count": null,
   "metadata": {},
   "outputs": [],
   "source": [
    "def betterquadraticsolver(a,b,c):\n",
    "    ### insert your code in this cell"
   ]
  },
  {
   "cell_type": "markdown",
   "metadata": {},
   "source": [
    "##### Question 3\n",
    "Why `betterquadraticsolver` has different outputs than `quadraticsolver`? Which one is more accurate?\n",
    "<br><br>\n",
    "*hint*: a 32bit float, when converted to decimal, has 9 significant digits precision."
   ]
  }
 ],
 "metadata": {
  "kernelspec": {
   "display_name": "Python 3",
   "language": "python",
   "name": "python3"
  },
  "language_info": {
   "codemirror_mode": {
    "name": "ipython",
    "version": 3
   },
   "file_extension": ".py",
   "mimetype": "text/x-python",
   "name": "python",
   "nbconvert_exporter": "python",
   "pygments_lexer": "ipython3",
   "version": "3.7.1"
  }
 },
 "nbformat": 4,
 "nbformat_minor": 1
}
