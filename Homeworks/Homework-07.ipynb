{
 "cells": [
  {
   "cell_type": "markdown",
   "metadata": {},
   "source": [
    "# Homework Set Week 7\n",
    "## insert your name here\n",
    "\n",
    "In this homework assignment please fill the indicated cells with your code and explainations, ***run*** everything (select `cell` in the menu, and click `Run all`), save the notebook with your name appended to the filename (for example, `Homework-07-shuhaocao.ipynb`), and upload it to canvas.\n",
    "\n",
    "This homework assignment studies and tests about the classfication and logistic regression. Please import the following modules."
   ]
  },
  {
   "cell_type": "code",
   "execution_count": 2,
   "metadata": {},
   "outputs": [],
   "source": [
    "import numpy as np\n",
    "import matplotlib.pyplot as plt\n",
    "%matplotlib inline\n",
    "from IPython.display import Image, display"
   ]
  },
  {
   "cell_type": "markdown",
   "metadata": {},
   "source": [
    "# Problem 1: a small puzzle\n",
    "\n",
    "Run the following three cells, we know that $f(X) = 0$ for the inputs in the first cell, and $f(X) = 1$ for the inputs in the second cell. Find the $f=?$ in the third cell.\n",
    "\n",
    "You can use any method we have learned in class."
   ]
  },
  {
   "cell_type": "code",
   "execution_count": 3,
   "metadata": {},
   "outputs": [
    {
     "data": {
      "image/png": "[encoded data removed]",
      "text/plain": [
       "<IPython.core.display.Image object>"
      ]
     },
     "metadata": {},
     "output_type": "display_data"
    },
    {
     "data": {
      "image/png": "[encoded data removed]",
      "text/plain": [
       "<IPython.core.display.Image object>"
      ]
     },
     "metadata": {},
     "output_type": "display_data"
    },
    {
     "data": {
      "image/png": "[encoded data removed]",
      "text/plain": [
       "<IPython.core.display.Image object>"
      ]
     },
     "metadata": {},
     "output_type": "display_data"
    }
   ],
   "source": [
    "# f=0\n",
    "display(Image('mat1.png'), Image('mat2.png'), Image('mat3.png'))"
   ]
  },
  {
   "cell_type": "code",
   "execution_count": 4,
   "metadata": {},
   "outputs": [
    {
     "data": {
      "image/png": "[encoded data removed]",
      "text/plain": [
       "<IPython.core.display.Image object>"
      ]
     },
     "metadata": {},
     "output_type": "display_data"
    },
    {
     "data": {
      "image/png": "[encoded data removed]",
      "text/plain": [
       "<IPython.core.display.Image object>"
      ]
     },
     "metadata": {},
     "output_type": "display_data"
    },
    {
     "data": {
      "image/png": "[encoded data removed]",
      "text/plain": [
       "<IPython.core.display.Image object>"
      ]
     },
     "metadata": {},
     "output_type": "display_data"
    }
   ],
   "source": [
    "# f=1\n",
    "display(Image('mat4.png'), Image('mat5.png'), Image('mat6.png'))"
   ]
  },
  {
   "cell_type": "code",
   "execution_count": 5,
   "metadata": {
    "scrolled": false
   },
   "outputs": [
    {
     "data": {
      "image/png": "[encoded data removed]",
      "text/plain": [
       "<IPython.core.display.Image object>"
      ]
     },
     "metadata": {},
     "output_type": "display_data"
    }
   ],
   "source": [
    "# f=?\n",
    "display(Image('mat7.png'))"
   ]
  },
  {
   "cell_type": "code",
   "execution_count": null,
   "metadata": {},
   "outputs": [],
   "source": [
    "# problem 1 tests here:"
   ]
  },
  {
   "cell_type": "markdown",
   "metadata": {},
   "source": [
    "# Problem 2: Gradient descent for an artificial dataset\n",
    "\n",
    "In this problem we will perform the linear regression on an artificially generated dataset by `scikit-learn`'s datasets submodule's [sample generation function](https://scikit-learn.org/stable/modules/classes.html#samples-generator). To tackle a real world application, using an artificial dataset to benchmark how our algorithm does in a similar scenario is EXTREMELY helpful (debugging, controllable results, etc).\n",
    "\n",
    "Reference: [https://scikit-learn.org/stable/modules/generated/sklearn.datasets.make_regression.html](https://scikit-learn.org/stable/modules/generated/sklearn.datasets.make_regression.html)"
   ]
  },
  {
   "cell_type": "markdown",
   "metadata": {},
   "source": [
    "## Questions:\n",
    "* Use `make_regression` in `sklearn.datasets` to generate a dataset with 10000 points, 10 features, and no bias, then use `train_test_split` in `sklearn.model_selection` to split the data into 70% training vs 30% testing samples.\n",
    "* Use the gradient descent method to train a linear regression model with $L^2$ regularization, that is, the loss function is:\n",
    "$$\n",
    "L(\\mathbf{w}) = \\frac{1}{N}\\sum_{i=1}^N   \\left( (\\mathbf{x}^{(i)})^{\\top} \\mathbf{w} - y^{(i)} \\right)^2 + \n",
    "\\epsilon |\\mathbf{w}|^2,\n",
    "$$\n",
    "where $(\\mathbf{x}^{(i)}, y^{(i)})$ are the $i$-th training sample and its target value. Instead of using a fixed number of iterations, change the stopping criterion to: \n",
    "> If $|\\mathbf{w}_{m+1} - \\mathbf{w}_m| < \\delta$, stop the training.\n",
    "* (Graded) After you have trained the model, compute the $R^2$ statistics of your model's predicted target values vs the testing samples' target values. Feel free to choose any parameter combination to achieve a reasonable result ($R^2 > 0.5$).\n",
    "\n",
    "Reference: Lecture 17 and Labs of week 7."
   ]
  },
  {
   "cell_type": "code",
   "execution_count": null,
   "metadata": {},
   "outputs": [],
   "source": [
    "# gd for linear regression"
   ]
  }
 ],
 "metadata": {
  "kernelspec": {
   "display_name": "Python 3",
   "language": "python",
   "name": "python3"
  },
  "language_info": {
   "codemirror_mode": {
    "name": "ipython",
    "version": 3
   },
   "file_extension": ".py",
   "mimetype": "text/x-python",
   "name": "python",
   "nbconvert_exporter": "python",
   "pygments_lexer": "ipython3",
   "version": "3.7.2"
  }
 },
 "nbformat": 4,
 "nbformat_minor": 2
}
