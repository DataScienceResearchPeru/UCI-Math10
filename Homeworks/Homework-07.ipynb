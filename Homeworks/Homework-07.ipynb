{
 "cells": [
  {
   "cell_type": "markdown",
   "metadata": {},
   "source": [
    "# Homework Set Week 7\n",
    "## insert your name here\n",
    "\n",
    "In this homework assignment please fill the indicated cells with your code and explainations, ***run*** everything (select `cell` in the menu, and click `Run all`), save the notebook with your name appended to the filename (for example, `Homework-07-caos.ipynb`), and upload it to canvas.\n",
    "\n",
    "This homework assignment studies and tests about the classfication. Please import the following modules."
   ]
  },
  {
   "cell_type": "code",
   "execution_count": 4,
   "metadata": {},
   "outputs": [],
   "source": [
    "import numpy as np\n",
    "import matplotlib.pyplot as plt\n",
    "from tqdm import tqdm_notebook\n",
    "%matplotlib inline\n",
    "from IPython.display import Image, display"
   ]
  },
  {
   "cell_type": "markdown",
   "metadata": {},
   "source": [
    "# Problem 1: a small puzzle\n",
    "\n",
    "Download all the images from Canvas, run the following three cells, we know that $f(X) = 0$ for the inputs in the first cell, and $f(X) = 1$ for the inputs in the second cell. Find the $f=?$ in the third cell.\n",
    "\n",
    "Suggested method: logistic regression by treating each block as a 3x3 matrix and the first 6 images as training samples. Expected output: your logistic regression model $h(\\mathbf{x}; \\mathbf{w})$ should be very close to 0.5, i.e., your model should not be able to clearly tell the $f=0$ or $1$."
   ]
  },
  {
   "cell_type": "code",
   "execution_count": 3,
   "metadata": {},
   "outputs": [
    {
     "data": {
      "image/png": "[encoded data removed]",
      "text/plain": [
       "<IPython.core.display.Image object>"
      ]
     },
     "metadata": {},
     "output_type": "display_data"
    },
    {
     "data": {
      "image/png": "[encoded data removed]",
      "text/plain": [
       "<IPython.core.display.Image object>"
      ]
     },
     "metadata": {},
     "output_type": "display_data"
    },
    {
     "data": {
      "image/png": "[encoded data removed]",
      "text/plain": [
       "<IPython.core.display.Image object>"
      ]
     },
     "metadata": {},
     "output_type": "display_data"
    }
   ],
   "source": [
    "# f=0\n",
    "display(Image('mat1.png'), Image('mat2.png'), Image('mat3.png'))"
   ]
  },
  {
   "cell_type": "code",
   "execution_count": 4,
   "metadata": {},
   "outputs": [
    {
     "data": {
      "image/png": "[encoded data removed]",
      "text/plain": [
       "<IPython.core.display.Image object>"
      ]
     },
     "metadata": {},
     "output_type": "display_data"
    },
    {
     "data": {
      "image/png": "[encoded data removed]",
      "text/plain": [
       "<IPython.core.display.Image object>"
      ]
     },
     "metadata": {},
     "output_type": "display_data"
    },
    {
     "data": {
      "image/png": "[encoded data removed]",
      "text/plain": [
       "<IPython.core.display.Image object>"
      ]
     },
     "metadata": {},
     "output_type": "display_data"
    }
   ],
   "source": [
    "# f=1\n",
    "display(Image('mat4.png'), Image('mat5.png'), Image('mat6.png'))"
   ]
  },
  {
   "cell_type": "code",
   "execution_count": 5,
   "metadata": {
    "scrolled": false
   },
   "outputs": [
    {
     "data": {
      "image/png": "[encoded data removed]",
      "text/plain": [
       "<IPython.core.display.Image object>"
      ]
     },
     "metadata": {},
     "output_type": "display_data"
    }
   ],
   "source": [
    "# f=?\n",
    "display(Image('mat7.png'))"
   ]
  },
  {
   "cell_type": "code",
   "execution_count": null,
   "metadata": {},
   "outputs": [],
   "source": [
    "# problem 1 tests here:"
   ]
  },
  {
   "cell_type": "markdown",
   "metadata": {},
   "source": [
    "# Problem 2: SGD for the softmax classifier on MNIST dataset\n",
    "\n",
    "In this problem we will test the performance of the SGD vs GD on the classification problem for the MNIST dataset. Please complete the following:\n",
    "* Download the npz data from Canvas, import both the training and testing samples in the MNIST dataset using the following cell.\n",
    "\n",
    "* Use the softmax regression set-up in the cell that follows, model (input an image, output 10 probabilities), softmax loss function, and the gradient of the loss function.\n",
    "\n",
    "* (Graded)  Run 1 iteration of the gradient descent with the learning rate $\\eta = 10^{-4}$, and 1 epoch of the stochastic gradient descent for all the training samples with the learning rate $\\eta = 10^{-6}$. Compare the prediction accuracies of both approaches on the testing samples. When comparing, please either fix the random number generator seed, or use zero initial guess for both weights. A remark is that vanilla SGD may take some time since it is a `for` loop iterating 60,000 times, you may want to print the accuracy every 5000 iterations to make sure your SGD goes in the right direction, and use `tqdm_notebook` function to keep track of the iterations, of which the usage is simply:\n",
    "```python\n",
    "for i in tqdm_notebook(range(N)):\n",
    "    (whatever needs to be done)\n",
    "```\n",
    "*Expected result*: 1 epoch of SGD (evaluating gradient for each sample one at a time) should achieve much higher accuracy than 1 iteration of GD (evaluating gradient for all samples at once).\n",
    "\n",
    "* (Graded) Try the mini-batch SGD (code provided by Lecture 19 notebook) to minimize the softmax loss function, and let the mini-batch size to be 32. Choose appropriate learning rate $\\eta$, number of inner iterations $M$, number of epochs (outer iterations) $n_E$, so that the algorithm converges and the prediction reaches a reasonable accuracy ($\\approx 90\\%$).\n",
    "\n",
    "#### Remark: \n",
    "When using the gradient descent template in the lecture's notebook, please DO NOT evaluate the loss function at each iteration for SGD or mini-batch SGD, as it will be extremely slow. Please check the loss's value after every epoch."
   ]
  },
  {
   "cell_type": "code",
   "execution_count": 1,
   "metadata": {},
   "outputs": [],
   "source": [
    "data_train = np.load('mnist_train.npz')\n",
    "data_test = np.load('mnist_test.npz')\n",
    "X_train = data_train['X']\n",
    "y_train = data_train['y']\n",
    "X_test = data_test['X']\n",
    "y_test = data_test['y']"
   ]
  },
  {
   "cell_type": "code",
   "execution_count": 2,
   "metadata": {},
   "outputs": [],
   "source": [
    "# global variables:\n",
    "n = np.shape(X_train)[1] # 784, which is number of pixels (number of features)\n",
    "K = 10 # number of classes\n",
    "N = len(y_train) # number of training samples\n",
    "\n",
    "def sigma(X,w):\n",
    "    w = w.reshape(n,K)\n",
    "    if X.ndim == 1:\n",
    "        X = X.reshape(1,-1)\n",
    "    s = np.exp(np.matmul(X,w))\n",
    "    total = np.sum(s, axis=1).reshape(-1,1)\n",
    "    prob = s / total\n",
    "    return prob\n",
    "\n",
    "def loss(w,X,y):\n",
    "    loss_samples = np.zeros(N)\n",
    "    for k in range(K):\n",
    "        loss_samples += np.log(sigma(X,w))[:,k] * (y == k)\n",
    "    return -np.mean(loss_samples) \n",
    "\n",
    "def gradient_loss(w,X,y):\n",
    "    gd_class_all = np.empty([n,K]) \n",
    "    for k in range(K):\n",
    "        gd_class_k = (sigma(X,w)[:,k] - (y==k)).reshape(-1,1)*X\n",
    "        gd_class_all[:,k] = np.mean(gd_class_k, axis=0)\n",
    "    return gd_class_all.reshape(n*K)\n",
    "\n",
    "def cv_acc(w,X,y):\n",
    "    prob = sigma(X,w)\n",
    "    highest_prob_index = np.argmax(prob, axis=1)\n",
    "    return np.mean(highest_prob_index == y.astype(int))"
   ]
  }
 ],
 "metadata": {
  "kernelspec": {
   "display_name": "Python 3",
   "language": "python",
   "name": "python3"
  },
  "language_info": {
   "codemirror_mode": {
    "name": "ipython",
    "version": 3
   },
   "file_extension": ".py",
   "mimetype": "text/x-python",
   "name": "python",
   "nbconvert_exporter": "python",
   "pygments_lexer": "ipython3",
   "version": "3.7.2"
  },
  "latex_envs": {
   "LaTeX_envs_menu_present": true,
   "autoclose": true,
   "autocomplete": true,
   "bibliofile": "biblio.bib",
   "cite_by": "apalike",
   "current_citInitial": 1,
   "eqLabelWithNumbers": true,
   "eqNumInitial": 1,
   "hotkeys": {
    "equation": "Ctrl-E",
    "itemize": "Ctrl-I"
   },
   "labels_anchors": false,
   "latex_user_defs": false,
   "report_style_numbering": false,
   "user_envs_cfg": false
  },
  "varInspector": {
   "cols": {
    "lenName": 16,
    "lenType": 16,
    "lenVar": 40
   },
   "kernels_config": {
    "python": {
     "delete_cmd_postfix": "",
     "delete_cmd_prefix": "del ",
     "library": "var_list.py",
     "varRefreshCmd": "print(var_dic_list())"
    },
    "r": {
     "delete_cmd_postfix": ") ",
     "delete_cmd_prefix": "rm(",
     "library": "var_list.r",
     "varRefreshCmd": "cat(var_dic_list()) "
    }
   },
   "types_to_exclude": [
    "module",
    "function",
    "builtin_function_or_method",
    "instance",
    "_Feature"
   ],
   "window_display": false
  }
 },
 "nbformat": 4,
 "nbformat_minor": 2
}
