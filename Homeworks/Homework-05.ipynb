{
 "cells": [
  {
   "cell_type": "markdown",
   "metadata": {},
   "source": [
    "# Homework Set Week 5\n",
    "## insert your name here\n",
    "\n",
    "In this homework assignment please fill the indicated cells with your code and explainations, ***run*** everything (select `cell` in the menu, and click `Run all`), save the notebook with your name appended to the filename (for example, `Homework-05-caos.ipynb`), and upload it to canvas."
   ]
  },
  {
   "cell_type": "code",
   "execution_count": 1,
   "metadata": {},
   "outputs": [],
   "source": [
    "import matplotlib.pyplot as plt\n",
    "import numpy as np\n",
    "%matplotlib inline"
   ]
  },
  {
   "cell_type": "markdown",
   "metadata": {
    "collapsed": true
   },
   "source": [
    "# Problem 1: Monte-Carlo approximation of $\\pi$\n",
    "\n",
    "Use function in the `numpy.random` module to generate $N = 10000$ samples of points $(x,y)$, in which each coordinate is uniformly random distributed in the interval $(0,1)$. Estimate $\\pi$ by computing the fraction of points that are within the circle defined by $x^2 + y^2 = 1$. The $\\pi/4$ can be then estimated by the ratio of the points in the circle to the total number of points."
   ]
  },
  {
   "cell_type": "code",
   "execution_count": null,
   "metadata": {},
   "outputs": [],
   "source": [
    "# your code here to estimate pi/4, you can use for loops but a vectorized implementation is prefered"
   ]
  },
  {
   "cell_type": "markdown",
   "metadata": {},
   "source": [
    "After you have done so, use `X_out`, `Y_out` to record the points' coordinates outside the circle, and `X_in`, `Y_in` to record the points inside the circle. Run the cell below the image to generate a diagram (when you have 1000 points, the diagram should look similar to this image):"
   ]
  },
  {
   "cell_type": "code",
   "execution_count": 2,
   "metadata": {},
   "outputs": [
    {
     "data": {
      "image/png": "[encoded data removed]",
      "text/plain": [
       "<IPython.core.display.Image object>"
      ]
     },
     "metadata": {},
     "output_type": "display_data"
    }
   ],
   "source": [
    "from IPython.display import Image, display \n",
    "display(Image('monte_carlo.png')) "
   ]
  },
  {
   "cell_type": "code",
   "execution_count": null,
   "metadata": {},
   "outputs": [],
   "source": [
    "x = np.linspace(0,1,100)\n",
    "y = (lambda x: np.sqrt(1-x**2))(x)\n",
    "plt.figure(figsize=(5,5))\n",
    "plt.scatter(X_out, Y_out, color = 'red')\n",
    "plt.scatter(X_in, Y_in, color = 'blue')\n",
    "plt.plot(x, y, color='black', linewidth = 5)\n",
    "plt.axis([0, 1, 0, 1])\n",
    "plt.show()"
   ]
  },
  {
   "cell_type": "markdown",
   "metadata": {},
   "source": [
    "# Problem 2 Implementing a stopping criterion for GD\n",
    "In vector calculus, we generalize the concept of the derivative as the gradient. For a single variable function $\\nabla f = f'$.\n",
    "<br><br>\n",
    "The gradient is the derivative of a function of all of its variables. We use the gradient in order to create a directional derivative. The directional derivative gives us both a direction and magnitute of \"how steep\" the function is at that point and facing that direction. Following the directional derivatives we can find the minimum (or maximum) value of a function.\n",
    "<br><br>\n",
    "Following the gradient, or so-called **gradient descent**, is a commonly-used **first order** optimization algorithm for finding the local minimum of a function. To find a local minimum, the function \"steps\" in the  direction of the negative of the gradient. The algorithm of gradient descent can be outlined as follows:\n",
    "\n",
    "> Choose initial guess $x_0$, step size (learning rate) $\\eta$, number of iterations $M$ <br>\n",
    ">  &nbsp;&nbsp; for $k = 0, 1, 2, \\dots, M $ </b> <br>\n",
    ">  &nbsp;&nbsp;&nbsp;&nbsp;&nbsp;&nbsp;    $x_{k+1} = x_k - \\eta f'(x_k)$ <br>\n",
    "\n",
    "\n",
    "In this homework, we are supposed find a local minimum for the function $f(x) = x^3-2x^2+2$"
   ]
  },
  {
   "cell_type": "code",
   "execution_count": null,
   "metadata": {
    "scrolled": true
   },
   "outputs": [],
   "source": [
    "# run this cell to plot f(x)\n",
    "# define f\n",
    "f = lambda x: x**3-2*x**2+2\n",
    "xs = np.linspace(-1,2.5,1000)\n",
    "plt.figure(figsize= [8,4])\n",
    "plt.plot(xs, f(xs),linewidth = 2)\n",
    "plt.xlim([-1,2.5])\n",
    "plt.ylim([0,3])\n",
    "plt.grid(True, linestyle = 'dashed')\n",
    "plt.show()"
   ]
  },
  {
   "cell_type": "markdown",
   "metadata": {},
   "source": [
    "We can see from plot above that our local minimum is gonna be achieved near around 1.3 on the $x$-axis (you can solve the $f'=0$), but let's pretend that we don't know that, so we set our starting point at $x_0 = 2$"
   ]
  },
  {
   "cell_type": "code",
   "execution_count": null,
   "metadata": {},
   "outputs": [],
   "source": [
    "# returns the value of the derivative of our function\n",
    "def f_prime(x):\n",
    "    return 3*x**2-4*x\n",
    "\n",
    "x = 2 # initial guess\n",
    "eta = 0.1 # step size\n",
    "num_steps = 200 # iterations\n",
    "\n",
    "x_vals = np.zeros(num_steps)\n",
    "f_vals = np.zeros(num_steps)\n",
    "\n",
    "for i in range(num_steps):\n",
    "    x_vals[i] = x\n",
    "    f_vals[i] = f(x)\n",
    "    df = f_prime(x)\n",
    "    x -= eta*df\n",
    "\n",
    "    \n",
    "print(\"After %s iterations f(x) is %.4f at %.7f. \" %(num_steps, f(x), x))"
   ]
  },
  {
   "cell_type": "code",
   "execution_count": null,
   "metadata": {},
   "outputs": [],
   "source": [
    "plt.figure(figsize=[16,4])\n",
    "plt.subplot(1,2,1)\n",
    "plt.plot(x_vals,f_vals,'-ro', markersize=5)\n",
    "plt.plot(xs,f(xs), color='blue', linewidth = 2)\n",
    "plt.xlim([-1,2.5])\n",
    "plt.ylim([0,3])\n",
    "plt.title(\"Gradient descent\")\n",
    "plt.grid(True, linestyle = 'dashed')\n",
    "\n",
    "plt.subplot(1,2,2)\n",
    "plt.plot(x_vals,f_vals,'-ro', markersize=5)\n",
    "plt.plot(xs,f(xs), color='blue')\n",
    "plt.xlim([1.2,2.1])\n",
    "plt.ylim([.7,2.1])\n",
    "plt.title(\"Gradient descent (zoomed in)\")\n",
    "plt.grid(True, linestyle = 'dashed')\n",
    "plt.show()"
   ]
  },
  {
   "cell_type": "markdown",
   "metadata": {},
   "source": [
    "## Reading: Why do we follow the negative gradient? \n",
    "\n",
    "If we calculate the directional derivative:\n",
    "$D_{\\mathbf{u}}(f) =  \\nabla f\\cdot \\mathbf{u}$, where $\\mathbf{u}$ is the unit vector in the direction we care about.\n",
    "\n",
    "$|\\cdot|$ indicates magnitute of the vector. The magnitute of the directional derivative gives us the rate of change of movement in that direction. Now \n",
    "$$D_{\\mathbf{u}}(f) = \\nabla f\\cdot \\mathbf{u}= |\\nabla f| \\cdot |\\mathbf{u}| \\cdot \\cos(\\theta),$$ \n",
    "where $\\theta$ is the angle between the two vectors. Since $u$ is a unit vector, so $D_{\\mathbf{u}}(f) = |\\nabla f|\\cos(\\theta)$. \n",
    "\n",
    "The extreme values of this directional derivative occur when the $\\cos(\\theta) = \\pm 1$ when $\\theta=0, \\pi$ therefore when the vector $\\mathbf{u}$ is either in the same direction as, or opposite to $\\nabla f$.\n",
    "The maximum of $D_{\\mathbf{u}}(f) $ is therefore given by $|D_{\\mathbf{u}}(f)|$, and will occur in the direction given by $\\nabla f(x)$ (the direction that $f$ increases fastest); while the direction of $-\\nabla f(x)$ makes this function decrease the fastest.\n"
   ]
  },
  {
   "cell_type": "markdown",
   "metadata": {},
   "source": [
    "## Question for Problem 2\n",
    "If you check the convergence of `x_vals` and `f_vals`, you will find that after several iterations, `x_vals` is already very close to the true minimum point's $x$-coordinate. Using 200 steps is relatively wasteful of computational resources for this simple problem. In the first question below, we are going to implement a **stopping criterion**, that is:\n",
    "\n",
    "> At the $(k+1)$-th iteration, if $|x_{k+1} - x_{k}| < \\text{Tol} $, where $\\text{Tol} $ is a tolerance the user sets, then the gradient descent stops and returns $x_{k+1}$.\n",
    "\n",
    "* Rewrite the script above into a function using the initial guess, step size, tolerance for stopping criterion, maximum no. of steps $M$ (if the tolerance is not reached after this number the GD stops and returns $x_M$), and the exact gradient lambda function as inputs, which returns the sequence of `x_vals` and `f_vals` at each iterations.\n",
    "\n",
    "* Try changing the initial guess to a negative number, for example $x_0 = -3$, and varying step sizes to 1 and 1e-2, does the algorithm converge to the same local extremum or converge at all? Why?"
   ]
  },
  {
   "cell_type": "code",
   "execution_count": null,
   "metadata": {},
   "outputs": [],
   "source": [
    "# your gradient descent function here\n",
    "def grad_descent(f_prime, x0, eta, num_steps = 100, tol = 1e-5):\n",
    "    # something something to replace pass\n",
    "    pass"
   ]
  },
  {
   "cell_type": "code",
   "execution_count": null,
   "metadata": {},
   "outputs": [],
   "source": [
    "# testing the original example making sure it works\n",
    "x_vals, f_vals =  grad_descent(f_prime, 2, eta = 1e-1, num_steps = 200, tol = 1e-5)"
   ]
  },
  {
   "cell_type": "code",
   "execution_count": null,
   "metadata": {},
   "outputs": [],
   "source": [
    "# testing different step size and x0=-3"
   ]
  }
 ],
 "metadata": {
  "kernelspec": {
   "display_name": "Python 3",
   "language": "python",
   "name": "python3"
  },
  "language_info": {
   "codemirror_mode": {
    "name": "ipython",
    "version": 3
   },
   "file_extension": ".py",
   "mimetype": "text/x-python",
   "name": "python",
   "nbconvert_exporter": "python",
   "pygments_lexer": "ipython3",
   "version": "3.7.2"
  },
  "latex_envs": {
   "LaTeX_envs_menu_present": true,
   "autoclose": true,
   "autocomplete": true,
   "bibliofile": "biblio.bib",
   "cite_by": "apalike",
   "current_citInitial": 1,
   "eqLabelWithNumbers": true,
   "eqNumInitial": 1,
   "hotkeys": {
    "equation": "Ctrl-E",
    "itemize": "Ctrl-I"
   },
   "labels_anchors": false,
   "latex_user_defs": false,
   "report_style_numbering": false,
   "user_envs_cfg": false
  },
  "varInspector": {
   "cols": {
    "lenName": 16,
    "lenType": 16,
    "lenVar": 40
   },
   "kernels_config": {
    "python": {
     "delete_cmd_postfix": "",
     "delete_cmd_prefix": "del ",
     "library": "var_list.py",
     "varRefreshCmd": "print(var_dic_list())"
    },
    "r": {
     "delete_cmd_postfix": ") ",
     "delete_cmd_prefix": "rm(",
     "library": "var_list.r",
     "varRefreshCmd": "cat(var_dic_list()) "
    }
   },
   "types_to_exclude": [
    "module",
    "function",
    "builtin_function_or_method",
    "instance",
    "_Feature"
   ],
   "window_display": false
  }
 },
 "nbformat": 4,
 "nbformat_minor": 2
}
