{
 "cells": [
  {
   "cell_type": "markdown",
   "metadata": {},
   "source": [
    "# Homework Set 2\n",
    "## insert your name here\n",
    "\n",
    "In this homework assignment please fill the indicated cells with your code and explainations, ***run*** everything (select `cell` in the menu, and click `Run all`), save the notebook, and upload it to canvas.\n",
    "\n",
    "This homework assignment contains three problems. Read each problem carefully and answer them the best you can."
   ]
  },
  {
   "cell_type": "code",
   "execution_count": null,
   "metadata": {},
   "outputs": [],
   "source": [
    "import numpy as np"
   ]
  },
  {
   "cell_type": "markdown",
   "metadata": {},
   "source": [
    "# Problem 1:\n",
    "Use the following `isprime()` function to do the complete the following questions."
   ]
  },
  {
   "cell_type": "code",
   "execution_count": null,
   "metadata": {},
   "outputs": [],
   "source": [
    "def isprime(n):\n",
    "    '''\n",
    "    isprime() check if the input int is a prime or not\n",
    "    '''\n",
    "    if n <= 1:\n",
    "        return False\n",
    "    d = 2\n",
    "    while d*d<=n:    \n",
    "        if n % d  == 0:\n",
    "            return False\n",
    "        d += 1\n",
    "    return True"
   ]
  },
  {
   "cell_type": "markdown",
   "metadata": {},
   "source": [
    "# Problem 1 (Prime number theorem)\n",
    "\n",
    "The prime number theorem states that as $n$ becomes large, the number of prime numbers between $1$ and $n$ approaches $$\\frac{n}{\\ln n},$$  where $\\ln = \\log_e$ is the natural logarithm. \n",
    "\n",
    "* Write a function `listprimes(n)`, that uses the `isprime()` function above, that returns an array of primes between $1$ and $n$. For example, `listprimes(6)` should return `array([2,3,5])`.\n",
    "* For $n = 10, 100, 1000, \\dots , 10^6$, store the values of $\\dfrac{n}{\\ln n}$ and `len(listprimes(n))` for each $n$ in two NumPy arrays `n_over_logn` and `num_primes_n`. For example, `n_over_logn[1]` should return the numerical value of $100/(\\ln 100)$, `num_primes_n[1]` should be the same value with `len(listprimes(100))` \n",
    "<br><br>\n",
    "* Use the given script in `pyplot` to plot the two arrays. \n",
    "* Answer in Markdown format what you observe about their relative values.\n",
    "\n",
    "* Functions that might be useful [`np.log`](https://docs.scipy.org/doc/numpy/reference/generated/numpy.log.html), [`np.concatenate`](https://docs.scipy.org/doc/numpy/reference/generated/numpy.concatenate.html)"
   ]
  },
  {
   "cell_type": "code",
   "execution_count": null,
   "metadata": {},
   "outputs": [],
   "source": [
    "def listprimes(n):\n",
    "    # type your code here to replace pass\n",
    "    pass"
   ]
  },
  {
   "cell_type": "code",
   "execution_count": null,
   "metadata": {},
   "outputs": [],
   "source": [
    "for i in range(6):\n",
    "    # type your code here\n",
    "    # the running might take a while"
   ]
  },
  {
   "cell_type": "code",
   "execution_count": null,
   "metadata": {},
   "outputs": [],
   "source": [
    "# plot the comparison using the following code\n",
    "import matplotlib.pyplot as plt\n",
    "%matplotlib inline \n",
    "grid = np.linspace(1,6,6)\n",
    "\n",
    "line1, = plt.plot(grid,n_over_logn,linewidth=3,label = \"$n/ln(n)$\")\n",
    "line2, = plt.plot(grid,num_primes_n,linewidth=1,marker='o',linestyle=':',label = \"# of primes $\\leq$ n\")\n",
    "plt.grid(True, linestyle = 'dashed',alpha= 0.5)\n",
    "plt.legend(handles=[line1, line2])\n",
    "plt.show()"
   ]
  },
  {
   "cell_type": "markdown",
   "metadata": {},
   "source": [
    "### Answer\n",
    "**What have you observed**: "
   ]
  },
  {
   "cell_type": "markdown",
   "metadata": {},
   "source": [
    "# Problem 2 (Verifying eigenvalue and eigenvector)\n",
    "\n",
    "For a square matrix $A\\in \\mathbb{R}^{n\\times n}$, and a column vector $\\mathbf {v}\\in \\mathbb{R}^n$: $\\mathbf {v}$ is said to be an eigenvector of $A$ associated with eigenvalue $\\lambda \\in \\mathbb{R}$ or $\\lambda \\in \\mathbb{C}$ (even though we will not use complex eigenvalue in our class), if there exists such a scalar \n",
    "$\\lambda$ that the following holds\n",
    "$$A\\mathbf {x} =\\lambda \\mathbf {x} \\tag{1}$$\n",
    "or equivalently,\n",
    "$$\\begin{pmatrix}A_{11}&A_{12}&\\ldots &A_{1n}\\\\A_{21}&A_{22}&\\ldots &A_{2n}\\\\\\vdots &\\vdots &\\ddots &\\vdots \\\\A_{n1}&A_{n2}&\\ldots &A_{nn}\\\\ \\end{pmatrix} \\begin{pmatrix}x_{1}\\\\x_{2}\\\\\\vdots \\\\x_{n}\\end{pmatrix}=\n",
    "\\lambda \\begin{pmatrix}x_{1}\\\\x_{2}\\\\\\vdots \\\\x_{n}\\end{pmatrix}.$$\n",
    "\n",
    "Write a function `iseigen(A,x)`, using the sample code following this cell, that takes input of a numPy array `A` representing a $n\\times n$ matrix and a numPy array `x` representing a $n\\times 1$ column vector, and return `True` if the `x` is an eigenvector of `A`, `False` otherwise.\n",
    "\n",
    "The sample code is checking the *Rayleigh quotient* for vector $\\mathbf{x}$: \n",
    "$$w = \\frac{\\mathbf{x}^{\\top}A \\mathbf{x}}{\\mathbf{x}^{\\top} \\mathbf{x}}.\n",
    "$$\n",
    "If $A \\mathbf{x} = w \\mathbf{x}$, then indeed $\\mathbf{x}$ is an eigenvector.\n",
    "<br><br>\n",
    "**Requirement**: please do NOT use the numpy built-in function `numpy.linalg.eig` nor `numpy.linalg.det` directly in your function, you can use `numpy.linalg.eig` to check if the function you have implemented is correct."
   ]
  },
  {
   "cell_type": "markdown",
   "metadata": {},
   "source": [
    "### Example code for Problem 2: verify a vector is an eigenvector for a given matrix\n",
    "If we are given a Numpy matrix `A`, an array `x`, we compute their dot product, we should get a constant multiple of `x` if (1) is satisfied (i.e., the corresponding entry's ratio should be the same). "
   ]
  },
  {
   "cell_type": "code",
   "execution_count": null,
   "metadata": {},
   "outputs": [],
   "source": [
    "# set up\n",
    "np.set_printoptions(precision=8)"
   ]
  },
  {
   "cell_type": "code",
   "execution_count": null,
   "metadata": {},
   "outputs": [],
   "source": [
    "# check if x is an eigenvector of A\n",
    "A = np.array([[2, 1, 6], [-1, 1, 3],[7, 2, 2]])\n",
    "x = np.array([0.6600492484297499 , 0.19239177817532563, 0.7261682954645283])\n",
    "w = 8.892518341298729"
   ]
  },
  {
   "cell_type": "code",
   "execution_count": null,
   "metadata": {},
   "outputs": [],
   "source": [
    "tol = 1e-8 # a tolerance, taking into account of rounding error\n",
    "Ax = np.matmul(A,x)\n",
    "xTAx = np.matmul(x.T,Ax) # this is x^T A x\n",
    "xx = np.dot(x,x) # this is x^T x\n",
    "w = xTAx/xx\n",
    "\n",
    "# the following two lines is one way to check if every entry of w is the same \n",
    "# up to a rounding error, DO NOT use == on floats\n",
    "diff_squared = (Ax - w*x)**2\n",
    "error = np.sqrt(np.sum(diff_squared))\n",
    "# this computes the L^2 norm difference of Ax and w*x\n",
    "if error < tol:\n",
    "    print(\"Yes it is an eigvector\") # this should be the case\n",
    "else:\n",
    "    print(\"No it is not an eigvector\")"
   ]
  },
  {
   "cell_type": "markdown",
   "metadata": {},
   "source": [
    "## Remark:\n",
    "While `==` or `!=` are good for checking if two `int`s are the same, we want to avoid using `==` or `!=` operand for floats at all cost. To check if two floats are equal, we usually use the criterion of $|x-y|<\\text{Tol} $ or $\\|x-y\\| <\\text{Tol} $; `numpy` has a built-in function for this purpose, it is [`allclose`](https://docs.scipy.org/doc/numpy/reference/generated/numpy.allclose.html)."
   ]
  },
  {
   "cell_type": "markdown",
   "metadata": {},
   "source": [
    "### Now rewrite the script above into a function"
   ]
  },
  {
   "cell_type": "code",
   "execution_count": null,
   "metadata": {},
   "outputs": [],
   "source": [
    "def iseigen(A,x):\n",
    "    # your code here to replace pass\n",
    "    pass"
   ]
  },
  {
   "cell_type": "code",
   "execution_count": null,
   "metadata": {},
   "outputs": [],
   "source": [
    "# run the following tests\n",
    "S = np.array([[227, 156, 189,  36], [156, 131, 131,  29], [189, 131, 158,  29],[ 36,  29,  29,  27]])\n",
    "v1 = np.array([ 0.6274309384164155,   0.03934428679482524, -0.7763447851032966, -0.04551064993404177])\n",
    "v2 = np.array([1, 0, 1, 0])"
   ]
  },
  {
   "cell_type": "code",
   "execution_count": null,
   "metadata": {},
   "outputs": [],
   "source": [
    "iseigen(S,v1) # this should return True"
   ]
  },
  {
   "cell_type": "code",
   "execution_count": null,
   "metadata": {},
   "outputs": [],
   "source": [
    "iseigen(S,v2) # this should return False"
   ]
  },
  {
   "cell_type": "markdown",
   "metadata": {},
   "source": [
    "# Problem 3:\n",
    "\n",
    "Suppose we \n",
    "* a vector `u` of shape `(2,)`. \n",
    "* a matrix `X`, of which the shape is `(n,2)`, in which we have `n` rows, and each row represent a point.\n",
    "\n",
    "Write a function `nearestneighbor(u,X)` that returns the point(s) in `X` that is closest to `u`, you may have multiple points.\n",
    "\n",
    "For example:\n",
    "```python\n",
    "u = np.array([1, 0])\n",
    "X = np.array([[0, 0],[1, 0],[0, 1]])\n",
    "nearestneighbor(u,X)\n",
    "```\n",
    "should return `array([1,0])`.\n",
    "\n",
    "* Possible tools to use: [np.sort](https://docs.scipy.org/doc/numpy/reference/generated/numpy.sort.html), \n",
    "[np.argsort](https://docs.scipy.org/doc/numpy/reference/generated/numpy.argsort.html), the distance function you have implemented in the graded Lab 2, problem 2 above to check if two floats are the same."
   ]
  },
  {
   "cell_type": "code",
   "execution_count": null,
   "metadata": {},
   "outputs": [],
   "source": [
    "## use the following arrays to test your function \n",
    "np.random.seed(666)\n",
    "u1 = np.random.randint(1,7,size=2)\n",
    "X1 = np.random.randint(1,7,size=(10,2))"
   ]
  },
  {
   "cell_type": "markdown",
   "metadata": {},
   "source": [
    "When apply your function on these two arrays, the expected output of `nearestneighbor(u1,X1)` is:\n",
    "```python\n",
    "array([[6, 2],\n",
    "       [4, 4]])\n",
    "```"
   ]
  }
 ],
 "metadata": {
  "kernelspec": {
   "display_name": "Python 3",
   "language": "python",
   "name": "python3"
  },
  "language_info": {
   "codemirror_mode": {
    "name": "ipython",
    "version": 3
   },
   "file_extension": ".py",
   "mimetype": "text/x-python",
   "name": "python",
   "nbconvert_exporter": "python",
   "pygments_lexer": "ipython3",
   "version": "3.7.2"
  },
  "latex_envs": {
   "LaTeX_envs_menu_present": true,
   "autoclose": true,
   "autocomplete": true,
   "bibliofile": "biblio.bib",
   "cite_by": "apalike",
   "current_citInitial": 1,
   "eqLabelWithNumbers": true,
   "eqNumInitial": 1,
   "hotkeys": {
    "equation": "Ctrl-E",
    "itemize": "Ctrl-I"
   },
   "labels_anchors": false,
   "latex_user_defs": false,
   "report_style_numbering": false,
   "user_envs_cfg": false
  },
  "varInspector": {
   "cols": {
    "lenName": 16,
    "lenType": 16,
    "lenVar": 40
   },
   "kernels_config": {
    "python": {
     "delete_cmd_postfix": "",
     "delete_cmd_prefix": "del ",
     "library": "var_list.py",
     "varRefreshCmd": "print(var_dic_list())"
    },
    "r": {
     "delete_cmd_postfix": ") ",
     "delete_cmd_prefix": "rm(",
     "library": "var_list.r",
     "varRefreshCmd": "cat(var_dic_list()) "
    }
   },
   "types_to_exclude": [
    "module",
    "function",
    "builtin_function_or_method",
    "instance",
    "_Feature"
   ],
   "window_display": false
  }
 },
 "nbformat": 4,
 "nbformat_minor": 2
}
