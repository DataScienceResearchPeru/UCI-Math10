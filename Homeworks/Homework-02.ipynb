{
 "cells": [
  {
   "cell_type": "markdown",
   "metadata": {},
   "source": [
    "# Homework Set 2\n",
    "## insert your name here\n",
    "\n",
    "In this homework assignment please fill the indicated cells with your code and explainations, ***run*** everything (select `cell` in the menu, and click `Run all`), save the notebook with your name appended to the filename (for example, `Homework-02-shuhaocao.ipynb`), and upload it to canvas.\n",
    "\n",
    "This homework assignment contains four problems. Read each problem carefully and answer them the best you can."
   ]
  },
  {
   "cell_type": "markdown",
   "metadata": {},
   "source": [
    "# Problem 1:\n",
    "Each of the following functions computes a mathematical function for an `int` type input. Describe, in English, what each function is computing (or what is the purpose of this function) and what it returns. Write your answer in a Markdown cell immediately after the corresponding code cell."
   ]
  },
  {
   "cell_type": "markdown",
   "metadata": {},
   "source": [
    "### Example problem"
   ]
  },
  {
   "cell_type": "code",
   "execution_count": null,
   "metadata": {},
   "outputs": [],
   "source": [
    "# example\n",
    "def ex(n):\n",
    "    if n % 2 == 0:\n",
    "        return True\n",
    "    else:\n",
    "        return False"
   ]
  },
  {
   "cell_type": "markdown",
   "metadata": {},
   "source": [
    "**Answer**: `ex()` decides whether its input, `n`, is even or odd. Returns `True` if even, `False` otherwise (odd). "
   ]
  },
  {
   "cell_type": "markdown",
   "metadata": {},
   "source": [
    "----\n",
    "Now try the following functions for `int` type inputs. To figure them out, you will probably need to choose input values, simulate the running of the program in your head or on paper."
   ]
  },
  {
   "cell_type": "markdown",
   "metadata": {},
   "source": [
    "### Problem 1 (a)"
   ]
  },
  {
   "cell_type": "code",
   "execution_count": null,
   "metadata": {},
   "outputs": [],
   "source": [
    "def hahaha(n): \n",
    "    answer = 1\n",
    "    while n>1:\n",
    "        answer = answer * n \n",
    "        n = n - 1\n",
    "    return answer"
   ]
  },
  {
   "cell_type": "code",
   "execution_count": null,
   "metadata": {},
   "outputs": [],
   "source": [
    "# some test you can run\n",
    "print(hahaha(5))\n",
    "print(hahaha(3))"
   ]
  },
  {
   "cell_type": "markdown",
   "metadata": {},
   "source": [
    "**Answer**: "
   ]
  },
  {
   "cell_type": "markdown",
   "metadata": {},
   "source": [
    "### Problem 1 (b)\n",
    "HINT: this problem has something to do with Problem 1 in HW1."
   ]
  },
  {
   "cell_type": "code",
   "execution_count": null,
   "metadata": {},
   "outputs": [],
   "source": [
    "def somefunc(n):\n",
    "    answer = 0\n",
    "    while n > 1:\n",
    "        n = n//2\n",
    "        answer = answer + 1\n",
    "    return answer"
   ]
  },
  {
   "cell_type": "code",
   "execution_count": null,
   "metadata": {},
   "outputs": [],
   "source": [
    "# some test you can run\n",
    "print(somefunc(51))\n",
    "print(somefunc(3))\n",
    "print(somefunc(2**10 + 100))"
   ]
  },
  {
   "cell_type": "markdown",
   "metadata": {},
   "source": [
    "**Answer**: "
   ]
  },
  {
   "cell_type": "markdown",
   "metadata": {},
   "source": [
    "### Problem 1 (c)"
   ]
  },
  {
   "cell_type": "code",
   "execution_count": null,
   "metadata": {},
   "outputs": [],
   "source": [
    "def hello(n):\n",
    "    i = 2\n",
    "    while i<n:\n",
    "        if n % (i*i) == 0:\n",
    "            return True\n",
    "        i += 1\n",
    "    return False "
   ]
  },
  {
   "cell_type": "code",
   "execution_count": null,
   "metadata": {},
   "outputs": [],
   "source": [
    "# some test you can run\n",
    "print(hello(49))\n",
    "print(hello(3))\n",
    "print(hello(16))"
   ]
  },
  {
   "cell_type": "markdown",
   "metadata": {},
   "source": [
    "**Answer**: "
   ]
  },
  {
   "cell_type": "markdown",
   "metadata": {},
   "source": [
    "----\n",
    "### Recall the isprime() function from Lecture 5 and you may want to use it for Problem 2 and Problem 3"
   ]
  },
  {
   "cell_type": "code",
   "execution_count": null,
   "metadata": {},
   "outputs": [],
   "source": [
    "def isprime(n):\n",
    "    if n <= 1 or type(n) != int:\n",
    "        return False\n",
    "    d = 2\n",
    "    while d*d<=n:    \n",
    "        if n % d  == 0:\n",
    "            return False\n",
    "        d += 1\n",
    "    return True"
   ]
  },
  {
   "cell_type": "markdown",
   "metadata": {},
   "source": [
    "----\n",
    "# Problem 2\n",
    "Write a function `factors(n)` that returns the list of all the divisors of a positive integer\n",
    "$n$ (here $1$ included). Then write a function `prime_factors(n)` that returns the list of only the prime factors of a number $n$ (be aware that $1$ is not a prime so that $1$ should not be included). Lastly, run several tests to verify your functions work properly."
   ]
  },
  {
   "cell_type": "code",
   "execution_count": null,
   "metadata": {},
   "outputs": [],
   "source": [
    "def factors(n):\n",
    "    # type your code here"
   ]
  },
  {
   "cell_type": "code",
   "execution_count": null,
   "metadata": {},
   "outputs": [],
   "source": [
    "def prime_factors(n):\n",
    "    # type your code here"
   ]
  },
  {
   "cell_type": "code",
   "execution_count": null,
   "metadata": {},
   "outputs": [],
   "source": [
    "# print several tests' result here\n",
    "factors(100)"
   ]
  },
  {
   "cell_type": "code",
   "execution_count": null,
   "metadata": {},
   "outputs": [],
   "source": [
    "factors(117)"
   ]
  },
  {
   "cell_type": "code",
   "execution_count": null,
   "metadata": {},
   "outputs": [],
   "source": [
    "prime_factors(256)"
   ]
  },
  {
   "cell_type": "code",
   "execution_count": null,
   "metadata": {},
   "outputs": [],
   "source": [
    "prime_factors(57)"
   ]
  },
  {
   "cell_type": "markdown",
   "metadata": {},
   "source": [
    "----\n",
    "\n",
    "# Problem 3 (Prime number theorem)\n",
    "\n",
    "The prime number theorem states that as $n$ becomes large, the number of prime numbers between $1$ and $n$ approaches $$\\frac{n}{\\ln n},$$  where $\\ln = \\log_e$ is the natural logarithm. \n",
    "\n",
    "Write a function `list_primes(n)`, that returns the list of primes between $1$ and $n$.\n",
    "\n",
    "Then, for $n = 10, 100, 1000, \\dots , 10^6$, store the values of $\\dfrac{n}{\\ln n}$ and `len(list_primes(n))` for each $n$ in two NumPy arrays `n_over_logn` and `num_primes_n`. For example, `n_over_logn[1]` should return the numerical value of $100/(\\ln 100)$, `num_primes_n[1]` should be the same value with `len(list_primes(100))` \n",
    "<br><br>\n",
    "Use the given script to plot the two arrays. \n",
    "Finally, answer in Markdown what you observe about their relative values.\n"
   ]
  },
  {
   "cell_type": "markdown",
   "metadata": {},
   "source": [
    "To solve problem 3: you might find the following cell useful."
   ]
  },
  {
   "cell_type": "code",
   "execution_count": null,
   "metadata": {},
   "outputs": [],
   "source": [
    "# to computer natural logarithm ln(5)\n",
    "import math\n",
    "math.log(5)"
   ]
  },
  {
   "cell_type": "code",
   "execution_count": null,
   "metadata": {},
   "outputs": [],
   "source": [
    "def list_primes(n):\n",
    "    # type your code here"
   ]
  },
  {
   "cell_type": "code",
   "execution_count": null,
   "metadata": {},
   "outputs": [],
   "source": [
    "import numpy as np\n",
    "for i in range(6):\n",
    "    # type your code here\n",
    "    # the running might take a while"
   ]
  },
  {
   "cell_type": "code",
   "execution_count": null,
   "metadata": {},
   "outputs": [],
   "source": [
    "# plot the comparison using the following code\n",
    "import matplotlib.pyplot as plt\n",
    "%matplotlib inline \n",
    "grid = np.linspace(1,6,6)\n",
    "\n",
    "line1, = plt.plot(grid,n_over_logn,linewidth=3, label = \"$n/ln(n)$\")\n",
    "line2, = plt.plot(grid,num_primes_n,linewidth=1,marker='o',linestyle=':',label = \"# of primes $\\leq$ n\")\n",
    "plt.grid(True, linestyle = 'dashed',alpha= 0.5)\n",
    "plt.legend(handles=[line1, line2])\n",
    "plt.show()"
   ]
  },
  {
   "cell_type": "markdown",
   "metadata": {},
   "source": [
    "**What have you observed**: "
   ]
  },
  {
   "cell_type": "markdown",
   "metadata": {},
   "source": [
    "----\n",
    "\n",
    "# Problem 4 (Verifying eigenvalue and eigenvector)\n",
    "\n",
    "For a square matrix $A\\in \\mathbb{R}^{n\\times n}$, and a column vector $\\mathbf {v}\\in \\mathbb{R}^n$: $\\mathbf {v}$ is said to be an eigenvector of $A$ associated with eigenvalue $\\lambda \\in \\mathbb{R}$ or $\\lambda \\in \\mathbb{C}$ (even though we will not use complex eigenvalue in our class), if there exists such a scalar \n",
    "$\\lambda$ that the following holds\n",
    "$$A\\mathbf {x} =\\lambda \\mathbf {x} \\tag{1}$$\n",
    "or equivalently,\n",
    "$$\\begin{pmatrix}A_{11}&A_{12}&\\ldots &A_{1n}\\\\A_{21}&A_{22}&\\ldots &A_{2n}\\\\\\vdots &\\vdots &\\ddots &\\vdots \\\\A_{n1}&A_{n2}&\\ldots &A_{nn}\\\\ \\end{pmatrix} \\begin{pmatrix}x_{1}\\\\x_{2}\\\\\\vdots \\\\x_{n}\\end{pmatrix}=\n",
    "\\lambda \\begin{pmatrix}x_{1}\\\\x_{2}\\\\\\vdots \\\\x_{n}\\end{pmatrix}.$$\n",
    "\n",
    "Write a function `iseigen(A,x)`, using the example code following this cell, that takes input of a NumPy array `A` representing a $n\\times n$ matrix and a NumPy array `x` representing a $n\\times 1$ column vector.\n",
    "<br><br>\n",
    "**Requirement**: please do NOT use the Numpy built-in function `numpy.linalg.eig` nor `numpy.linalg.det` directly in your function, you can use `numpy.linalg.eig` to check if the function you have implemented is correct."
   ]
  },
  {
   "cell_type": "markdown",
   "metadata": {},
   "source": [
    "### Example for Problem 4: verify a vector is an eigenvector for a given matrix\n",
    "If we are given a Numpy matrix `A`, an array `x`, we compute their dot product, we should get a constant multiple of `x` if (1) is satisfied (i.e., the corresponding entry's ratio should be the same). "
   ]
  },
  {
   "cell_type": "code",
   "execution_count": 2,
   "metadata": {},
   "outputs": [],
   "source": [
    "# set up\n",
    "import numpy as np\n",
    "np.set_printoptions(precision=17) # show double precision float of numpy when print"
   ]
  },
  {
   "cell_type": "code",
   "execution_count": 3,
   "metadata": {},
   "outputs": [],
   "source": [
    "# check if x is an eigenvector of A\n",
    "A = np.array([[2, 1, 6], [-1, 1, 3],[7, 2, 2]])\n",
    "x = np.array([0.6600492484297499 , 0.19239177817532563, 0.7261682954645283])\n",
    "w = 8.892518341298729"
   ]
  },
  {
   "cell_type": "code",
   "execution_count": 4,
   "metadata": {},
   "outputs": [
    {
     "name": "stdout",
     "output_type": "stream",
     "text": [
      "Yes it is an eigvector\n"
     ]
    }
   ],
   "source": [
    "tol = 1e-10 # a tolerance, taking into account of rounding error\n",
    "Ax = np.matmul(A,x)\n",
    "dim = len(x) # this is the dimension we are working on\n",
    "w = np.zeros(dim)\n",
    "xAx = 0\n",
    "xx = 0\n",
    "i = 0\n",
    "while i < dim:\n",
    "    xAx += Ax[i]*x[i]\n",
    "    xx += x[i]*x[i]\n",
    "    i += 1\n",
    "w = xAx/xx\n",
    "# the following is one way to check if every entry of w is the same \n",
    "# up to a rounding error, DO NOT use == on floats\n",
    "error = np.std(Ax - w*x) # this computes the standard deviation of the array\n",
    "if error < tol:\n",
    "    print(\"Yes it is an eigvector\")\n",
    "else:\n",
    "    print(\"No it is not an eigvector\")"
   ]
  },
  {
   "cell_type": "markdown",
   "metadata": {},
   "source": [
    "### Now rewrite the script above into a function"
   ]
  },
  {
   "cell_type": "code",
   "execution_count": null,
   "metadata": {},
   "outputs": [],
   "source": [
    "def iseigen(A,x):\n",
    "    # your code here\n",
    "    "
   ]
  },
  {
   "cell_type": "code",
   "execution_count": null,
   "metadata": {},
   "outputs": [],
   "source": [
    "# run the following tests\n",
    "S = np.array([[227, 156, 189,  36], [156, 131, 131,  29], [189, 131, 158,  29],[ 36,  29,  29,  27]])\n",
    "v1 = np.array([ 0.6274309384164155,   0.03934428679482524, -0.7763447851032966, -0.04551064993404177])\n",
    "v2 = np.array([1, 0, 1, 0])"
   ]
  },
  {
   "cell_type": "code",
   "execution_count": null,
   "metadata": {},
   "outputs": [],
   "source": [
    "iseigen(S,v1) # this should return True"
   ]
  },
  {
   "cell_type": "code",
   "execution_count": null,
   "metadata": {},
   "outputs": [],
   "source": [
    "iseigen(S,v2) # this should return False"
   ]
  },
  {
   "cell_type": "markdown",
   "metadata": {},
   "source": [
    "## Remark: \n",
    "The linear algebra way of checking the eigenvalue is checking the *Rayleigh quotient*: $w = (\\mathbf{x}^{T}A \\mathbf{x})/(\\mathbf{x}^{T} \\mathbf{x})$. If $A \\mathbf{x} = w \\mathbf{x}$, then indeed $\\mathbf{x}$ is an eigenvector."
   ]
  }
 ],
 "metadata": {
  "kernelspec": {
   "display_name": "Python 3",
   "language": "python",
   "name": "python3"
  },
  "language_info": {
   "codemirror_mode": {
    "name": "ipython",
    "version": 3
   },
   "file_extension": ".py",
   "mimetype": "text/x-python",
   "name": "python",
   "nbconvert_exporter": "python",
   "pygments_lexer": "ipython3",
   "version": "3.7.1"
  }
 },
 "nbformat": 4,
 "nbformat_minor": 2
}
