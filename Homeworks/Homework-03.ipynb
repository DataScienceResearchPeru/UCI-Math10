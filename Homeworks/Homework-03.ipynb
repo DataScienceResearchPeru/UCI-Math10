{
 "cells": [
  {
   "cell_type": "markdown",
   "metadata": {},
   "source": [
    "# Homework Set 3\n",
    "## insert your name here\n",
    "\n",
    "In this homework assignment please fill the indicated cells with your code and explainations, ***run*** everything (select `cell` in the menu, and click `Run all`), save the notebook with your name appended to the filename (for example, `Homework-03-shuhaocao.ipynb`), and upload it to canvas.\n",
    "\n",
    "This homework assignment mainly reviews linear algebra concepts, and contains three problems. Read each problem carefully and answer them the best you can. For this homework you need the following modules."
   ]
  },
  {
   "cell_type": "code",
   "execution_count": null,
   "metadata": {},
   "outputs": [],
   "source": [
    "# Import the numpy.linalg module\n",
    "import numpy as np\n",
    "import numpy.linalg as LA"
   ]
  },
  {
   "cell_type": "markdown",
   "metadata": {},
   "source": [
    "# Problem 1 (a):\n",
    "Create a matrix in `numpy`:\n",
    "$ A=\\begin{pmatrix}0&0\\\\1&0\\\\0&1\\end{pmatrix}$,\n",
    "and print $\\operatorname{rank}(A)$, $A^T$, $(A^T A)^{-1}$."
   ]
  },
  {
   "cell_type": "code",
   "execution_count": null,
   "metadata": {},
   "outputs": [],
   "source": [
    "# your code here\n"
   ]
  },
  {
   "cell_type": "markdown",
   "metadata": {},
   "source": [
    "# Problem 1 (b):\n",
    "For a matrix like $A$ above (dimension $n\\times m$), define a new $n\\times n$ matrix $P$ as follows: for identity matrix $I$\n",
    "$$\n",
    "P = I - A (A^T A)^{-1} A^T, \n",
    "$$\n",
    "* Write a function `proj_ortho(A,x)`, which takes inputs of an `(n,m)` numpy array to represent matrix $A$ and an `(n,)` numpy array to represent an $n$-dimensional vector $\\mathbf{x}$, returns $P\\mathbf{x}$\n",
    "* Test that this function is an orthogonal projection using inner product for $n=3,m=2$, i.e., take a few three-dimensional vectors $\\mathbf{v}$, test if $(\\mathbf{v} - P\\mathbf{v} )\\perp P \\mathbf{v}$ by using inner product (`np.dot`)."
   ]
  },
  {
   "cell_type": "code",
   "execution_count": null,
   "metadata": {},
   "outputs": [],
   "source": [
    "def proj_ortho(A,x):\n",
    "    # your code here:"
   ]
  },
  {
   "cell_type": "code",
   "execution_count": null,
   "metadata": {},
   "outputs": [],
   "source": [
    "# tests"
   ]
  },
  {
   "cell_type": "markdown",
   "metadata": {},
   "source": [
    "# Problem 2: \n",
    "Create the following Markov matrix (notice the every column sums up to 1) in `numpy`\n",
    "$$ \\begin{pmatrix}0.2&0.4&0.3\\\\0.4&0.2&0.3\\\\0.4&0.4&0.4\\end{pmatrix} $$\n",
    "The matrix is singular (note how $\\frac12$ of columns 1 multiplies $\\frac12$ of column 2 equals columns 3) so one eigenvalue will be zero; Another must be 1; The trace adds to 0.8 and so must the sums of the eigenvalues, thus the last eigenvalue is -$0.2$.\n",
    "<br><br>\n",
    "* Use `eig` function in `numpy.linalg` module to verify this.\n",
    "* Verify that all inner products of eigenvectors corresponding to different eigenvalues are all zero."
   ]
  },
  {
   "cell_type": "code",
   "execution_count": null,
   "metadata": {},
   "outputs": [],
   "source": [
    "# your code here\n"
   ]
  },
  {
   "cell_type": "markdown",
   "metadata": {},
   "source": [
    "# Problem 3 (a):\n",
    "Consider the following 3 by 3 matrix:\n",
    "$$\n",
    "A = \\begin{pmatrix} 2& -1\\\\ -1 & 2 &-1 \n",
    "\\\\& -1 & 2\\end{pmatrix}\n",
    "$$\n",
    "where the empty entries are zero, and the diagonal entries are all $2$.\n",
    "* Write a vectorized `numpy` code without any loop to generate this matrix, recall how the `numpy` function `eye` moves the diagonals featured in lectures (one line of code should suffice).\n",
    "* Use a `linalg` function to verify that this matrix is nonsingular (you can use rank, nontrivial null space, etc)\n",
    "* Use `solve` function in `linalg` to solve $A\\mathbf{x} = \\mathbf{b}$ where $b = (-1, 0, 1)^T$, compare the result with $A^{-1} \\mathbf{b}$ computed by the `inv` function."
   ]
  },
  {
   "cell_type": "code",
   "execution_count": null,
   "metadata": {},
   "outputs": [],
   "source": [
    "# your code here\n"
   ]
  },
  {
   "cell_type": "code",
   "execution_count": null,
   "metadata": {},
   "outputs": [],
   "source": [
    "# solve the linear system\n"
   ]
  },
  {
   "cell_type": "markdown",
   "metadata": {},
   "source": [
    "# Problem 3 (b):\n",
    "Generalize the matrix $A$ in 3(a) to a $32\\times 32 $ matrix:\n",
    "$$A = \n",
    "\\begin{pmatrix} 2 & -1 \n",
    "\\\\ -1 & 2 &-1 \n",
    "\\\\ & -1 & 2 & -1\n",
    "\\\\ && \\ddots & \\ddots & \\ddots\n",
    "\\\\ &&& -1 & 2 & -1\n",
    "\\\\& &&&  -1 & 2\n",
    "\\end{pmatrix}$$\n",
    "* Use `numpy` function `eye` to generate this matrix.\n",
    "* Use the `eig` function in `linalg` to find the eigenvalues `eigvals` and the eigenvectors `eigvecs` of this matrix.\n",
    "* Use the starter code given to plot the eigenvectors correponding to the smallest 6 eigenvalues on interval $[0,\\pi]$, what does these eigenvectors look like?"
   ]
  },
  {
   "cell_type": "code",
   "execution_count": null,
   "metadata": {},
   "outputs": [],
   "source": [
    "# your code here to generate the matrix and find the eigenvalues and eigenvectors\n"
   ]
  },
  {
   "cell_type": "code",
   "execution_count": null,
   "metadata": {
    "scrolled": true
   },
   "outputs": [],
   "source": [
    "import matplotlib.pyplot as plt\n",
    "from math import pi\n",
    "xs = np.linspace(0,pi,32)\n",
    "index_eigvals_small = eigvals.argsort()[:6] # find the smallest 6 indices\n",
    "plt.plot(xs, eigvecs[:,index_eigvals_small[0:3]]) # 3 eigenvectors corresponding to the smallest 3 eigenvalues\n",
    "plt.show()"
   ]
  },
  {
   "cell_type": "code",
   "execution_count": null,
   "metadata": {
    "scrolled": true
   },
   "outputs": [],
   "source": [
    "plt.plot(xs, eigvecs[:,index_eigvals_small[3:6]]) \n",
    "# eigenvectors corresponding to the 4th, 5th, 6th smallest eigenvalues\n",
    "plt.show()"
   ]
  },
  {
   "cell_type": "markdown",
   "metadata": {},
   "source": [
    "**Take a guess**: what are these eigenvectors representing?"
   ]
  }
 ],
 "metadata": {
  "kernelspec": {
   "display_name": "Python 3",
   "language": "python",
   "name": "python3"
  },
  "language_info": {
   "codemirror_mode": {
    "name": "ipython",
    "version": 3
   },
   "file_extension": ".py",
   "mimetype": "text/x-python",
   "name": "python",
   "nbconvert_exporter": "python",
   "pygments_lexer": "ipython3",
   "version": "3.7.1"
  }
 },
 "nbformat": 4,
 "nbformat_minor": 2
}
