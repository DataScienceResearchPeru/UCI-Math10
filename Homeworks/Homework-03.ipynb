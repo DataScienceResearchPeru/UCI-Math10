{
 "cells": [
  {
   "cell_type": "markdown",
   "metadata": {},
   "source": [
    "# Homework Set 3\n",
    "## insert your name here:\n",
    "\n",
    "In this homework assignment please fill the indicated cells with your code and explainations, ***run*** everything (select `cell` in the menu, and click `Run all`), save the notebook, and upload it to canvas.\n",
    "\n",
    "This homework assignment contains three problems. Read each problem carefully and answer them the best you can."
   ]
  },
  {
   "cell_type": "code",
   "execution_count": null,
   "metadata": {},
   "outputs": [],
   "source": [
    "import numpy as np\n",
    "import matplotlib.pyplot as plt\n",
    "%matplotlib inline"
   ]
  },
  {
   "cell_type": "markdown",
   "metadata": {},
   "source": [
    "# Problem 1:\n",
    "\n",
    "When you make an unbiased decision between two options, you may consider flipping a coin. However, if the coin is rigged (the proability to land on one side is different from the other side). Your decision based on the coin will be biased.\n",
    "\n",
    "Let $p$ be some real number in $(0,1)$. Create a function `coinflip(p)` using the `random` function in the `np.random` submodule that returns the float $1$ (for Heads) with probability `p` and the float 0 with probaility $1-p$ (for Tails).\n",
    "<br><br>\n",
    "For example:\n",
    "`coinflip(0.3)` should return 1 (Heads) approx. 30% of the time and 0 (Tails) 70% of the time.\n",
    "<br><br>\n",
    "**Hint**: the simplest way is that we can sample a uniformly distribution random variable $X\\sim \\mathcal{U}(0,1)$ and $P(0<X<p) = p$, so it the sample we draw is between $(0,p)$, we assign head to it."
   ]
  },
  {
   "cell_type": "markdown",
   "metadata": {},
   "source": [
    "# Problem 2 (graded)\n",
    "\n",
    "> You just picked up a coin and is wondering if the coin is truly unbiased. To determine if this coin is unbiased, you decide to do an experiment by flipping this coin 100 times and record how many times it returns head. Let us say this is flipping experiment No.1, and its result is the no. of heads.\n",
    "> Then you decide to repeat this flipping experiment 999 more times (for a total of 1000 experiments, in each experiment you flip the coin 100 times). \n",
    "\n",
    "* Write a function called `simulation_coinflip(p)` returns a numpy array `result` with shape `(1000,)` where the $i$-th element (`result[i-1]`) in this array is the result of the $i$-th flipping test (the no. of heads in a given flip test).\n",
    "* Plot the histograms of this array using 50 bins using the resulting array of `simulation_coinflip(p)` for $p = 0.2, 0.5, 0.7$.\n",
    "\n",
    "<br><br>\n",
    "**Remark**: using for loops is okay, the code for this problem can be formulated using completely vectorized routines without any `for` loops, and you MAY or MAY NOT find `np.vectorize()` (vectorize a function if there is `if-else` conditionals), `np.mean()`, `np.sum()`, `np.apply_along_axis`, `np.count_nonzero()`, and `np.random.random()` useful."
   ]
  },
  {
   "cell_type": "markdown",
   "metadata": {},
   "source": [
    "## Problem 3 Monty hall problem\n",
    "\n",
    "In a game show a prize is placed randomly behind one of three closed doors with equal chances, labeled $A$, $B$, and $C$. You then choose one of the doors. **After** you have publicly stated your choice, Monty opens one of the doors, and shows you that there is no prize behind it. \n",
    "<br><br>\n",
    "> Monty will **NEVER** open the door you pick;\n",
    "> Monty will **NEVER** open a door that has a prize behind it; <br>\n",
    "> Monty gives you the choice of staying with your original choice or changing. \n",
    "\n",
    "* Write a function `monty()` to simulate one round of the Monty Hall show, you decide what the inputs can be, and what the output is. (HINT: use numerical values to represent everything involved, e.g., doors, whether to switch, winning or not)\n",
    "* Run this simulation 1000 times by randomly assigning the prize among three doors, and randomly assigning your choice to one door. Then estimate the probability of winning of if every time you change your choice, and the probability if every time you stay with your choice.\n",
    "\n",
    "Function you may or may not find helpful: `np.random.randint`, `np.random.choice`."
   ]
  }
 ],
 "metadata": {
  "kernelspec": {
   "display_name": "Python 3",
   "language": "python",
   "name": "python3"
  },
  "language_info": {
   "codemirror_mode": {
    "name": "ipython",
    "version": 3
   },
   "file_extension": ".py",
   "mimetype": "text/x-python",
   "name": "python",
   "nbconvert_exporter": "python",
   "pygments_lexer": "ipython3",
   "version": "3.7.2"
  },
  "latex_envs": {
   "LaTeX_envs_menu_present": true,
   "autoclose": true,
   "autocomplete": true,
   "bibliofile": "biblio.bib",
   "cite_by": "apalike",
   "current_citInitial": 1,
   "eqLabelWithNumbers": true,
   "eqNumInitial": 1,
   "hotkeys": {
    "equation": "Ctrl-E",
    "itemize": "Ctrl-I"
   },
   "labels_anchors": false,
   "latex_user_defs": false,
   "report_style_numbering": false,
   "user_envs_cfg": false
  },
  "varInspector": {
   "cols": {
    "lenName": 16,
    "lenType": 16,
    "lenVar": 40
   },
   "kernels_config": {
    "python": {
     "delete_cmd_postfix": "",
     "delete_cmd_prefix": "del ",
     "library": "var_list.py",
     "varRefreshCmd": "print(var_dic_list())"
    },
    "r": {
     "delete_cmd_postfix": ") ",
     "delete_cmd_prefix": "rm(",
     "library": "var_list.r",
     "varRefreshCmd": "cat(var_dic_list()) "
    }
   },
   "types_to_exclude": [
    "module",
    "function",
    "builtin_function_or_method",
    "instance",
    "_Feature"
   ],
   "window_display": false
  }
 },
 "nbformat": 4,
 "nbformat_minor": 2
}
