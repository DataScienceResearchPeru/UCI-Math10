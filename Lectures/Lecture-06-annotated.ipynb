{
 "cells": [
  {
   "cell_type": "markdown",
   "metadata": {},
   "source": [
    "# Lecture 6\n",
    "\n",
    "* advanced technique for `for` loops\n",
    "* using these loops for `list` and `array` to computer vector-vector, matrix-vector products\n",
    "* some built-in functions in NumPy"
   ]
  },
  {
   "cell_type": "markdown",
   "metadata": {},
   "source": [
    "\n",
    "## Some review on `FOR` loops\n",
    "\n",
    "The most straightforward way to loop through a `list` or an `array`."
   ]
  },
  {
   "cell_type": "code",
   "execution_count": 1,
   "metadata": {},
   "outputs": [],
   "source": [
    "import numpy as np"
   ]
  },
  {
   "cell_type": "code",
   "execution_count": 2,
   "metadata": {},
   "outputs": [
    {
     "name": "stdout",
     "output_type": "stream",
     "text": [
      "1\n",
      "10\n",
      "100\n",
      "1000\n",
      "12344\n"
     ]
    }
   ],
   "source": [
    "# review: simpliest for loops\n",
    "for x in [1,10,100,1000,12344]:\n",
    "    print(x)"
   ]
  },
  {
   "cell_type": "markdown",
   "metadata": {},
   "source": [
    "Easier and cleaner than `while` loops."
   ]
  },
  {
   "cell_type": "code",
   "execution_count": 4,
   "metadata": {
    "scrolled": true
   },
   "outputs": [
    {
     "name": "stdout",
     "output_type": "stream",
     "text": [
      "0\n",
      "1\n",
      "3\n",
      "6\n",
      "10\n",
      "15\n",
      "21\n",
      "28\n",
      "36\n",
      "45\n",
      "55\n",
      "66\n",
      "78\n",
      "91\n",
      "105\n",
      "120\n",
      "136\n",
      "153\n",
      "171\n",
      "190\n",
      "210\n",
      "231\n",
      "253\n",
      "276\n",
      "300\n",
      "325\n",
      "351\n",
      "378\n",
      "406\n",
      "435\n",
      "465\n",
      "496\n",
      "528\n",
      "561\n",
      "595\n",
      "630\n",
      "666\n",
      "703\n",
      "741\n",
      "780\n",
      "820\n",
      "861\n",
      "903\n",
      "946\n",
      "990\n",
      "1035\n",
      "1081\n",
      "1128\n",
      "1176\n",
      "1225\n",
      "1275\n",
      "1326\n",
      "1378\n",
      "1431\n",
      "1485\n",
      "1540\n",
      "1596\n",
      "1653\n",
      "1711\n",
      "1770\n",
      "1830\n",
      "1891\n",
      "1953\n",
      "2016\n",
      "2080\n",
      "2145\n",
      "2211\n",
      "2278\n",
      "2346\n",
      "2415\n",
      "2485\n",
      "2556\n",
      "2628\n",
      "2701\n",
      "2775\n",
      "2850\n",
      "2926\n",
      "3003\n",
      "3081\n",
      "3160\n",
      "3240\n",
      "3321\n",
      "3403\n",
      "3486\n",
      "3570\n",
      "3655\n",
      "3741\n",
      "3828\n",
      "3916\n",
      "4005\n",
      "4095\n",
      "4186\n",
      "4278\n",
      "4371\n",
      "4465\n",
      "4560\n",
      "4656\n",
      "4753\n",
      "4851\n",
      "4950\n",
      "5050\n",
      "5050\n"
     ]
    }
   ],
   "source": [
    "total = 0\n",
    "for i in range(101):\n",
    "    total += i\n",
    "    print(total) # one trick to debug our code \n",
    "    # is to print the desired result at each iteration\n",
    "print(total)"
   ]
  },
  {
   "cell_type": "markdown",
   "metadata": {},
   "source": [
    "`range(n)` starts from 0, what if we want to start from 1?"
   ]
  },
  {
   "cell_type": "code",
   "execution_count": 5,
   "metadata": {},
   "outputs": [
    {
     "data": {
      "text/plain": [
       "[0, 1, 2, 3, 4, 5, 6, 7, 8, 9]"
      ]
     },
     "execution_count": 5,
     "metadata": {},
     "output_type": "execute_result"
    }
   ],
   "source": [
    "list(range(10))"
   ]
  },
  {
   "cell_type": "code",
   "execution_count": 6,
   "metadata": {
    "scrolled": true
   },
   "outputs": [
    {
     "data": {
      "text/plain": [
       "[1, 2, 3, 4, 5, 6, 7, 8, 9]"
      ]
     },
     "execution_count": 6,
     "metadata": {},
     "output_type": "execute_result"
    }
   ],
   "source": [
    "list(range(1,10))"
   ]
  },
  {
   "cell_type": "code",
   "execution_count": 9,
   "metadata": {},
   "outputs": [
    {
     "data": {
      "text/plain": [
       "' 5'"
      ]
     },
     "execution_count": 9,
     "metadata": {},
     "output_type": "execute_result"
    }
   ],
   "source": [
    "\"%2d\" %5\n",
    "# 2 here means 2 spaces to display a variable\n",
    "# d means decimal\n",
    "# e means exponential"
   ]
  },
  {
   "cell_type": "code",
   "execution_count": 12,
   "metadata": {},
   "outputs": [
    {
     "data": {
      "text/plain": [
       "'5'"
      ]
     },
     "execution_count": 12,
     "metadata": {},
     "output_type": "execute_result"
    }
   ],
   "source": [
    "\"%d\" %5.4"
   ]
  },
  {
   "cell_type": "markdown",
   "metadata": {},
   "source": [
    "For the format of percent sign please refer to [http://infohost.nmt.edu/tcc/help/pubs/python25/web/str-format.html](http://infohost.nmt.edu/tcc/help/pubs/python25/web/str-format.html)"
   ]
  },
  {
   "cell_type": "code",
   "execution_count": 11,
   "metadata": {},
   "outputs": [
    {
     "name": "stdout",
     "output_type": "stream",
     "text": [
      " 1\n",
      " 2\n",
      " 3\n",
      " 4\n",
      " 5\n",
      " 6\n",
      " 7\n",
      " 8\n",
      " 9\n"
     ]
    }
   ],
   "source": [
    "for i in range(1,10):\n",
    "    print(\"%2d\" %i)"
   ]
  },
  {
   "cell_type": "markdown",
   "metadata": {},
   "source": [
    "We can have nested loop as well: print a 9x9 multiplication table"
   ]
  },
  {
   "cell_type": "code",
   "execution_count": 16,
   "metadata": {},
   "outputs": [
    {
     "name": "stdout",
     "output_type": "stream",
     "text": [
      "    1     2     3     4     5     6     7     8     9 \n",
      "    2     4     6     8    10    12    14    16    18 \n",
      "    3     6     9    12    15    18    21    24    27 \n",
      "    4     8    12    16    20    24    28    32    36 \n",
      "    5    10    15    20    25    30    35    40    45 \n",
      "    6    12    18    24    30    36    42    48    54 \n",
      "    7    14    21    28    35    42    49    56    63 \n",
      "    8    16    24    32    40    48    56    64    72 \n",
      "    9    18    27    36    45    54    63    72    81 \n"
     ]
    }
   ],
   "source": [
    "for i in range(1,10):\n",
    "    for j in range(1,10):\n",
    "        print(\"%5d\" %(i*j), end = \" \") \n",
    "        # end = \" \" adds a space after each print\n",
    "    print() # forcing a newline"
   ]
  },
  {
   "cell_type": "markdown",
   "metadata": {},
   "source": [
    "How about a factorial $n = n\\cdot (n-1)\\cdot (n-2) \\cdot \\dots \\cdot 2 \\cdot 1$ for $n\\geq 1$ and $n \\in \\mathbb{N}$?"
   ]
  },
  {
   "cell_type": "code",
   "execution_count": 17,
   "metadata": {},
   "outputs": [],
   "source": [
    "def myfactorial(n):\n",
    "    # enter code here\n",
    "    prod = 1\n",
    "    for i in range(1,n+1):\n",
    "        prod *= i\n",
    "        # same with prod = prod*i\n",
    "    return prod    "
   ]
  },
  {
   "cell_type": "code",
   "execution_count": 22,
   "metadata": {},
   "outputs": [
    {
     "data": {
      "text/plain": [
       "120"
      ]
     },
     "execution_count": 22,
     "metadata": {},
     "output_type": "execute_result"
    }
   ],
   "source": [
    "myfactorial(5)"
   ]
  },
  {
   "cell_type": "code",
   "execution_count": 24,
   "metadata": {},
   "outputs": [
    {
     "data": {
      "text/plain": [
       "array([0, 1, 2, 3, 4])"
      ]
     },
     "execution_count": 24,
     "metadata": {},
     "output_type": "execute_result"
    }
   ],
   "source": [
    "np.array(range(5))"
   ]
  },
  {
   "cell_type": "code",
   "execution_count": 23,
   "metadata": {},
   "outputs": [
    {
     "data": {
      "text/plain": [
       "array([0, 1, 2, 3, 4])"
      ]
     },
     "execution_count": 23,
     "metadata": {},
     "output_type": "execute_result"
    }
   ],
   "source": [
    "np.arange(5)"
   ]
  },
  {
   "cell_type": "code",
   "execution_count": 25,
   "metadata": {},
   "outputs": [
    {
     "name": "stdout",
     "output_type": "stream",
     "text": [
      "[[0 1 2]\n",
      " [3 4 5]]\n"
     ]
    }
   ],
   "source": [
    "Aindex = np.arange(6).reshape(2,3)\n",
    "print(Aindex)"
   ]
  },
  {
   "cell_type": "code",
   "execution_count": 29,
   "metadata": {},
   "outputs": [
    {
     "name": "stdout",
     "output_type": "stream",
     "text": [
      "[[19 12 12]\n",
      " [12 14 14]]\n"
     ]
    }
   ],
   "source": [
    "A = np.random.randint(10, 20, size = (2,3))\n",
    "print(A)"
   ]
  },
  {
   "cell_type": "markdown",
   "metadata": {},
   "source": [
    "Iterate in the linear index of `A`"
   ]
  },
  {
   "cell_type": "code",
   "execution_count": 30,
   "metadata": {},
   "outputs": [
    {
     "name": "stdout",
     "output_type": "stream",
     "text": [
      "19\n",
      "12\n",
      "12\n",
      "12\n",
      "14\n",
      "14\n"
     ]
    }
   ],
   "source": [
    "for x in np.nditer(A):\n",
    "    print(x)"
   ]
  },
  {
   "cell_type": "markdown",
   "metadata": {},
   "source": [
    "List the element of `A` using the linear index, same with above"
   ]
  },
  {
   "cell_type": "code",
   "execution_count": 31,
   "metadata": {},
   "outputs": [
    {
     "name": "stdout",
     "output_type": "stream",
     "text": [
      "19\n",
      "12\n",
      "12\n",
      "12\n",
      "14\n",
      "14\n"
     ]
    }
   ],
   "source": [
    "for x in A.flat:\n",
    "    print(x)"
   ]
  },
  {
   "cell_type": "code",
   "execution_count": 33,
   "metadata": {},
   "outputs": [
    {
     "name": "stdout",
     "output_type": "stream",
     "text": [
      "0\n",
      "1\n",
      "2\n",
      "3\n",
      "4\n",
      "5\n"
     ]
    }
   ],
   "source": [
    "for i in Aindex.flat:\n",
    "    print(i)"
   ]
  },
  {
   "cell_type": "code",
   "execution_count": 34,
   "metadata": {},
   "outputs": [
    {
     "data": {
      "text/plain": [
       "array([[19, 12, 12],\n",
       "       [12, 14, 14]])"
      ]
     },
     "execution_count": 34,
     "metadata": {},
     "output_type": "execute_result"
    }
   ],
   "source": [
    "A"
   ]
  },
  {
   "cell_type": "code",
   "execution_count": 35,
   "metadata": {},
   "outputs": [
    {
     "name": "stdout",
     "output_type": "stream",
     "text": [
      "19\n",
      "12\n",
      "12\n",
      "14\n",
      "12\n",
      "14\n"
     ]
    }
   ],
   "source": [
    "for x in np.nditer(A, order='F'): \n",
    "    # Fortran order, same with the order of MATLAB A(:)\n",
    "    # for MATLAB users\n",
    "    print(x)"
   ]
  },
  {
   "cell_type": "markdown",
   "metadata": {},
   "source": [
    "### Some advanced technique manipulating ndarray (optional reading)"
   ]
  },
  {
   "cell_type": "code",
   "execution_count": null,
   "metadata": {},
   "outputs": [],
   "source": [
    "for x in np.nditer(A, op_flags=['readwrite']):\n",
    "    x[...] = 2*x"
   ]
  },
  {
   "cell_type": "code",
   "execution_count": null,
   "metadata": {},
   "outputs": [],
   "source": [
    "print(A)"
   ]
  },
  {
   "cell_type": "markdown",
   "metadata": {},
   "source": [
    "Iterating using the 2-d index of `A`"
   ]
  },
  {
   "cell_type": "code",
   "execution_count": null,
   "metadata": {},
   "outputs": [],
   "source": [
    "for x, y in np.ndindex(A.shape):\n",
    "    print((x,y))"
   ]
  },
  {
   "cell_type": "markdown",
   "metadata": {},
   "source": [
    "## Vector-vector inner product\n",
    "The inner product (or dot product): for $\\mathbf{a}, \\mathbf{b} \\in \\mathbb{R}^n$, their inner product is\n",
    "$\\mathbf{a}\\cdot\\mathbf{b} = \\displaystyle\\sum_{i=1}^n a_i b_i.$"
   ]
  },
  {
   "cell_type": "code",
   "execution_count": 40,
   "metadata": {},
   "outputs": [],
   "source": [
    "# using for loop\n",
    "def innerprod(a,b):\n",
    "    #enter code here\n",
    "    inner = 0 # initialize\n",
    "    if len(a) == len(b):\n",
    "        for i in range(len(a)):\n",
    "            inner += a[i]*b[i]\n",
    "            # inner = inner + a[i]*b[i]\n",
    "        return inner\n",
    "    else:\n",
    "        print(\"Please enter vectors of equal length\")"
   ]
  },
  {
   "cell_type": "code",
   "execution_count": 42,
   "metadata": {},
   "outputs": [
    {
     "name": "stdout",
     "output_type": "stream",
     "text": [
      "Please enter vectors of equal length\n"
     ]
    }
   ],
   "source": [
    "result = innerprod([1,2],[5,1])\n",
    "result"
   ]
  },
  {
   "cell_type": "code",
   "execution_count": 44,
   "metadata": {},
   "outputs": [
    {
     "data": {
      "text/plain": [
       "array([0, 1, 2, 3, 4, 5, 6, 7, 8, 9])"
      ]
     },
     "execution_count": 44,
     "metadata": {},
     "output_type": "execute_result"
    }
   ],
   "source": [
    "arr1 = np.array(range(10))\n",
    "arr1"
   ]
  },
  {
   "cell_type": "code",
   "execution_count": 48,
   "metadata": {},
   "outputs": [
    {
     "data": {
      "text/plain": [
       "array([9, 8, 7, 6, 5, 4, 3, 2, 1, 0])"
      ]
     },
     "execution_count": 48,
     "metadata": {},
     "output_type": "execute_result"
    }
   ],
   "source": [
    "arr2 = arr1[::-1]\n",
    "arr2"
   ]
  },
  {
   "cell_type": "code",
   "execution_count": 49,
   "metadata": {},
   "outputs": [
    {
     "data": {
      "text/plain": [
       "array([ 0,  8, 14, 18, 20, 20, 18, 14,  8,  0])"
      ]
     },
     "execution_count": 49,
     "metadata": {},
     "output_type": "execute_result"
    }
   ],
   "source": [
    "arr1[:]*arr2[:] # not inner product\n",
    "# * is element-wise product for nparray"
   ]
  },
  {
   "cell_type": "code",
   "execution_count": 50,
   "metadata": {},
   "outputs": [
    {
     "data": {
      "text/plain": [
       "array([ 0,  8, 14, 18, 20, 20, 18, 14,  8,  0])"
      ]
     },
     "execution_count": 50,
     "metadata": {},
     "output_type": "execute_result"
    }
   ],
   "source": [
    "arr1*arr2 # same with above if arr1 and arr2 are two vectors"
   ]
  },
  {
   "cell_type": "code",
   "execution_count": 51,
   "metadata": {},
   "outputs": [
    {
     "data": {
      "text/plain": [
       "120"
      ]
     },
     "execution_count": 51,
     "metadata": {},
     "output_type": "execute_result"
    }
   ],
   "source": [
    "sum(arr1*arr2)"
   ]
  },
  {
   "cell_type": "code",
   "execution_count": null,
   "metadata": {},
   "outputs": [],
   "source": [
    "def innerprodarr(a,b):\n",
    "    result = a[:]*b[:]\n",
    "    result = sum(result)\n",
    "    # this implementation is faster and better for numpy array"
   ]
  },
  {
   "cell_type": "code",
   "execution_count": null,
   "metadata": {},
   "outputs": [],
   "source": [
    "# alternate way no.1\n",
    "v=[1,2,3]\n",
    "w=[5,6,7]\n",
    "for x,y in zip(v,w):\n",
    "    print([x,y])    "
   ]
  },
  {
   "cell_type": "code",
   "execution_count": 52,
   "metadata": {},
   "outputs": [
    {
     "data": {
      "text/plain": [
       "120"
      ]
     },
     "execution_count": 52,
     "metadata": {},
     "output_type": "execute_result"
    }
   ],
   "source": [
    "# alternate way no.2, there is a function for dot product in numpy\n",
    "np.dot(arr1,arr2)"
   ]
  },
  {
   "cell_type": "markdown",
   "metadata": {},
   "source": [
    "## Matrix vector multiplication\n",
    "We have $\\mathbf{A}\\in \\mathbb{R}^{m\\times n}$ being a matrix, and $\\mathbf{x}\\in \\mathbb{R}^n$ being a (column) vector. Then we can compute $\\mathbf{A}\\mathbf{x}$:\n",
    "$$\\mathbf {A} \\mathbf{x}=\n",
    "\\begin{pmatrix}a_{11}&a_{12}&\\cdots &a_{1n}\\\\a_{21}&a_{22}&\\cdots &a_{2n}\n",
    "\\\\\\vdots &\\vdots &\\ddots &\\vdots \\\\a_{m1}&a_{m2}&\\cdots &a_{mn}\\\\\\end{pmatrix}\n",
    "\\begin{pmatrix}x_{1}\\\\x_{2}\\\\\\vdots \\\\x_{n}\\end{pmatrix}\n",
    "=\n",
    "\\begin{pmatrix}a_{11}x_{1}+\\cdots +a_{1n}x_{n}\\\\a_{21}x_{1}+\\cdots +a_{2n}x_{n}\\\\ \\vdots \\\\a_{m1}x_{1}+\\cdots +a_{mn}x_{n}\\end{pmatrix}\n",
    "= \\begin{pmatrix} \\mathbf{a}_1\\cdot \\mathbf{x} \\\\ \\mathbf{a}_2\\cdot \\mathbf{x} \\\\ \\vdots \\\\ \n",
    "\\mathbf{a}_m\\cdot \\mathbf{x}\\end{pmatrix}\n",
    "$$\n",
    "where the matrix $\\mathbf {A} $ has the following representation:\n",
    "$$\\mathbf {A} = (\\mathbf{a}_1 , \\mathbf{a}_2 ,\\cdots ,\\mathbf{a}_m)^T, \\quad \\text{ with } \\mathbf{a}_j = \\text{the column vector representing $\\mathbf{A}$'s $j$-th row} .$$"
   ]
  },
  {
   "cell_type": "code",
   "execution_count": 59,
   "metadata": {},
   "outputs": [
    {
     "name": "stdout",
     "output_type": "stream",
     "text": [
      "A =  [[1 2 3]\n",
      " [4 5 6]\n",
      " [7 8 9]]\n",
      "x =  [ 1  0 -1]\n"
     ]
    }
   ],
   "source": [
    "A = np.array([[1,2,3],[4,5,6],[7,8,9]])\n",
    "A = np.array(range(1,10)).reshape(3,3) # same with above\n",
    "x = np.array([1, 0, -1])\n",
    "print(\"A = \", A)\n",
    "print(\"x = \", x)"
   ]
  },
  {
   "cell_type": "code",
   "execution_count": 60,
   "metadata": {},
   "outputs": [
    {
     "data": {
      "text/plain": [
       "array([[ 1,  0, -3],\n",
       "       [ 4,  0, -6],\n",
       "       [ 7,  0, -9]])"
      ]
     },
     "execution_count": 60,
     "metadata": {},
     "output_type": "execute_result"
    }
   ],
   "source": [
    "A*x # * is elementwise product"
   ]
  },
  {
   "cell_type": "code",
   "execution_count": 61,
   "metadata": {},
   "outputs": [
    {
     "data": {
      "text/plain": [
       "array([[ 1,  0, -3],\n",
       "       [ 4,  0, -6],\n",
       "       [ 7,  0, -9]])"
      ]
     },
     "execution_count": 61,
     "metadata": {},
     "output_type": "execute_result"
    }
   ],
   "source": [
    "np.multiply(A,x) # same with A*x, multiply arrays element-wise."
   ]
  },
  {
   "cell_type": "code",
   "execution_count": 9,
   "metadata": {},
   "outputs": [],
   "source": [
    "# more example\n",
    "S = np.arange(9).reshape(3,3)\n",
    "v = np.arange(3)"
   ]
  },
  {
   "cell_type": "code",
   "execution_count": 10,
   "metadata": {},
   "outputs": [
    {
     "data": {
      "text/plain": [
       "array([[ 0,  1,  4],\n",
       "       [ 0,  4, 10],\n",
       "       [ 0,  7, 16]])"
      ]
     },
     "execution_count": 10,
     "metadata": {},
     "output_type": "execute_result"
    }
   ],
   "source": [
    "np.multiply(S,v)"
   ]
  },
  {
   "cell_type": "markdown",
   "metadata": {},
   "source": [
    "#### Question: how to we implement the matrix vector multiplication?"
   ]
  },
  {
   "cell_type": "code",
   "execution_count": 62,
   "metadata": {},
   "outputs": [
    {
     "name": "stdout",
     "output_type": "stream",
     "text": [
      "[-2. -2. -2.]\n"
     ]
    }
   ],
   "source": [
    "prod = np.zeros(len(x)) # initialization\n",
    "for i in range(len(x)):\n",
    "    # what is here\n",
    "    prod[i] = np.dot(A[i,:],x)\n",
    "    # A's i-th row\n",
    "print(prod)"
   ]
  },
  {
   "cell_type": "code",
   "execution_count": 63,
   "metadata": {},
   "outputs": [],
   "source": [
    "def matvecmulti(A,x):\n",
    "    # insert code here\n",
    "    prod = np.zeros(len(x)) # initialization\n",
    "    for i in range(len(x)):\n",
    "        # what is here\n",
    "        prod[i] = np.dot(A[i,:],x)\n",
    "        # A's i-th row\n",
    "    return prod"
   ]
  },
  {
   "cell_type": "code",
   "execution_count": 64,
   "metadata": {},
   "outputs": [
    {
     "data": {
      "text/plain": [
       "array([-2., -2., -2.])"
      ]
     },
     "execution_count": 64,
     "metadata": {},
     "output_type": "execute_result"
    }
   ],
   "source": [
    "matvecmulti(A,x)"
   ]
  },
  {
   "cell_type": "code",
   "execution_count": 65,
   "metadata": {},
   "outputs": [
    {
     "data": {
      "text/plain": [
       "array([-2, -2, -2])"
      ]
     },
     "execution_count": 65,
     "metadata": {},
     "output_type": "execute_result"
    }
   ],
   "source": [
    "np.matmul(A,x) # built-in function in numpy"
   ]
  },
  {
   "cell_type": "markdown",
   "metadata": {},
   "source": [
    "\n",
    "----\n",
    "\n",
    "<br><br>\n",
    "## (Optional reading) A cool example using FOR and WHILE: *Collatz conjecture*\n",
    "\n",
    "We can use lists together with loops to have lots of variables to keep track of things.\n",
    "\n",
    "We are looking for the numbers with the longest sequences in the $3n+1$ problem.  \n",
    "\n",
    "Recall that the $3n+1$ problem works as follows:\n",
    "\n",
    "* Start with $a_0 = k$\n",
    "* if $a_i$ is odd, let $a_{i+1} = 3a_i + 1$\n",
    "* if $a_i$ is even, let $a_{i+1} = a_i/2$\n",
    "\n",
    "If we start with $a_0 = 3$, the sequences is:\n",
    "$3, 10, 5, 16, 8, 4, 2, 1$\n",
    "\n",
    "If we start with $a_0 = 9$, the sequence is:\n",
    "$9, 28, 14, 7, 22, 11, 34, 17, 52, 26, 13, 40, 20, 10 5, 16, 8, 4, 2, 1$\n",
    "\n",
    "The funny thing that nobody understands why is that the sequence seems to always ends with 1. \n",
    "\n",
    "This is sometimes called the *Collatz conjecture* (xkcd's take):\n",
    "\n",
    "![alt text](https://imgs.xkcd.com/comics/collatz_conjecture.png \"The Strong Collatz Conjecture states that this holds for any set of obsessively-hand-applied rules\")"
   ]
  },
  {
   "cell_type": "markdown",
   "metadata": {},
   "source": [
    "----\n",
    "Let's find the number $< 1000000$ with the longest sequence"
   ]
  },
  {
   "cell_type": "code",
   "execution_count": null,
   "metadata": {},
   "outputs": [],
   "source": [
    "def collatzlist(a):\n",
    "    lst = []\n",
    "    if a<=0:\n",
    "        # print('please enter a positive integer')\n",
    "        return lst\n",
    "    else:\n",
    "        while a!=1:\n",
    "            if a % 2 == 0:\n",
    "                a = a // 2\n",
    "            else:\n",
    "                a = 3*a + 1\n",
    "            lst.append(a)\n",
    "        return lst"
   ]
  },
  {
   "cell_type": "code",
   "execution_count": null,
   "metadata": {},
   "outputs": [],
   "source": [
    "collatzlist(9)"
   ]
  },
  {
   "cell_type": "code",
   "execution_count": null,
   "metadata": {},
   "outputs": [],
   "source": [
    "def collatzlen(a):\n",
    "    return len(collatzlist(a))"
   ]
  },
  {
   "cell_type": "code",
   "execution_count": null,
   "metadata": {
    "scrolled": true
   },
   "outputs": [],
   "source": [
    "collatzlen(9)"
   ]
  },
  {
   "cell_type": "markdown",
   "metadata": {},
   "source": [
    "If we want to find an integer $<100$"
   ]
  },
  {
   "cell_type": "code",
   "execution_count": null,
   "metadata": {},
   "outputs": [],
   "source": [
    "M = 100\n",
    "\n",
    "max_len = -1\n",
    "max_len_came_from = -1\n",
    "\n",
    "for i in range(M):\n",
    "    le = collatzlen(i)\n",
    "    if le > max_len:\n",
    "        max_len = le\n",
    "        max_len_came_from = i\n",
    "        \n",
    "print(\"maximum sequence length is for the number\", max_len_came_from, \"and it is\", max_len) "
   ]
  }
 ],
 "metadata": {
  "kernelspec": {
   "display_name": "Python 3",
   "language": "python",
   "name": "python3"
  },
  "language_info": {
   "codemirror_mode": {
    "name": "ipython",
    "version": 3
   },
   "file_extension": ".py",
   "mimetype": "text/x-python",
   "name": "python",
   "nbconvert_exporter": "python",
   "pygments_lexer": "ipython3",
   "version": "3.7.0"
  }
 },
 "nbformat": 4,
 "nbformat_minor": 2
}
