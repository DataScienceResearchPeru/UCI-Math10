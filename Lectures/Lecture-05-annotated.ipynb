{
 "cells": [
  {
   "cell_type": "markdown",
   "metadata": {},
   "source": [
    "# Lecture 5: NumPy arrays, more conditionals, loops\n",
    "\n",
    "## Picking-up from Lecture 4\n",
    "More functions to apply on NumPy `array`. Plotting using Matplotlib."
   ]
  },
  {
   "cell_type": "markdown",
   "metadata": {},
   "source": [
    "## Last several lectures\n",
    "We have learned almost all important variable types in Python. "
   ]
  },
  {
   "cell_type": "markdown",
   "metadata": {},
   "source": [
    "## Today\n",
    "Now we are ready to use these types to tackle some problems in Mathematics/data science by learning:\n",
    "* `while` loops\n",
    "* `break` and `continue` in while loops"
   ]
  },
  {
   "cell_type": "markdown",
   "metadata": {},
   "source": [
    "### (Optional) inline if-else\n",
    "The term \"inline\" means that you use 1 line of code to perform\n",
    "```python\n",
    "if blah:\n",
    "    blah blah\n",
    "    return something\n",
    "else:\n",
    "    blah blah blah\n",
    "    return somethingelse\n",
    "```"
   ]
  },
  {
   "cell_type": "code",
   "execution_count": null,
   "metadata": {
    "scrolled": false
   },
   "outputs": [],
   "source": [
    "x = 0 if True else 1\n",
    "print(x)"
   ]
  },
  {
   "cell_type": "code",
   "execution_count": null,
   "metadata": {
    "scrolled": true
   },
   "outputs": [],
   "source": [
    "y = 0 if (y>=1) else 1 # be very careful with this, the if conditional is check y before it is defined!\n",
    "print(y)"
   ]
  },
  {
   "cell_type": "markdown",
   "metadata": {},
   "source": [
    "## While loops\n",
    "\n",
    "Very clever way to repeat actions. \n",
    "\n",
    "Syntax:\n",
    "> while CONDITION FOR DOING THE NEXT ITERATION OF THE LOOP:\n",
    "\n",
    ">       STUFF THAT WILL BE REPEATED IN EVERY ITERATION"
   ]
  },
  {
   "cell_type": "code",
   "execution_count": 2,
   "metadata": {},
   "outputs": [],
   "source": [
    "# generate lst which is a list of integers from 0 to 9 using while\n",
    "# code here\n",
    "n = 0 # counter\n",
    "lst = [] # initialize the list\n",
    "while n < 10:\n",
    "    lst.append(n) # the code to be executed if n < 10\n",
    "    n = n + 1 # increase the counter by 1"
   ]
  },
  {
   "cell_type": "code",
   "execution_count": 3,
   "metadata": {},
   "outputs": [
    {
     "data": {
      "text/plain": [
       "[0, 1, 2, 3, 4, 5, 6, 7, 8, 9]"
      ]
     },
     "execution_count": 3,
     "metadata": {},
     "output_type": "execute_result"
    }
   ],
   "source": [
    "lst"
   ]
  },
  {
   "cell_type": "markdown",
   "metadata": {},
   "source": [
    "We can write a function to return this `lst` as well:"
   ]
  },
  {
   "cell_type": "code",
   "execution_count": 4,
   "metadata": {},
   "outputs": [],
   "source": [
    "def listnumber(m):\n",
    "    # insert code\n",
    "    n = 0 # counter\n",
    "    lst = [] # initialize the list\n",
    "    while n < m:\n",
    "        lst.append(n) # the code to be executed if n < 10\n",
    "        n = n + 1 # increase the counter by 1\n",
    "    return lst"
   ]
  },
  {
   "cell_type": "code",
   "execution_count": 6,
   "metadata": {},
   "outputs": [
    {
     "data": {
      "text/plain": [
       "[0, 1, 2, 3, 4, 5, 6, 7, 8, 9, 10, 11]"
      ]
     },
     "execution_count": 6,
     "metadata": {},
     "output_type": "execute_result"
    }
   ],
   "source": [
    "listnumber(12)"
   ]
  },
  {
   "cell_type": "markdown",
   "metadata": {},
   "source": [
    "Shortcut: Instead of writing `x = x + 1`, we can write `x += 1` using the `+=` operand."
   ]
  },
  {
   "cell_type": "code",
   "execution_count": null,
   "metadata": {},
   "outputs": [],
   "source": [
    "# Let's use the cool shortcut while doing something a little more nice\n",
    "# sum of first 100 numbers like Gauss did\n",
    "# code here"
   ]
  },
  {
   "cell_type": "markdown",
   "metadata": {},
   "source": [
    "We can do this using NumPy array as well."
   ]
  },
  {
   "cell_type": "code",
   "execution_count": null,
   "metadata": {},
   "outputs": [],
   "source": [
    "import numpy as np"
   ]
  },
  {
   "cell_type": "code",
   "execution_count": null,
   "metadata": {},
   "outputs": [],
   "source": [
    "arr = np.empty([100], dtype = 'int')\n",
    "k = 1\n",
    "while k <= 100:\n",
    "    arr[k-1] = k\n",
    "    k = k+1"
   ]
  },
  {
   "cell_type": "code",
   "execution_count": null,
   "metadata": {},
   "outputs": [],
   "source": [
    "print(arr)"
   ]
  },
  {
   "cell_type": "code",
   "execution_count": null,
   "metadata": {},
   "outputs": [],
   "source": [
    "total = np.sum(arr)\n",
    "print(total)"
   ]
  },
  {
   "cell_type": "markdown",
   "metadata": {},
   "source": [
    "What you need to do is to read the code and run it yourself, step by step, in your head and/or paper. \n"
   ]
  },
  {
   "cell_type": "markdown",
   "metadata": {},
   "source": [
    "The condition, for example `k<=100` above, must be `True` for the loop to run the first time. Otherwise the program stops and returns `None`."
   ]
  },
  {
   "cell_type": "code",
   "execution_count": 7,
   "metadata": {},
   "outputs": [],
   "source": [
    "# there will be no output from this\n",
    "while False:\n",
    "    print(\"This line will never print\")"
   ]
  },
  {
   "cell_type": "markdown",
   "metadata": {},
   "source": [
    "If the condition is always true, then you get an infinite loop!"
   ]
  },
  {
   "cell_type": "code",
   "execution_count": null,
   "metadata": {},
   "outputs": [],
   "source": [
    "# DON'T RUN the following code!!!!!!! \n",
    "# Or be ready to hit the keyboard I, I (press I twice to interrupt the kernel)\n",
    "x = 0\n",
    "while x == 0:\n",
    "    print(\"All work and no play makes Jack a dull boy.\")"
   ]
  },
  {
   "cell_type": "markdown",
   "metadata": {},
   "source": [
    "Indentation is important to see what is in the loop:"
   ]
  },
  {
   "cell_type": "code",
   "execution_count": null,
   "metadata": {
    "collapsed": true
   },
   "outputs": [],
   "source": [
    "# Don't run this or be ready to press stop. Why does it do an infinite loop?\n",
    "x = 0\n",
    "while x< 10:\n",
    "    print(x)\n",
    "x = x + 1"
   ]
  },
  {
   "cell_type": "markdown",
   "metadata": {},
   "source": [
    "**Reason**: Why the unindented part makes this an infinite loop?"
   ]
  },
  {
   "cell_type": "markdown",
   "metadata": {},
   "source": [
    "----\n",
    "\n",
    "### Checking for primeness\n",
    "We want to write a function called `isprime` that checks if a number is prime. Returns `True` if number is prime, `False` otherwise. "
   ]
  },
  {
   "cell_type": "markdown",
   "metadata": {},
   "source": [
    "Again, either try to write it yourself, or look through the code and run it in your head/on-paper. "
   ]
  },
  {
   "cell_type": "code",
   "execution_count": 1,
   "metadata": {},
   "outputs": [],
   "source": [
    "def isprime(n):\n",
    "    # insert code here\n",
    "    # we check all the divisor d < n whether n % d is 0\n",
    "    # recall n % d is the modulo operation, \n",
    "    # which return the remainder of the division using divisor d\n",
    "    if n <=1:\n",
    "        return False\n",
    "    d = 2 # this is like a counter\n",
    "    while d < n:\n",
    "        if n % d == 0: # n can be divided by d\n",
    "            return False\n",
    "        d += 1 # this is the same with d = d + 1\n",
    "        # increase the counter by 1\n",
    "    return True \n",
    "    "
   ]
  },
  {
   "cell_type": "code",
   "execution_count": 2,
   "metadata": {},
   "outputs": [
    {
     "data": {
      "text/plain": [
       "True"
      ]
     },
     "execution_count": 2,
     "metadata": {},
     "output_type": "execute_result"
    }
   ],
   "source": [
    "isprime(5) # True"
   ]
  },
  {
   "cell_type": "code",
   "execution_count": 3,
   "metadata": {},
   "outputs": [
    {
     "data": {
      "text/plain": [
       "True"
      ]
     },
     "execution_count": 3,
     "metadata": {},
     "output_type": "execute_result"
    }
   ],
   "source": [
    "isprime(11) # True"
   ]
  },
  {
   "cell_type": "code",
   "execution_count": 4,
   "metadata": {},
   "outputs": [
    {
     "data": {
      "text/plain": [
       "False"
      ]
     },
     "execution_count": 4,
     "metadata": {},
     "output_type": "execute_result"
    }
   ],
   "source": [
    "isprime(57)    # it's 3x19"
   ]
  },
  {
   "cell_type": "markdown",
   "metadata": {},
   "source": [
    "Can we make this more efficient? Yes, we don't need to check all the way up to $n-1$, we could actually check up to $\\sqrt{n}$ because if there is a factor larger than $\\sqrt{n}$, then there is also a factor smaller than $\\sqrt{n}$, namely $\\frac{n}{\\sqrt{n}}$."
   ]
  },
  {
   "cell_type": "code",
   "execution_count": 5,
   "metadata": {},
   "outputs": [],
   "source": [
    "def isprimenew(n):\n",
    "    #  now we only need to check all the divisor such that d*d < n whether n % d is 0\n",
    "    if n <=1:\n",
    "        return False\n",
    "    d = 2 # this is like a counter\n",
    "    while d*d < n:\n",
    "        if n % d == 0: # n can be divided by d\n",
    "            return False\n",
    "        d += 1 # this is the same with d = d + 1\n",
    "        # increase the counter by 1\n",
    "    return True "
   ]
  },
  {
   "cell_type": "code",
   "execution_count": 6,
   "metadata": {},
   "outputs": [
    {
     "data": {
      "text/plain": [
       "True"
      ]
     },
     "execution_count": 6,
     "metadata": {},
     "output_type": "execute_result"
    }
   ],
   "source": [
    "isprimenew(19)"
   ]
  },
  {
   "cell_type": "code",
   "execution_count": 7,
   "metadata": {},
   "outputs": [
    {
     "data": {
      "text/plain": [
       "False"
      ]
     },
     "execution_count": 7,
     "metadata": {},
     "output_type": "execute_result"
    }
   ],
   "source": [
    "isprimenew(1232938928917)"
   ]
  },
  {
   "cell_type": "markdown",
   "metadata": {},
   "source": [
    "----\n",
    "\n",
    "### Break and continue keywords (Reading material)\n",
    "\n",
    "These are keywords:\n",
    "* `break` stops the loop\n",
    "* `continue` skips the rest of the current looping of the loop but continues to loop as usual afterwards\n",
    "\n",
    "<br>\n",
    "Let's print powers of two up to $2^{10}$. "
   ]
  },
  {
   "cell_type": "code",
   "execution_count": null,
   "metadata": {},
   "outputs": [],
   "source": [
    "x = 1\n",
    "while x<1000:\n",
    "    x *= 2\n",
    "    print(x)"
   ]
  },
  {
   "cell_type": "code",
   "execution_count": null,
   "metadata": {},
   "outputs": [],
   "source": [
    "x = 1\n",
    "while True:\n",
    "    x *= 2\n",
    "    if x > 100:\n",
    "        break\n",
    "    print(x)"
   ]
  },
  {
   "cell_type": "markdown",
   "metadata": {},
   "source": [
    "When the `break` was called, it stopped the loop without doing the print statement underneath. \n",
    "\n",
    "`continue` is similar, but it will skip the rest of only one looping. Afterwards, the loop will continue as before. "
   ]
  },
  {
   "cell_type": "code",
   "execution_count": null,
   "metadata": {},
   "outputs": [],
   "source": [
    "x = 1\n",
    "while x<1000:\n",
    "    x *= 2\n",
    "    if x == 128 or x == 256:\n",
    "        continue\n",
    "    print(x)"
   ]
  },
  {
   "cell_type": "markdown",
   "metadata": {},
   "source": [
    "The above output should be missing 128 and 256. The `print` statement did not execute during those loopings of the loop because continue skipped over to the next loop. "
   ]
  },
  {
   "cell_type": "markdown",
   "metadata": {},
   "source": [
    "<br><br>\n",
    "### Good exercises (try by yourself):\n",
    "\n",
    "* Using while loops, implement the integer division function `//` as `division(a,b)`. Make sure you are doing the negative number examples correctly. \n",
    "<br><br>\n",
    "* Write a loop to print the first 100 prime numbers. \n",
    "<br><br>\n",
    "* Make a list of all the prime numbers up to 1000 (using append to add elements)\n",
    "<br><br>\n",
    "* Write a function that will return the maximum element of a list\n",
    "<br><br>\n",
    "* Write a function that will return the sum of the elements of a list\n",
    "<br><br>\n",
    "* Write a function that takes two lists, and checks to see if they have at least one common element\n",
    "<br><br>\n",
    "* Estimate pi by adding the first 1000 terms in the formula: \n",
    "$$\\frac{\\pi}{4} = 1 - \\frac13 + \\frac15 - \\frac17+ \\cdots,$$ \n",
    "which comes from the Taylor expansion of $\\arctan(x)$.\n",
    "Write a code snippet to compare the answer to the built-in `math.pi`."
   ]
  }
 ],
 "metadata": {
  "kernelspec": {
   "display_name": "Python 3",
   "language": "python",
   "name": "python3"
  },
  "language_info": {
   "codemirror_mode": {
    "name": "ipython",
    "version": 3
   },
   "file_extension": ".py",
   "mimetype": "text/x-python",
   "name": "python",
   "nbconvert_exporter": "python",
   "pygments_lexer": "ipython3",
   "version": "3.7.0"
  }
 },
 "nbformat": 4,
 "nbformat_minor": 2
}
