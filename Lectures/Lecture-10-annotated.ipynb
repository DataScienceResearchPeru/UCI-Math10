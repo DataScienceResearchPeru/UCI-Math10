{
 "cells": [
  {
   "cell_type": "markdown",
   "metadata": {},
   "source": [
    "# Lecture 10\n",
    "\n",
    "Today we will continue to learn about about the randomness, which can come from either\n",
    "* Simulations that use randomness.\n",
    "* Real life data that have randomness.\n",
    "\n",
    "Two most common descriptive statistics are: \n",
    "* Mean (average);\n",
    "\n",
    "* Standard deviation (how spread the data are). \n"
   ]
  },
  {
   "cell_type": "code",
   "execution_count": 5,
   "metadata": {},
   "outputs": [],
   "source": [
    "import numpy as np\n",
    "import matplotlib.pyplot as plt\n",
    "%matplotlib inline"
   ]
  },
  {
   "cell_type": "code",
   "execution_count": 5,
   "metadata": {},
   "outputs": [
    {
     "name": "stdout",
     "output_type": "stream",
     "text": [
      "0.1959816223759152\n",
      "4.177326681433111\n"
     ]
    }
   ],
   "source": [
    "import random # random module is imported\n",
    "print(random.random()) # first random is the module name, second random is the function\n",
    "# generate a random number between 0 to 1\n",
    "print(random.uniform(4,5))"
   ]
  },
  {
   "cell_type": "code",
   "execution_count": 6,
   "metadata": {},
   "outputs": [
    {
     "name": "stdout",
     "output_type": "stream",
     "text": [
      "0.43262470806510334\n",
      "4.0107600977870455\n"
     ]
    }
   ],
   "source": [
    "import random as rd # random module is imported\n",
    "print(rd.random()) # first random is the module name, second random is the function\n",
    "# generate a random number between 0 to 1\n",
    "print(rd.uniform(4,5))"
   ]
  },
  {
   "cell_type": "markdown",
   "metadata": {},
   "source": [
    "## Remark:\n",
    "For our class, we want to use `numpy.random` to generate random numbers."
   ]
  },
  {
   "cell_type": "code",
   "execution_count": 7,
   "metadata": {},
   "outputs": [
    {
     "name": "stdout",
     "output_type": "stream",
     "text": [
      "[0.95543986 1.29015735 0.25555349 0.15399015 0.06061757 1.64304743\n",
      " 1.07826345 1.11696082 1.69503461]\n"
     ]
    }
   ],
   "source": [
    "# numpy array with uniform random numbers\n",
    "# np.random.uniform()\n",
    "arr1 = np.random.uniform(low=0, high=2, size=9)\n",
    "print(arr1)"
   ]
  },
  {
   "cell_type": "code",
   "execution_count": 8,
   "metadata": {},
   "outputs": [
    {
     "name": "stdout",
     "output_type": "stream",
     "text": [
      "[[0.04944835 0.01782275 0.15435887]\n",
      " [0.44371206 0.87068084 0.40178209]\n",
      " [0.42607853 0.08286657 0.904847  ]]\n"
     ]
    }
   ],
   "source": [
    "arr2 = np.random.uniform(low=0,high=1, size=(3,3))\n",
    "print(arr2)"
   ]
  },
  {
   "cell_type": "markdown",
   "metadata": {},
   "source": [
    "There are two function for normal distribution: `random.normal()` and `random.randn()`."
   ]
  },
  {
   "cell_type": "code",
   "execution_count": 12,
   "metadata": {},
   "outputs": [
    {
     "data": {
      "text/plain": [
       "array([[ 0.49671415, -0.1382643 ,  0.64768854],\n",
       "       [ 1.52302986, -0.23415337, -0.23413696]])"
      ]
     },
     "execution_count": 12,
     "metadata": {},
     "output_type": "execute_result"
    }
   ],
   "source": [
    "# numpy array with Gaussian (normal) random numbers\n",
    "np.random.normal()\n",
    "np.random.seed(42)\n",
    "np.random.normal(loc=0.0, scale=1.0, size=(2,3))\n",
    "# below are samples drawn from this distrubtion"
   ]
  },
  {
   "cell_type": "code",
   "execution_count": 13,
   "metadata": {},
   "outputs": [
    {
     "data": {
      "text/plain": [
       "array([[ 0.49671415, -0.1382643 ,  0.64768854],\n",
       "       [ 1.52302986, -0.23415337, -0.23413696]])"
      ]
     },
     "execution_count": 13,
     "metadata": {},
     "output_type": "execute_result"
    }
   ],
   "source": [
    "# np.random.randn() returns r.v. ~ N(0,1)\n",
    "np.random.seed(42)\n",
    "np.random.randn(2,3)"
   ]
  },
  {
   "cell_type": "markdown",
   "metadata": {},
   "source": [
    "What if we want to use `random.randn()` in numpy to generate normal distribution with mean $\\mu$ and standard dev $\\sigma$?\n",
    "<br><br>\n",
    "*HINT* : $ (X -\\mu)/\\sigma \\sim \\mathcal{N}(0,1)$."
   ]
  },
  {
   "cell_type": "code",
   "execution_count": 16,
   "metadata": {},
   "outputs": [
    {
     "name": "stdout",
     "output_type": "stream",
     "text": [
      "[[3.91123455 5.22184518 2.69801285]\n",
      " [5.75139604 3.79872262 4.4166125 ]\n",
      " [3.79658678 8.70455637 4.97300555]]\n"
     ]
    }
   ],
   "source": [
    "# answer\n",
    "X = 2*np.random.randn(3,3) + 5 # samples drawn from N(5,2)\n",
    "print(X)"
   ]
  },
  {
   "cell_type": "code",
   "execution_count": 40,
   "metadata": {},
   "outputs": [
    {
     "data": {
      "image/png": "[encoded data removed]",
      "text/plain": [
       "<Figure size 432x288 with 1 Axes>"
      ]
     },
     "metadata": {
      "needs_background": "light"
     },
     "output_type": "display_data"
    }
   ],
   "source": [
    "N = 5000 # sample size\n",
    "mu = 0.0\n",
    "sigma = 1.0  # highers standard dev\n",
    "\n",
    "X = np.random.normal(loc=mu, scale=sigma, size=N)\n",
    "plt.axis([-6, 6, 0, N/100])\n",
    "plt.hist(X, bins = 500) # bin size = (total sample)/(bins)\n",
    "plt.show()"
   ]
  },
  {
   "cell_type": "markdown",
   "metadata": {},
   "source": [
    "## Exercise\n",
    "Change `scale` parameter from 0.5, 1, 2, 10, then plot the histogram.\n"
   ]
  },
  {
   "cell_type": "markdown",
   "metadata": {},
   "source": [
    "## Choice: chooses a random element of a Numpy array"
   ]
  },
  {
   "cell_type": "code",
   "execution_count": 56,
   "metadata": {},
   "outputs": [
    {
     "data": {
      "text/plain": [
       "'deep'"
      ]
     },
     "execution_count": 56,
     "metadata": {},
     "output_type": "execute_result"
    }
   ],
   "source": [
    "import random\n",
    "words = [\"love\", \"hate\", \"tender\", \"care\", \"deep\"]\n",
    "words = np.array(words)\n",
    "# random.choice()\n",
    "random.choice(words)"
   ]
  },
  {
   "cell_type": "code",
   "execution_count": 59,
   "metadata": {},
   "outputs": [
    {
     "data": {
      "text/plain": [
       "array([[None, None, None],\n",
       "       [None, None, None],\n",
       "       [None, None, None],\n",
       "       [None, None, None]], dtype=object)"
      ]
     },
     "execution_count": 59,
     "metadata": {},
     "output_type": "execute_result"
    }
   ],
   "source": [
    "poem = np.empty([4, 3], dtype=object)\n",
    "poem"
   ]
  },
  {
   "cell_type": "code",
   "execution_count": 60,
   "metadata": {},
   "outputs": [
    {
     "name": "stdout",
     "output_type": "stream",
     "text": [
      "[['deep' 'hate' 'love']\n",
      " ['love' 'deep' 'hate']\n",
      " ['love' 'care' 'tender']\n",
      " ['deep' 'deep' 'tender']]\n"
     ]
    }
   ],
   "source": [
    "for i in range(4): # rows\n",
    "    for j in range(3): # columns\n",
    "        poem[i,j] = random.choice(words) \n",
    "\n",
    "print(poem)"
   ]
  },
  {
   "cell_type": "code",
   "execution_count": 62,
   "metadata": {},
   "outputs": [
    {
     "name": "stdout",
     "output_type": "stream",
     "text": [
      "[['deep','hate','love'],\n",
      " ['love','deep','hate'],\n",
      " ['love','care','tender'],\n",
      " ['deep','deep','tender']]\n"
     ]
    }
   ],
   "source": [
    "poem_str = np.array2string(poem, separator = ',') # uncomment/comment by ctrl+/\n",
    "print(poem_str)"
   ]
  },
  {
   "cell_type": "code",
   "execution_count": 63,
   "metadata": {},
   "outputs": [
    {
     "data": {
      "text/plain": [
       "array([['hate', 'tender', 'hate'],\n",
       "       ['care', 'care', 'deep'],\n",
       "       ['love', 'deep', 'hate'],\n",
       "       ['hate', 'hate', 'care']], dtype='<U6')"
      ]
     },
     "execution_count": 63,
     "metadata": {},
     "output_type": "execute_result"
    }
   ],
   "source": [
    "# what is the numpy version of above?\n",
    "# every function in random module has its counterpart in numpy.random\n",
    "np.random.choice(words, size=(4,3))"
   ]
  },
  {
   "cell_type": "code",
   "execution_count": 64,
   "metadata": {},
   "outputs": [
    {
     "name": "stdout",
     "output_type": "stream",
     "text": [
      "\n",
      "deep\n",
      "hate\n",
      "love\n",
      "\n",
      "love\n",
      "deep\n",
      "hate\n",
      "\n",
      "love\n",
      "care\n",
      "tender\n",
      "\n",
      "deep\n",
      "deep\n",
      "tender\n"
     ]
    }
   ],
   "source": [
    "# if we want to format better\n",
    "for row in poem:\n",
    "    print()\n",
    "    for words in row:\n",
    "        print(''.join(str(words)))\n"
   ]
  },
  {
   "cell_type": "markdown",
   "metadata": {},
   "source": [
    "# Mean and Standard Deviation of a Data-set"
   ]
  },
  {
   "cell_type": "markdown",
   "metadata": {},
   "source": [
    "Say I am given a numpy array `X` full of numbers (e.g. grades).\n"
   ]
  },
  {
   "cell_type": "code",
   "execution_count": 65,
   "metadata": {},
   "outputs": [],
   "source": [
    "X = np.array([67, 62, 78, 67, 64, 52, 50, 80, 50, 94, 77, 62, 78, 67, 44, 52, 70, 80, 50, 94, 100, 61, 59, 56, 30, 91, 60, 54, 34, 98])"
   ]
  },
  {
   "cell_type": "code",
   "execution_count": 66,
   "metadata": {},
   "outputs": [
    {
     "name": "stdout",
     "output_type": "stream",
     "text": [
      "shape: (30,)\n"
     ]
    }
   ],
   "source": [
    "print(\"shape:\", X.shape)\n",
    "# grade range:"
   ]
  },
  {
   "cell_type": "code",
   "execution_count": 67,
   "metadata": {},
   "outputs": [
    {
     "data": {
      "text/plain": [
       "(30, 100)"
      ]
     },
     "execution_count": 67,
     "metadata": {},
     "output_type": "execute_result"
    }
   ],
   "source": [
    "min(X), max(X)"
   ]
  },
  {
   "cell_type": "code",
   "execution_count": 68,
   "metadata": {},
   "outputs": [
    {
     "data": {
      "text/plain": [
       "<matplotlib.collections.PathCollection at 0x297a0f5f080>"
      ]
     },
     "execution_count": 68,
     "metadata": {},
     "output_type": "execute_result"
    },
    {
     "data": {
      "image/png": "[encoded data removed]",
      "text/plain": [
       "<Figure size 432x288 with 1 Axes>"
      ]
     },
     "metadata": {
      "needs_background": "light"
     },
     "output_type": "display_data"
    }
   ],
   "source": [
    "plt.scatter(X, np.zeros(30))"
   ]
  },
  {
   "cell_type": "code",
   "execution_count": 72,
   "metadata": {},
   "outputs": [
    {
     "data": {
      "image/png": "[encoded data removed]",
      "text/plain": [
       "<Figure size 432x288 with 1 Axes>"
      ]
     },
     "metadata": {
      "needs_background": "light"
     },
     "output_type": "display_data"
    }
   ],
   "source": [
    "plt.hist(X, bins=8,edgecolor='black', linewidth=1)\n",
    "plt.show()"
   ]
  },
  {
   "cell_type": "markdown",
   "metadata": {},
   "source": [
    "**Question:** If we knew that these numbers came from a normal distribution $N(\\mu, \\sigma)$, what is the most likely normal distribution that this data would have come from?\n",
    "\n",
    "\n",
    "**Answer:** It's the normal distribution $N(\\mu, \\sigma)$ where $\\mu$ is the mean of the data, and $\\sigma$ is the standard deviation of the data. Mean is the average of the data, standard deviation is the square root of the average of the square of the distance to the mean of the data... better to write down the formula:\n",
    "\n",
    "$$\\mu = \\frac{1}{N}\\sum_{i=1}^N x_i$$\n",
    "\n",
    "$$\\sigma = \\sqrt{\\frac{1}{N}\\sum_{i=1}^N (x_i - \\mu)^2}$$\n",
    "\n",
    "In python, we can use `np.mean` and `np.std` to compute these."
   ]
  },
  {
   "cell_type": "markdown",
   "metadata": {},
   "source": [
    "## Mean of a dataset vs Expected value of a random variable\n",
    "If $X$ is a random variable:\n",
    "$$\\operatorname {E} [X]=\\sum _{i=1}^{\\infty }x_{i}\\,p_{i},$$\n",
    "or\n",
    "$$\\operatorname {E} [X] = \\int _{-\\infty }^{+\\infty }x p(x)\\,dx.$$\n",
    "\n",
    "When the *mean* is discussed, we mean the *sample mean* (funny word play there). We compute the sample mean on a given set of samples, that is a set of **outcomes** of a probability distribution. This mean may yield different properties with regards to the estimation of the \"actual average\" of the underlying probability distribution. \n",
    "<br><br>\n",
    "For instance you may consider how the mathematical definition of the sample mean behaves when passing to the limit (taking the sample size to infinity), etc. However the expected value above is functionally associated to distribution with a given parameter, a distribution that can further generate samples with different sample means.\n",
    "<br><br>\n",
    "If $\\{x_i\\}$ are samples drawn from the distribution for randome variable $X$, in general\n",
    "$$\n",
    "\\mu = \\frac{\\sum_{k=1}^N x_i}{N}\\neq \\operatorname {E} [X] .\n",
    "$$"
   ]
  },
  {
   "cell_type": "code",
   "execution_count": 73,
   "metadata": {
    "scrolled": true
   },
   "outputs": [
    {
     "name": "stdout",
     "output_type": "stream",
     "text": [
      "mean of the samples is:  66.03333333333333\n",
      "standard deviation of the sameples is:  17.839064499637367\n"
     ]
    }
   ],
   "source": [
    "mu, sigma = np.mean(X), np.std(X)\n",
    "print(\"mean of the samples is: \", mu)\n",
    "print(\"standard deviation of the samples is: \", sigma)"
   ]
  },
  {
   "cell_type": "markdown",
   "metadata": {},
   "source": [
    "Recall that the Gaussian distribution $N(\\mu, \\sigma)$ has density function:\n",
    "\n",
    "$$ p(x) = \\frac{1}{\\sqrt{2\\pi}\\sigma}\\exp\\left({-\\frac{(x-\\mu)^2}{2\\sigma^2}}\\right)$$\n",
    "\n",
    "We will now draw the bell curve:\n"
   ]
  },
  {
   "cell_type": "code",
   "execution_count": 18,
   "metadata": {},
   "outputs": [],
   "source": [
    "from math import sqrt, pi, e"
   ]
  },
  {
   "cell_type": "code",
   "execution_count": 75,
   "metadata": {},
   "outputs": [],
   "source": [
    "N = 300 # grid size, not sample size\n",
    "Z = np.linspace(0,100,N)"
   ]
  },
  {
   "cell_type": "code",
   "execution_count": null,
   "metadata": {},
   "outputs": [],
   "source": [
    "# example of lambda\n",
    "f = lambda xblahblahblah: xblahblahblah**2 + 1 # x^2 + 1"
   ]
  },
  {
   "cell_type": "code",
   "execution_count": 17,
   "metadata": {},
   "outputs": [],
   "source": [
    "gaussian_func = lambda mu, sigma: (lambda x: 1/(sqrt(2*pi)*sigma) * e**(-0.5*(x - mu)*(x-mu)/(sigma**2)))"
   ]
  },
  {
   "cell_type": "code",
   "execution_count": 79,
   "metadata": {},
   "outputs": [
    {
     "data": {
      "text/plain": [
       "function"
      ]
     },
     "execution_count": 79,
     "metadata": {},
     "output_type": "execute_result"
    }
   ],
   "source": [
    "gaussian_func_musig = gaussian_func(0,1) # standard normal density function\n",
    "type(gaussian_func_musig)"
   ]
  },
  {
   "cell_type": "code",
   "execution_count": 81,
   "metadata": {},
   "outputs": [
    {
     "data": {
      "image/png": "[encoded data removed]",
      "text/plain": [
       "<Figure size 432x288 with 1 Axes>"
      ]
     },
     "metadata": {
      "needs_background": "light"
     },
     "output_type": "display_data"
    }
   ],
   "source": [
    "plt.plot(Z, guassian_func(mu, sigma)(Z)) # blue curve\n",
    "plt.hist(X, bins= 8, density=True, edgecolor='black') \n",
    "# orange histogram, \"density = True\" means we plot the density histogram instead of the absolute numbers\n",
    "plt.show()"
   ]
  },
  {
   "cell_type": "markdown",
   "metadata": {},
   "source": [
    "**Conclusion:** For any data-set, the mean and standard deviation of the best-fitting Gaussian distribution are the mean and standard deviation of the data-set."
   ]
  },
  {
   "cell_type": "markdown",
   "metadata": {},
   "source": [
    "## Importing real life data (optional)\n",
    "\n",
    "In this week's lab practice, we have seen how to import real life data on [UCI machine learning dataset repository](https://archive.ics.uci.edu/ml/datasets.html). Today we will try `numpy`'s built-in loading.\n",
    "\n",
    "* Download `winequality-red.csv` from [https://archive.ics.uci.edu/ml/machine-learning-databases/wine-quality/](https://archive.ics.uci.edu/ml/machine-learning-databases/wine-quality/) and put it in the same directory with this notebook.\n",
    "* Check the csv file using Excel on the lab computer. Import the data using the following command."
   ]
  },
  {
   "cell_type": "code",
   "execution_count": 6,
   "metadata": {},
   "outputs": [],
   "source": [
    "wine_data = np.loadtxt('winequality-red.csv', delimiter=';', skiprows=1) \n",
    "# without skiprows what happend\n",
    "# this is why pandas is better..."
   ]
  },
  {
   "cell_type": "code",
   "execution_count": 7,
   "metadata": {},
   "outputs": [],
   "source": [
    "wine_data = np.loadtxt('winequality-red.csv', delimiter=';', skiprows=1, usecols = [0,1,2])\n",
    "# uses only first 3 columns"
   ]
  },
  {
   "cell_type": "markdown",
   "metadata": {},
   "source": [
    "## In-class exercise:\n",
    "Repeat above procedure for each column of wine_data."
   ]
  },
  {
   "cell_type": "code",
   "execution_count": 12,
   "metadata": {},
   "outputs": [
    {
     "name": "stdout",
     "output_type": "stream",
     "text": [
      "max is:  15.9\n",
      "min is:  4.6\n"
     ]
    }
   ],
   "source": [
    "# plt.hist first, then creat a linspace with max and min of each column using certain number of points\n",
    "print(\"max is: \", max(wine_data[:,0]))\n",
    "print(\"min is: \",min(wine_data[:,0]))"
   ]
  },
  {
   "cell_type": "code",
   "execution_count": 23,
   "metadata": {},
   "outputs": [
    {
     "name": "stdout",
     "output_type": "stream",
     "text": [
      "mean is: 8.31963727329581\n",
      "stanard dev is: 1.7405518001102729\n"
     ]
    }
   ],
   "source": [
    "mu =  np.mean(wine_data[:,0])\n",
    "sigma = np.std(wine_data[:,0])\n",
    "print(\"mean is:\", mu)\n",
    "print(\"stanard dev is:\", sigma)"
   ]
  },
  {
   "cell_type": "code",
   "execution_count": 26,
   "metadata": {},
   "outputs": [
    {
     "data": {
      "image/png": "[encoded data removed]",
      "text/plain": [
       "<Figure size 432x288 with 1 Axes>"
      ]
     },
     "metadata": {
      "needs_background": "light"
     },
     "output_type": "display_data"
    }
   ],
   "source": [
    "z = np.linspace(4.6, 15.9, 300)\n",
    "plt.plot(z,gaussian_func(mu,sigma)(z))\n",
    "plt.hist(wine_data[:,0], bins= 100, density=True, edgecolor='black')\n",
    "plt.show()"
   ]
  }
 ],
 "metadata": {
  "kernelspec": {
   "display_name": "Python 3",
   "language": "python",
   "name": "python3"
  },
  "language_info": {
   "codemirror_mode": {
    "name": "ipython",
    "version": 3
   },
   "file_extension": ".py",
   "mimetype": "text/x-python",
   "name": "python",
   "nbconvert_exporter": "python",
   "pygments_lexer": "ipython3",
   "version": "3.7.1"
  }
 },
 "nbformat": 4,
 "nbformat_minor": 2
}
