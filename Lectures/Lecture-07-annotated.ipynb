{
 "cells": [
  {
   "cell_type": "markdown",
   "metadata": {},
   "source": [
    "# Lecture 7\n",
    "\n",
    "Today: \n",
    "* Advanced: create a structured array.\n",
    "* Advanced: vectorization for `NumPy` arrays.\n",
    "* Vectorized implementation for common manipulations, such as convolution used in convolutional neural network.\n",
    "* solve the linear system $\\mathbf{A}\\mathbf{x} = \\mathbf{b}$."
   ]
  },
  {
   "cell_type": "code",
   "execution_count": 1,
   "metadata": {},
   "outputs": [],
   "source": [
    "import numpy as np"
   ]
  },
  {
   "cell_type": "markdown",
   "metadata": {},
   "source": [
    "## Structured Array\n",
    "By default, we cannot concatenating different types of variables in an `ndarray` because `np.array` with a list as input only can have 1 type of variable. However, we can have a `dtype` option to specify the variable to make a **structured** array (technically an `ndarray` but quite different)."
   ]
  },
  {
   "cell_type": "code",
   "execution_count": 9,
   "metadata": {},
   "outputs": [
    {
     "name": "stdout",
     "output_type": "stream",
     "text": [
      "[0 1]\n"
     ]
    },
    {
     "data": {
      "text/plain": [
       "(2,)"
      ]
     },
     "execution_count": 9,
     "metadata": {},
     "output_type": "execute_result"
    }
   ],
   "source": [
    "x_tst = np.arange(2)\n",
    "print(x_tst)\n",
    "x_tst.shape"
   ]
  },
  {
   "cell_type": "code",
   "execution_count": 3,
   "metadata": {},
   "outputs": [
    {
     "data": {
      "text/plain": [
       "array([[1, 2],\n",
       "       [3, 4]])"
      ]
     },
     "execution_count": 3,
     "metadata": {},
     "output_type": "execute_result"
    }
   ],
   "source": [
    "X_tst = np.array([[1,2], [3,4] ])\n",
    "X_tst"
   ]
  },
  {
   "cell_type": "code",
   "execution_count": 22,
   "metadata": {},
   "outputs": [],
   "source": [
    "X = np.array([(1, 2., 'Hello'), (2, 3., \"World\")],\n",
    "              dtype=[('foo', 'i4'),('bar', 'f4'), ('baz', 'S10')])\n",
    "# the 'foo', 'bar', 'baz' are the customized indices\n",
    "# a10 can be S10\n",
    "# the number after 'a' or 'S' is the max length of the string allowed"
   ]
  },
  {
   "cell_type": "code",
   "execution_count": 21,
   "metadata": {},
   "outputs": [
    {
     "data": {
      "text/plain": [
       "array([(1, 2., b'He'), (2, 3., b'Wo')],\n",
       "      dtype=[('foo', '<i4'), ('bar', '<f4'), ('baz', 'S2')])"
      ]
     },
     "execution_count": 21,
     "metadata": {},
     "output_type": "execute_result"
    }
   ],
   "source": [
    "X"
   ]
  },
  {
   "cell_type": "code",
   "execution_count": 6,
   "metadata": {},
   "outputs": [
    {
     "data": {
      "text/plain": [
       "numpy.ndarray"
      ]
     },
     "execution_count": 6,
     "metadata": {},
     "output_type": "execute_result"
    }
   ],
   "source": [
    "type(X)"
   ]
  },
  {
   "cell_type": "code",
   "execution_count": 7,
   "metadata": {},
   "outputs": [
    {
     "data": {
      "text/plain": [
       "(2,)"
      ]
     },
     "execution_count": 7,
     "metadata": {},
     "output_type": "execute_result"
    }
   ],
   "source": [
    "X.shape"
   ]
  },
  {
   "cell_type": "code",
   "execution_count": 11,
   "metadata": {},
   "outputs": [
    {
     "data": {
      "text/plain": [
       "(2, 3., b'World')"
      ]
     },
     "execution_count": 11,
     "metadata": {},
     "output_type": "execute_result"
    }
   ],
   "source": [
    "X[1]"
   ]
  },
  {
   "cell_type": "code",
   "execution_count": 13,
   "metadata": {},
   "outputs": [
    {
     "data": {
      "text/plain": [
       "array([(1, 2., b'Hello'), (2, 3., b'World')],\n",
       "      dtype=[('foo', '<i4'), ('bar', '<f4'), ('baz', 'S10')])"
      ]
     },
     "execution_count": 13,
     "metadata": {},
     "output_type": "execute_result"
    }
   ],
   "source": [
    "X"
   ]
  },
  {
   "cell_type": "code",
   "execution_count": 12,
   "metadata": {
    "scrolled": true
   },
   "outputs": [
    {
     "data": {
      "text/plain": [
       "array([1, 2])"
      ]
     },
     "execution_count": 12,
     "metadata": {},
     "output_type": "execute_result"
    }
   ],
   "source": [
    "X['foo'] # foo is the most commonly used placeholder in programming\n",
    "# the string 'foo' is now an index"
   ]
  },
  {
   "cell_type": "code",
   "execution_count": 15,
   "metadata": {},
   "outputs": [
    {
     "data": {
      "text/plain": [
       "array([b'Hello', b'World'], dtype='|S10')"
      ]
     },
     "execution_count": 15,
     "metadata": {},
     "output_type": "execute_result"
    }
   ],
   "source": [
    "X['baz']"
   ]
  },
  {
   "cell_type": "code",
   "execution_count": 14,
   "metadata": {},
   "outputs": [
    {
     "data": {
      "text/plain": [
       "array([2., 3.], dtype=float32)"
      ]
     },
     "execution_count": 14,
     "metadata": {},
     "output_type": "execute_result"
    }
   ],
   "source": [
    "X['bar']"
   ]
  },
  {
   "cell_type": "code",
   "execution_count": 23,
   "metadata": {},
   "outputs": [
    {
     "data": {
      "text/plain": [
       "array([(2, 2., b'Hello'), (4, 3., b'World')],\n",
       "      dtype=[('foo', '<i4'), ('bar', '<f4'), ('baz', 'S10')])"
      ]
     },
     "execution_count": 23,
     "metadata": {},
     "output_type": "execute_result"
    }
   ],
   "source": [
    "X['foo'] *= 2 # same with X['foo'] = X['foo']*2\n",
    "X"
   ]
  },
  {
   "cell_type": "code",
   "execution_count": 24,
   "metadata": {},
   "outputs": [
    {
     "data": {
      "text/plain": [
       "array([(2, 5.1400003, b'Hello'), (4, 6.1400003, b'World')],\n",
       "      dtype=[('foo', '<i4'), ('bar', '<f4'), ('baz', 'S10')])"
      ]
     },
     "execution_count": 24,
     "metadata": {},
     "output_type": "execute_result"
    }
   ],
   "source": [
    "X['bar'] += 3.14\n",
    "X"
   ]
  },
  {
   "cell_type": "markdown",
   "metadata": {},
   "source": [
    "Python 3 uses unicode, and marks bytestrings with this `b`.\n",
    "<br><br>\n",
    "Reference: [https://docs.scipy.org/doc/numpy-1.13.0/reference/arrays.dtypes.html#string-dtype-note](https://docs.scipy.org/doc/numpy-1.13.0/reference/arrays.dtypes.html#string-dtype-note)"
   ]
  },
  {
   "cell_type": "code",
   "execution_count": 25,
   "metadata": {},
   "outputs": [],
   "source": [
    "Y = np.array([(1, 2., 'Hello'), (2, 3., \"World\")],\n",
    "              dtype='i4, f4, S6')\n",
    "# Y is the same with X without customized indices"
   ]
  },
  {
   "cell_type": "code",
   "execution_count": 27,
   "metadata": {},
   "outputs": [
    {
     "data": {
      "text/plain": [
       "(1, 2., b'Hello')"
      ]
     },
     "execution_count": 27,
     "metadata": {},
     "output_type": "execute_result"
    }
   ],
   "source": [
    "Y[0]"
   ]
  },
  {
   "cell_type": "markdown",
   "metadata": {},
   "source": [
    "### We want to avoid the following type of assignment"
   ]
  },
  {
   "cell_type": "code",
   "execution_count": 29,
   "metadata": {},
   "outputs": [
    {
     "name": "stdout",
     "output_type": "stream",
     "text": [
      "[['1' '2.0' 'Hello']\n",
      " ['2' '3.0' 'World']]\n"
     ]
    }
   ],
   "source": [
    "# what happens if we do not specify the dtype?\n",
    "Y = np.array([(1, 2., 'Hello'), (2, 3., \"World\")])\n",
    "print(Y)\n",
    "# if we give numpy an array of mixed type\n",
    "# numpy converts it to whatever is the \"most convenient\""
   ]
  },
  {
   "cell_type": "code",
   "execution_count": 30,
   "metadata": {},
   "outputs": [
    {
     "data": {
      "text/plain": [
       "numpy.str_"
      ]
     },
     "execution_count": 30,
     "metadata": {},
     "output_type": "execute_result"
    }
   ],
   "source": [
    "type(Y[0,0])"
   ]
  },
  {
   "cell_type": "code",
   "execution_count": 32,
   "metadata": {},
   "outputs": [
    {
     "name": "stdout",
     "output_type": "stream",
     "text": [
      "['1' '2.0' 'Hello']\n"
     ]
    }
   ],
   "source": [
    "Z = np.array((1, 2., 'Hello'))\n",
    "print(Z)\n",
    "# we can google \"Does numpy convert tuple to array?\""
   ]
  },
  {
   "cell_type": "markdown",
   "metadata": {},
   "source": [
    "The options `dtype` can be:\n",
    "> b1, i1, i2, i4, i8, u1, u2, u4, u8, f2, f4, f8, c8, c16, a\n",
    "    \n",
    "which are bytes, ints, unsigned ints, floats, complex and fixed length strings of specified byte lengths)\n",
    "<br><br>\n",
    "Reference: for more please check [https://docs.scipy.org/doc/numpy-1.10.4/user/basics.rec.html](https://docs.scipy.org/doc/numpy-1.10.4/user/basics.rec.html)"
   ]
  },
  {
   "cell_type": "markdown",
   "metadata": {},
   "source": [
    "# Vectorization:"
   ]
  },
  {
   "cell_type": "code",
   "execution_count": 40,
   "metadata": {},
   "outputs": [
    {
     "name": "stdout",
     "output_type": "stream",
     "text": [
      "[[0. 0. 0.]\n",
      " [0. 0. 0.]\n",
      " [0. 0. 0.]]\n"
     ]
    }
   ],
   "source": [
    "# guess what will happen?\n",
    "arr = np.zeros([3,3])\n",
    "print(arr)"
   ]
  },
  {
   "cell_type": "code",
   "execution_count": 41,
   "metadata": {},
   "outputs": [
    {
     "name": "stdout",
     "output_type": "stream",
     "text": [
      "[[1. 1. 1.]\n",
      " [1. 1. 1.]\n",
      " [1. 1. 1.]]\n"
     ]
    }
   ],
   "source": [
    "# example of non-vectorized implementation\n",
    "arr1 = np.zeros([3,3])\n",
    "for i in range(3):\n",
    "    for j in range(3):\n",
    "        arr1[i,j] += 1\n",
    "\n",
    "print(arr1)"
   ]
  },
  {
   "cell_type": "code",
   "execution_count": 42,
   "metadata": {},
   "outputs": [
    {
     "name": "stdout",
     "output_type": "stream",
     "text": [
      "[[1. 1. 1.]\n",
      " [1. 1. 1.]\n",
      " [1. 1. 1.]]\n"
     ]
    }
   ],
   "source": [
    "arr = arr + 1 # vectorized implementation without any for loop\n",
    "# 1 is plussed to each element of arr\n",
    "print(arr)"
   ]
  },
  {
   "cell_type": "markdown",
   "metadata": {},
   "source": [
    "Now `*` works like a tensor product (element-wise product) for matrix."
   ]
  },
  {
   "cell_type": "code",
   "execution_count": 44,
   "metadata": {},
   "outputs": [
    {
     "name": "stdout",
     "output_type": "stream",
     "text": [
      "[[2. 2. 2.]\n",
      " [2. 2. 2.]\n",
      " [2. 2. 2.]]\n"
     ]
    }
   ],
   "source": [
    "print(arr*(arr+1))"
   ]
  },
  {
   "cell_type": "code",
   "execution_count": 45,
   "metadata": {},
   "outputs": [],
   "source": [
    "def f(x):\n",
    "    return x*x + x + 1 # x^2 + x + 1"
   ]
  },
  {
   "cell_type": "code",
   "execution_count": 46,
   "metadata": {},
   "outputs": [
    {
     "data": {
      "text/plain": [
       "array([[3., 3., 3.],\n",
       "       [3., 3., 3.],\n",
       "       [3., 3., 3.]])"
      ]
     },
     "execution_count": 46,
     "metadata": {},
     "output_type": "execute_result"
    }
   ],
   "source": [
    "f(arr)    # again this would never work for lists"
   ]
  },
  {
   "cell_type": "markdown",
   "metadata": {},
   "source": [
    "**Remark**: for library functions (not user defined like above) you may need to use a function called `vectorize`."
   ]
  },
  {
   "cell_type": "code",
   "execution_count": 47,
   "metadata": {},
   "outputs": [],
   "source": [
    "def g(x):\n",
    "    if x > 0:\n",
    "        return x*x + x + 1 # x^2 + x + 1"
   ]
  },
  {
   "cell_type": "code",
   "execution_count": null,
   "metadata": {},
   "outputs": [],
   "source": [
    "g(arr) # g is non-vectorized, numpy gives us error"
   ]
  },
  {
   "cell_type": "code",
   "execution_count": 49,
   "metadata": {},
   "outputs": [
    {
     "data": {
      "text/plain": [
       "array([[3., 3., 3.],\n",
       "       [3., 3., 3.],\n",
       "       [3., 3., 3.]])"
      ]
     },
     "execution_count": 49,
     "metadata": {},
     "output_type": "execute_result"
    }
   ],
   "source": [
    "np.vectorize(g)(arr)"
   ]
  },
  {
   "cell_type": "code",
   "execution_count": 50,
   "metadata": {},
   "outputs": [],
   "source": [
    "arr = np.array(range(9)).reshape(3,3) + 1 # no for loop"
   ]
  },
  {
   "cell_type": "code",
   "execution_count": 51,
   "metadata": {},
   "outputs": [
    {
     "data": {
      "text/plain": [
       "array([[1, 2, 3],\n",
       "       [4, 5, 6],\n",
       "       [7, 8, 9]])"
      ]
     },
     "execution_count": 51,
     "metadata": {},
     "output_type": "execute_result"
    }
   ],
   "source": [
    "arr"
   ]
  },
  {
   "cell_type": "markdown",
   "metadata": {},
   "source": [
    "## Convolution in 2D using a filter (Optional Reading)\n",
    "\n",
    "Suppose we have a big matrix `A` and a small filter matrix (called Kernel) `K`:\n",
    "<img src=\"convolution1.JPG\" alt=\"Convolution\" width=\"500\"/>\n",
    "It is adding up the element-wise product of every 3 by 3 block in the big matrix `A` with the kernel `K`:\n",
    "<img src=\"convolution2.JPG\" alt=\"Convolution\" width=\"700\"/>"
   ]
  },
  {
   "cell_type": "code",
   "execution_count": null,
   "metadata": {},
   "outputs": [],
   "source": [
    "### import numpy as np\n",
    "A = np.random.randint(90,110, size=(12,10))\n",
    "K = np.array([[0, -1, 0 ], [-1, 5, -1], [0, -1, 0]])\n",
    "conv = np.zeros((10,8))\n",
    "dim = conv.shape\n",
    "print(\"A = \\n\", A)\n",
    "print()\n",
    "print(\"The shape of A after being convolved with a 3x3 kernel is \", conv.shape)"
   ]
  },
  {
   "cell_type": "code",
   "execution_count": null,
   "metadata": {},
   "outputs": [],
   "source": [
    "A[0:3,0:3]*K"
   ]
  },
  {
   "cell_type": "code",
   "execution_count": null,
   "metadata": {},
   "outputs": [],
   "source": [
    "conv[0,0] = np.sum(A[0:3,0:3]*K)\n",
    "conv"
   ]
  },
  {
   "cell_type": "code",
   "execution_count": null,
   "metadata": {},
   "outputs": [],
   "source": [
    "width, height = dim[0], dim[1]\n",
    "\n",
    "for i in range(width):\n",
    "    for j in range(height):\n",
    "        conv[i,j] = np.sum(A[i:i+3,j:j+3]*K)\n",
    "        \n",
    "print(conv)"
   ]
  },
  {
   "cell_type": "markdown",
   "metadata": {},
   "source": [
    "Now we rewrite above script into a function."
   ]
  },
  {
   "cell_type": "code",
   "execution_count": null,
   "metadata": {},
   "outputs": [],
   "source": [
    "def myConvolve(A,K):\n",
    "    # insert code here"
   ]
  },
  {
   "cell_type": "markdown",
   "metadata": {},
   "source": [
    "# Solving linear system\n",
    "Now let us consider when $m=n$, we want to solve a system of linear equations:\n",
    "$$\\mathbf{A} \\mathbf{x} = \\mathbf{b},$$\n",
    "which is\n",
    "$$\\left\\{\n",
    "\\begin{aligned} a_{11}x_{1}+a_{12}x_{2}+\\cdots +a_{1n}x_{n}&=b_{1}\\\\a_{21}x_{1}+a_{22}x_{2}+\\cdots +a_{2n}x_{n}&=b_{2}\\\\&\\ \\ \\vdots \\\\a_{n1}x_{1}+a_{n2}x_{2}+\\cdots +a_{nn}x_{n}&=b_{n}.\\end{aligned}\n",
    "\\right.\n",
    "$$\n",
    "The number of unknowns is the same with the number of equations.\n",
    "Instead of manual implementing the pivoting process using `for` loops, we can use the Linear Algebra routines `numpy.linalg` in NumPy, and later using `scipy.linalg` in SciPy (a comprehensive scientific computing library).\n",
    "\n",
    "<br><br>\n",
    "Reference: [https://docs.scipy.org/doc/numpy-1.15.1/reference/routines.linalg.html](https://docs.scipy.org/doc/numpy-1.15.1/reference/routines.linalg.html)"
   ]
  },
  {
   "cell_type": "code",
   "execution_count": 52,
   "metadata": {},
   "outputs": [],
   "source": [
    "# import the linear algebra routines\n",
    "import numpy as np\n",
    "from numpy import linalg as LA\n",
    "# if not you have to compute rank you have to use numpy.linalg.matrix_rank()"
   ]
  },
  {
   "cell_type": "code",
   "execution_count": null,
   "metadata": {},
   "outputs": [],
   "source": [
    "LA. # press Tab after the dot"
   ]
  },
  {
   "cell_type": "code",
   "execution_count": 53,
   "metadata": {},
   "outputs": [
    {
     "data": {
      "text/plain": [
       "2"
      ]
     },
     "execution_count": 53,
     "metadata": {},
     "output_type": "execute_result"
    }
   ],
   "source": [
    "# first we have to check the rank\n",
    "A = np.array([[1,2,3],[4,5,6],[7,8,9]])\n",
    "LA.matrix_rank(A)"
   ]
  },
  {
   "cell_type": "code",
   "execution_count": 55,
   "metadata": {},
   "outputs": [
    {
     "name": "stdout",
     "output_type": "stream",
     "text": [
      "[[ 2 -1  1]\n",
      " [ 1  2 -1]\n",
      " [ 0 -1  2]]\n"
     ]
    },
    {
     "data": {
      "text/plain": [
       "3"
      ]
     },
     "execution_count": 55,
     "metadata": {},
     "output_type": "execute_result"
    }
   ],
   "source": [
    "A = np.array([[2,-1,1],[1,2,-1],[0,-1,2]])\n",
    "print(A)\n",
    "LA.matrix_rank(A) "
   ]
  },
  {
   "cell_type": "code",
   "execution_count": 56,
   "metadata": {},
   "outputs": [
    {
     "data": {
      "text/plain": [
       "array([0.42857143, 0.71428571, 0.85714286])"
      ]
     },
     "execution_count": 56,
     "metadata": {},
     "output_type": "execute_result"
    }
   ],
   "source": [
    "b = np.array([1,1,1])\n",
    "x = LA.solve(A,b)\n",
    "x"
   ]
  },
  {
   "cell_type": "markdown",
   "metadata": {},
   "source": [
    "## What about using inverse of a matrix"
   ]
  },
  {
   "cell_type": "code",
   "execution_count": 57,
   "metadata": {},
   "outputs": [
    {
     "name": "stdout",
     "output_type": "stream",
     "text": [
      "[[ 0.42857143  0.14285714 -0.14285714]\n",
      " [-0.28571429  0.57142857  0.42857143]\n",
      " [-0.14285714  0.28571429  0.71428571]]\n"
     ]
    }
   ],
   "source": [
    "# inverse\n",
    "Ainv = LA.inv(A)\n",
    "print(Ainv)"
   ]
  },
  {
   "cell_type": "code",
   "execution_count": 60,
   "metadata": {},
   "outputs": [
    {
     "data": {
      "text/plain": [
       "array([[ 3.15251974e+15, -6.30503948e+15,  3.15251974e+15],\n",
       "       [-6.30503948e+15,  1.26100790e+16, -6.30503948e+15],\n",
       "       [ 3.15251974e+15, -6.30503948e+15,  3.15251974e+15]])"
      ]
     },
     "execution_count": 60,
     "metadata": {},
     "output_type": "execute_result"
    }
   ],
   "source": [
    "A_tst = np.arange(9)+1\n",
    "A_tst = A_tst.reshape(3,3)\n",
    "LA.inv(A_tst) # the result blows up because A_tst is singular (rank 2)"
   ]
  },
  {
   "cell_type": "code",
   "execution_count": 62,
   "metadata": {},
   "outputs": [
    {
     "data": {
      "text/plain": [
       "array([[ 1.00000000e+00, -2.77555756e-17, -5.55111512e-17],\n",
       "       [ 0.00000000e+00,  1.00000000e+00,  0.00000000e+00],\n",
       "       [ 0.00000000e+00,  1.11022302e-16,  1.00000000e+00]])"
      ]
     },
     "execution_count": 62,
     "metadata": {},
     "output_type": "execute_result"
    }
   ],
   "source": [
    "# check\n",
    "np.matmul(A,Ainv)\n",
    "np.matmul(Ainv,A)"
   ]
  },
  {
   "cell_type": "markdown",
   "metadata": {},
   "source": [
    "### Other common function in linear algebra"
   ]
  },
  {
   "cell_type": "code",
   "execution_count": 63,
   "metadata": {},
   "outputs": [
    {
     "data": {
      "text/plain": [
       "-9.51619735392994e-16"
      ]
     },
     "execution_count": 63,
     "metadata": {},
     "output_type": "execute_result"
    }
   ],
   "source": [
    "LA.det(A_tst)"
   ]
  },
  {
   "cell_type": "code",
   "execution_count": 64,
   "metadata": {},
   "outputs": [
    {
     "data": {
      "text/plain": [
       "7.000000000000001"
      ]
     },
     "execution_count": 64,
     "metadata": {},
     "output_type": "execute_result"
    }
   ],
   "source": [
    "LA.det(A)"
   ]
  },
  {
   "cell_type": "code",
   "execution_count": 67,
   "metadata": {},
   "outputs": [
    {
     "name": "stdout",
     "output_type": "stream",
     "text": [
      "[2.5+0.8660254j 2.5-0.8660254j 1. +0.j       ]\n"
     ]
    }
   ],
   "source": [
    "eigvals, eigvecs = LA.eig(A) # eigenvalue and eigenvectors\n",
    "print(eigvals)"
   ]
  },
  {
   "cell_type": "code",
   "execution_count": 68,
   "metadata": {},
   "outputs": [
    {
     "data": {
      "text/plain": [
       "array([[1, 0, 0],\n",
       "       [0, 2, 0],\n",
       "       [0, 0, 3]])"
      ]
     },
     "execution_count": 68,
     "metadata": {},
     "output_type": "execute_result"
    }
   ],
   "source": [
    "D = np.diag([1,2,3])\n",
    "D"
   ]
  },
  {
   "cell_type": "code",
   "execution_count": 69,
   "metadata": {},
   "outputs": [],
   "source": [
    "w, v = LA.eig(D)"
   ]
  },
  {
   "cell_type": "code",
   "execution_count": 70,
   "metadata": {},
   "outputs": [
    {
     "name": "stdout",
     "output_type": "stream",
     "text": [
      "[1. 2. 3.]\n"
     ]
    }
   ],
   "source": [
    "print(w) # eigenvalue, avoid using lambda!!!!!"
   ]
  },
  {
   "cell_type": "code",
   "execution_count": 71,
   "metadata": {},
   "outputs": [
    {
     "name": "stdout",
     "output_type": "stream",
     "text": [
      "[[1. 0. 0.]\n",
      " [0. 1. 0.]\n",
      " [0. 0. 1.]]\n"
     ]
    }
   ],
   "source": [
    "print(v) # every column of v is the corresponding eigenvector of w"
   ]
  },
  {
   "cell_type": "markdown",
   "metadata": {},
   "source": [
    "## Optional reading: Fractals using numpy's complex numbers\n",
    "\n",
    "Reference: [https://en.wikipedia.org/wiki/Mandelbrot_set#Formal_definition](https://en.wikipedia.org/wiki/Mandelbrot_set#Formal_definition)"
   ]
  },
  {
   "cell_type": "code",
   "execution_count": 1,
   "metadata": {},
   "outputs": [],
   "source": [
    "import numpy as np\n",
    "import matplotlib.pyplot as plt\n",
    "%matplotlib inline"
   ]
  },
  {
   "cell_type": "code",
   "execution_count": 2,
   "metadata": {},
   "outputs": [
    {
     "data": {
      "image/png": "[encoded data removed]",
      "text/plain": [
       "<Figure size 864x864 with 1 Axes>"
      ]
     },
     "metadata": {
      "needs_background": "light"
     },
     "output_type": "display_data"
    }
   ],
   "source": [
    "def mandelbrot( h,w, maxit=20 ):\n",
    "    # Returns an image of the Mandelbrot fractal of size (h,w).\n",
    "    y,x = np.ogrid[ -1.4:1.4:h*1j, -2:0.8:w*1j ]\n",
    "    c = x+y*1j\n",
    "    z = c\n",
    "    divtime = maxit + np.zeros(z.shape, dtype=int)\n",
    "\n",
    "    for i in range(maxit):\n",
    "        z = z**2 + c\n",
    "        diverge = z*np.conj(z) > 2**2            # who is diverging\n",
    "        div_now = diverge & (divtime==maxit)  # who is diverging now\n",
    "        divtime[div_now] = i                  # note when\n",
    "        z[diverge] = 2                        # avoid diverging too much\n",
    "    return divtime\n",
    "\n",
    "\n",
    "fig, ax = plt.subplots(1, figsize=(12, 12))\n",
    "plt.imshow(mandelbrot(600,600))\n",
    "plt.show()"
   ]
  }
 ],
 "metadata": {
  "kernelspec": {
   "display_name": "Python 3",
   "language": "python",
   "name": "python3"
  },
  "language_info": {
   "codemirror_mode": {
    "name": "ipython",
    "version": 3
   },
   "file_extension": ".py",
   "mimetype": "text/x-python",
   "name": "python",
   "nbconvert_exporter": "python",
   "pygments_lexer": "ipython3",
   "version": "3.7.0"
  }
 },
 "nbformat": 4,
 "nbformat_minor": 2
}
