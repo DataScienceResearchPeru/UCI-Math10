{
 "cells": [
  {
   "cell_type": "markdown",
   "metadata": {},
   "source": [
    "## Lecture 20: Stochastic Gradient Descent"
   ]
  },
  {
   "cell_type": "markdown",
   "metadata": {},
   "source": [
    "In the last lecture we have learned how to set up and use the softmax regression to classify all 10 handwritten digits based on pixel intensities on a 28x28 grid (MNIST dataset).\n",
    "\n",
    "However, the training is slow on a decent configured laptop due to the size the dataset and the size of the parameter.\n",
    "\n",
    "Today we will learn a new method called Stochastic Gradient Descent (SGD), one of the two pillars of the deep learning (the other being backpropagation).\n",
    "\n",
    "> Every state-of-the-art Deep Learning library contains implementations of various algorithms to optimize (stochastic) gradient descent.\n",
    "\n",
    "References:\n",
    "* [Why Momentum Really Works](https://distill.pub/2017/momentum/)\n",
    "* [An overview of gradient descent optimization algorithms](http://ruder.io/optimizing-gradient-descent/index.html#stochasticgradientdescent)"
   ]
  },
  {
   "cell_type": "markdown",
   "metadata": {},
   "source": [
    "# Vanilla GD \n",
    "We consider a loss function (e.g., the one we saw in softmax regression) which is the average of the sample-wise loss:\n",
    "\n",
    "$$L(\\mathbf{w}) := L(\\mathbf{w}; X,\\mathbf{y}) = \\frac{1}{N}\\sum_{i=1}^N f_i(\\mathbf{w}; \\mathbf{x}^{(i)},y^{(i)})$$ \n",
    "\n",
    "which has the weights $\\mathbf{w}$ as the parameters. Let me copy the softmax loss function here for comparison:\n",
    "\n",
    "$$\n",
    "L (\\mathbf{w})  = - \\frac{1}{N}\\sum_{i=1}^N \\left\\{\\sum_{k=1}^K\n",
    "1_{\\{y^{(i)} = k\\}} \\ln \\Bigg( \\frac{\\exp(\\mathbf{w}_k^{\\top} \\mathbf{x}^{(i)})}{\\sum_{j=1}^{K} \n",
    "\\exp\\big(\\mathbf{w}_j^{\\top} \\mathbf{x}^{(i)} \\big) }  \\Bigg)\\right\\}.\n",
    "$$\n",
    "\n",
    "Then the gradient descent method for it reads:\n",
    "\n",
    "> Choose initial guess $\\mathbf{w}_0$, step size (learning rate) $\\eta$, number of iterations $M$<br><br>\n",
    ">    For $k=0,1,2, \\cdots, M$<br>\n",
    ">    &nbsp;&nbsp;&nbsp;&nbsp;    $\\displaystyle\\mathbf{w}_{k+1} =  \\mathbf{w}_k - \\eta\\nabla_{\\mathbf{w}} L(\\mathbf{w}_k) =  \\mathbf{w}_k - \\frac{\\eta}{N}\\sum_{i=1}^N \\nabla f_i(\\mathbf{w}; \\mathbf{x}^{(i)},y^{(i)})$\n",
    "\n",
    "The gradient has to be evaluated $N$ times in one iteration, each evaluation involves a matrix matrix multiplication of order $O(n)$ (number of features in one sample).\n",
    "\n",
    "### Drawbacks: \n",
    "* Large amount of gradient evaluation, long computation time, wasting electricity, etc. \n",
    "* Suppose we add more examples to our training set. For simplicity, imagine we just add an extra copy of every training example (but the computer algorithm does not know it is the same samples): then the amount of work doubles!\n",
    "$$\n",
    "\\nabla L = \\frac{1}{2N}\\sum_{i=1}^N \\nabla f_i(\\mathbf{w}) + \\frac{1}{2N}\\sum_{i=1}^N \\nabla f_i(\\mathbf{w}) ,\n",
    "$$\n",
    "even for the same loss function.\n",
    "* The training examples arrive one-at-a-time (or several-at-a-time) as the model is learning (gradient descent). Should we include these into the original dataset and re-compute the gradient?"
   ]
  },
  {
   "cell_type": "markdown",
   "metadata": {},
   "source": [
    "# Stochastic Gradient Descent\n",
    "\n",
    "Suppose our loss function is still:\n",
    "\n",
    "$$L := L(\\mathbf{w}; X,\\mathbf{y}) =  \\frac{1}{N}\\sum_{i=1}^N f_i(\\mathbf{w}; \\mathbf{x}^{(i)},y^{(i)}),$$\n",
    "\n",
    "where $X = (\\mathbf{x}^{(1)}, \\dots, \\mathbf{x}^{(N)})^{\\top}$ are the training samples, $\\mathbf{y} = (y^{(1)}, \\dots, y^{(N)})^{\\top}$ are the labels for the training samples.\n",
    "\n",
    "> Choose initial guess $\\mathbf{w}_0$, step size (learning rate) $\\eta$, number of inner iterations $M$, number of epochs $n_E$ <br><br>\n",
    ">    Set $\\mathbf{w}_{M+1} = \\mathbf{w}_0$ for epoch $e=0$<br>\n",
    ">    For epoch $n=1,2, \\cdots, n_E$<br>\n",
    ">    &nbsp;&nbsp;&nbsp;&nbsp; $\\mathbf{w}_{0}$ for the current epoch is $\\mathbf{w}_{M+1}$ for the previous epoch.<br>\n",
    ">    &nbsp;&nbsp;&nbsp;&nbsp; Randomly shuffle the training samples.<br>\n",
    ">    &nbsp;&nbsp;&nbsp;&nbsp; For $m=0,1,2, \\cdots, M$<br>\n",
    ">    &nbsp;&nbsp;&nbsp;&nbsp;&nbsp;&nbsp;&nbsp;&nbsp;    $\\displaystyle\\mathbf{w}_{m+1} = \\mathbf{w}_m - \\eta \\nabla f_i(\\mathbf{w}; \\mathbf{x}^{(m)},y^{(m)})$\n",
    "\n",
    "If $M = N$, which is the current batch of all training samples, one outer iteration is called a completed *epoch*.\n",
    "\n",
    "### Vanilla SGD: Single gradient evaluation at each iteration"
   ]
  },
  {
   "cell_type": "markdown",
   "metadata": {},
   "source": [
    "# Linear regression\n",
    "\n",
    "Let us give it a go on the linear regression. This time, we are using `scikit-learn`'s built-in dataset. For the linear regression, we can use `scikit-learn`'s `LinearRegression()` class for the multivariate regression as Lecture 17, but since we are illustrating SGD, we are implementing ourselves. Recall the loss function with the $L^2$ regularization and the gradient: let the weight $\\mathbf{w} = (w_0, \\widehat{\\mathbf{w}})$ where $w_0$ is the bias, and $\\widehat{\\mathbf{w}}$ is the vector containing the weights for the features of the dataset\n",
    "\n",
    "$$\n",
    "L(\\mathbf{w}) = \\frac{1}{N}\\sum_{i=1}^N  \n",
    "\\left( [1, \\;\\mathbf{x}^{(i)}]^{\\top} \\mathbf{w} - y^{(i)} \\right)^2 \n",
    "+ \\epsilon |\\widehat{\\mathbf{w}}|^2,\n",
    "\\\\\n",
    "\\frac{\\partial L(w)}{\\partial \\mathbf{w}} = \\frac{2}{N}\\sum_{i=1}^N [1, \\;\\mathbf{x}^{(i)}]\\left( [1, \\;\\mathbf{x}^{(i)}]^{\\top} \\mathbf{w} - y^{(i)}\\right) + 2\\epsilon\\, [0, \\widehat{\\mathbf{w}}]\n",
    "$$\n",
    "\n",
    "Reference: [Scikit-learn's dataset loading utilities](https://scikit-learn.org/stable/datasets/index.html)"
   ]
  },
  {
   "cell_type": "code",
   "execution_count": 1,
   "metadata": {},
   "outputs": [],
   "source": [
    "import numpy as np\n",
    "import matplotlib.pyplot as plt\n",
    "# let us load the house price dataset \n",
    "from sklearn.datasets import load_boston\n",
    "from sklearn.model_selection import train_test_split\n",
    "boston = load_boston()"
   ]
  },
  {
   "cell_type": "code",
   "execution_count": 8,
   "metadata": {},
   "outputs": [
    {
     "data": {
      "text/plain": [
       "array(['CRIM', 'ZN', 'INDUS', 'CHAS', 'NOX', 'RM', 'AGE', 'DIS', 'RAD',\n",
       "       'TAX', 'PTRATIO', 'B', 'LSTAT'], dtype='<U7')"
      ]
     },
     "execution_count": 8,
     "metadata": {},
     "output_type": "execute_result"
    }
   ],
   "source": [
    "boston.feature_names"
   ]
  },
  {
   "cell_type": "code",
   "execution_count": 3,
   "metadata": {},
   "outputs": [],
   "source": [
    "X = boston.data\n",
    "y = boston.target\n",
    "X_train, X_test, y_train, y_test = train_test_split(X, y, test_size=0.2, random_state=42)\n",
    "# pre-process the data to have an artificial column of ones\n",
    "X_train = np.concatenate((np.ones([len(y_train),1]), X_train), axis=1) \n",
    "# concatenating ones to the X_train as the first column (along axis 1)\n",
    "X_test = np.concatenate((np.ones([len(y_test),1]), X_test), axis=1) "
   ]
  },
  {
   "cell_type": "code",
   "execution_count": 4,
   "metadata": {},
   "outputs": [],
   "source": [
    "w = 1e-2*np.random.normal(size=np.shape(X_train)[1]) # weights and bias"
   ]
  },
  {
   "cell_type": "code",
   "execution_count": 5,
   "metadata": {},
   "outputs": [
    {
     "data": {
      "text/plain": [
       "array([-0.40346402, -0.66584146,  3.02636508, -1.5164259 ])"
      ]
     },
     "execution_count": 5,
     "metadata": {},
     "output_type": "execute_result"
    }
   ],
   "source": [
    "np.set_printoptions(suppress=True)\n",
    "X_test[:4,:].dot(w)"
   ]
  },
  {
   "cell_type": "code",
   "execution_count": 6,
   "metadata": {},
   "outputs": [
    {
     "data": {
      "text/plain": [
       "array([23.6, 32.4, 13.6, 22.8])"
      ]
     },
     "execution_count": 6,
     "metadata": {},
     "output_type": "execute_result"
    }
   ],
   "source": [
    "y_test[:4]"
   ]
  },
  {
   "cell_type": "code",
   "execution_count": 9,
   "metadata": {},
   "outputs": [],
   "source": [
    "eps = 1e-3 # regularization parameter\n",
    "\n",
    "# our model, returns the linear function [1 X]^T w\n",
    "def f(w, X):\n",
    "    # X is the training data\n",
    "    return np.matmul(X,w)\n",
    "\n",
    "# loss function = total square error on the given data set X,y\n",
    "def loss(w, X, y):\n",
    "    # N = len(y) \n",
    "    # this is one of the key, if y is only part of/one of the data label, then N will be small!\n",
    "    residual_components = f(w, X) - y\n",
    "    regularization = eps*np.sum(w[1:]**2)\n",
    "#     return (1/len(y))*np.sum(residual_components**2) + regularization\n",
    "    return np.mean(residual_components**2) + regularization\n",
    "    # the second implementation is prefered due to the len(y) may not exist\n",
    "\n",
    "def gradient_loss(w, X, y):\n",
    "    # An alternative implementation\n",
    "    #     N = len(y)\n",
    "    #     loss_components = f(w, X) - y\n",
    "    #     gradient = loss_components.reshape(-1,1)*X\n",
    "    #     return (2/N)*np.sum(gradient, axis=0)\n",
    "    gradient_for_all_training_data = (f(w,X) - y).reshape(-1,1)*X\n",
    "    gradient_for_regularization = 2*eps*w\n",
    "    gradient_for_regularization[0] = 0 # no gradient for the bias in the regularization term\n",
    "    gradient_mean_training_data = np.mean(gradient_for_all_training_data, axis=0)\n",
    "    # we should return a (14,) array, which is averaging all training data\n",
    "    return 2*gradient_mean_training_data + gradient_for_regularization\n",
    "\n",
    "# we define a cross validating function to compute the R^2 score \n",
    "def cross_validate_rsquared(w, X, y):\n",
    "    y_pred = f(w, X)\n",
    "    return 1 - (np.sum((y- y_pred)**2))/(np.sum((y- y.mean())**2))"
   ]
  },
  {
   "cell_type": "code",
   "execution_count": null,
   "metadata": {},
   "outputs": [],
   "source": [
    "np.linalg.norm(gradient_loss(w,X_train,y_train))"
   ]
  },
  {
   "cell_type": "code",
   "execution_count": null,
   "metadata": {},
   "outputs": [],
   "source": [
    "gradient_loss(w,X_train,y_train)"
   ]
  },
  {
   "cell_type": "code",
   "execution_count": null,
   "metadata": {},
   "outputs": [],
   "source": [
    "np.sum(w * X_train, axis=1)[:10]"
   ]
  },
  {
   "cell_type": "code",
   "execution_count": null,
   "metadata": {
    "scrolled": true
   },
   "outputs": [],
   "source": [
    "np.matmul(X_train,w)[:10]"
   ]
  },
  {
   "cell_type": "markdown",
   "metadata": {},
   "source": [
    "## First let us try gradient descent \n",
    "#### just making sure our implementation above is good..."
   ]
  },
  {
   "cell_type": "code",
   "execution_count": 10,
   "metadata": {
    "scrolled": true
   },
   "outputs": [
    {
     "name": "stdout",
     "output_type": "stream",
     "text": [
      "loss after 1 iterations is:  235.30410418233268\n",
      "Training R squared after 1 iterations is:  -1.7047283584087864\n",
      "Test R squared after 1 iterations is:  -2.595424984951314\n",
      "loss after 201 iterations is:  62.56955143211891\n",
      "Training R squared after 201 iterations is:  0.2836190856907608\n",
      "Test R squared after 201 iterations is:  -0.05892460015169432\n",
      "loss after 401 iterations is:  54.3828539469413\n",
      "Training R squared after 401 iterations is:  0.3778557898418847\n",
      "Test R squared after 401 iterations is:  0.08769920921402519\n",
      "loss after 601 iterations is:  48.53129036773873\n",
      "Training R squared after 601 iterations is:  0.4452128167164361\n",
      "Test R squared after 601 iterations is:  0.19581970994988163\n",
      "loss after 801 iterations is:  44.2148013433231\n",
      "Training R squared after 801 iterations is:  0.4948996366943851\n",
      "Test R squared after 801 iterations is:  0.2776268901518544\n",
      "loss after 1001 iterations is:  40.951216663932264\n",
      "Training R squared after 1001 iterations is:  0.5324665024292754\n",
      "Test R squared after 1001 iterations is:  0.34079714717250964\n",
      "loss after 1201 iterations is:  38.43619084070887\n",
      "Training R squared after 1201 iterations is:  0.5614167287694533\n",
      "Test R squared after 1201 iterations is:  0.39036862149936813\n",
      "loss after 1401 iterations is:  36.46864502314056\n",
      "Training R squared after 1401 iterations is:  0.5840649299363907\n",
      "Test R squared after 1401 iterations is:  0.4297781627794811\n",
      "loss after 1601 iterations is:  34.910133621586375\n",
      "Training R squared after 1601 iterations is:  0.6020047498004215\n",
      "Test R squared after 1601 iterations is:  0.46145092351619754\n",
      "loss after 1801 iterations is:  33.66200196735712\n",
      "Training R squared after 1801 iterations is:  0.616371799728229\n",
      "Test R squared after 1801 iterations is:  0.4871468941982262\n"
     ]
    }
   ],
   "source": [
    "eta = 1e-6# step size (learning rate)\n",
    "num_steps = 2000\n",
    "w = np.array([30.24675099,  -0.11305592,   0.03011046,   0.04038072, 2.7844382 , -17.20263339,   4.4388352 ,  \n",
    "              -0.00629636,  -1.44786537,   0.26242974,  -0.01064679,  -0.91545624, 0.01235133,  -0.50857142]) \n",
    "w += 2e-1*np.random.normal(size=np.shape(X_train)[1])  \n",
    "\n",
    "loss_at_eachstep = np.zeros(num_steps) # record the change of the loss function\n",
    "for i in range(num_steps):\n",
    "    loss_at_eachstep[i] = loss(w,X_train,y_train)\n",
    "    dw = gradient_loss(w,X_train,y_train)\n",
    "    w = w - eta * dw\n",
    "    if i % 200 == 0:\n",
    "        print(\"loss after\", i+1, \"iterations is: \", loss(w,X_train,y_train))\n",
    "        print(\"Training R squared after\", i+1, \"iterations is: \", cross_validate_rsquared(w, X_train, y_train))\n",
    "        print(\"Test R squared after\", i+1, \"iterations is: \", cross_validate_rsquared(w, X_test, y_test))\n",
    "    # keep track of training accuracy just making sure we are in the right direction"
   ]
  },
  {
   "cell_type": "code",
   "execution_count": 11,
   "metadata": {},
   "outputs": [
    {
     "data": {
      "image/png": "[encoded data removed]",
      "text/plain": [
       "<Figure size 432x288 with 1 Axes>"
      ]
     },
     "metadata": {
      "needs_background": "light"
     },
     "output_type": "display_data"
    }
   ],
   "source": [
    "plt.plot(range(num_steps), loss_at_eachstep)\n",
    "plt.yscale('log')\n",
    "plt.show()"
   ]
  },
  {
   "cell_type": "markdown",
   "metadata": {},
   "source": [
    "## Scikit-learn's version"
   ]
  },
  {
   "cell_type": "code",
   "execution_count": 12,
   "metadata": {},
   "outputs": [
    {
     "name": "stdout",
     "output_type": "stream",
     "text": [
      "Training R squared is: 0.7508837718540138\n",
      "Test R squared is: 0.6684818297725222\n"
     ]
    }
   ],
   "source": [
    "from sklearn import linear_model\n",
    "# housing_reg = linear_model.LinearRegression()\n",
    "housing_reg = linear_model.Ridge(alpha=1e-3)\n",
    "housing_reg.fit(X_train, y_train)\n",
    "print(\"Training R squared is:\", housing_reg.score(X_train,y_train))\n",
    "print(\"Test R squared is:\", housing_reg.score(X_test,y_test))"
   ]
  },
  {
   "cell_type": "markdown",
   "metadata": {},
   "source": [
    "### testing if our functions are implemented correctly"
   ]
  },
  {
   "cell_type": "code",
   "execution_count": null,
   "metadata": {},
   "outputs": [],
   "source": [
    "w = housing_reg.coef_\n",
    "w[0] = housing_reg.intercept_\n",
    "loss(w,X_test,y_test)\n",
    "# gradient_loss(w,X_train,y_train)"
   ]
  },
  {
   "cell_type": "markdown",
   "metadata": {},
   "source": [
    "# Stochastic gradient descent"
   ]
  },
  {
   "cell_type": "code",
   "execution_count": 28,
   "metadata": {},
   "outputs": [
    {
     "data": {
      "text/plain": [
       "array([4, 1, 3, 0, 2])"
      ]
     },
     "execution_count": 28,
     "metadata": {},
     "output_type": "execute_result"
    }
   ],
   "source": [
    "test = np.random.permutation(5)\n",
    "test"
   ]
  },
  {
   "cell_type": "code",
   "execution_count": 29,
   "metadata": {},
   "outputs": [
    {
     "data": {
      "text/plain": [
       "array([3, 0, 4, 1, 2])"
      ]
     },
     "execution_count": 29,
     "metadata": {},
     "output_type": "execute_result"
    }
   ],
   "source": [
    "np.random.shuffle(test)\n",
    "test"
   ]
  },
  {
   "cell_type": "code",
   "execution_count": 31,
   "metadata": {},
   "outputs": [
    {
     "name": "stdout",
     "output_type": "stream",
     "text": [
      "4\n",
      "0\n",
      "1\n",
      "2\n",
      "3\n"
     ]
    }
   ],
   "source": [
    "shuffled_index = np.random.permutation(5)\n",
    "for i in range(5):\n",
    "    print(shuffled_index[i])"
   ]
  },
  {
   "cell_type": "code",
   "execution_count": 32,
   "metadata": {},
   "outputs": [
    {
     "name": "stdout",
     "output_type": "stream",
     "text": [
      "loss after 1 epochs and  1 iterations is:  2717.855630074267\n",
      "Training R squared after 1 epochs and  1 iterations is: -30.28142966397839\n",
      "Testing R squared after 1 epochs and  1 iterations is: -40.50216749543227\n",
      "loss after 1 epochs and  101 iterations is:  54.75383144395124\n",
      "Training R squared after 1 epochs and  101 iterations is: 0.3735412387753251\n",
      "Testing R squared after 1 epochs and  101 iterations is: 0.28677551270425095\n",
      "loss after 1 epochs and  201 iterations is:  40.272614062712066\n",
      "Training R squared after 1 epochs and  201 iterations is: 0.5402344940668596\n",
      "Testing R squared after 1 epochs and  201 iterations is: 0.5579541042457001\n",
      "loss after 1 epochs and  301 iterations is:  37.348188553469484\n",
      "Training R squared after 1 epochs and  301 iterations is: 0.5738974994333711\n",
      "Testing R squared after 1 epochs and  301 iterations is: 0.6141479948091135\n",
      "loss after 1 epochs and  401 iterations is:  49.70017936980269\n",
      "Training R squared after 1 epochs and  401 iterations is: 0.43171366829954516\n",
      "Testing R squared after 1 epochs and  401 iterations is: 0.44173851112051166\n",
      "loss after 101 epochs and  1 iterations is:  37.806492066036235\n",
      "Training R squared after 101 epochs and  1 iterations is: 0.5686213920601646\n",
      "Testing R squared after 101 epochs and  1 iterations is: 0.41794816071858454\n",
      "loss after 101 epochs and  101 iterations is:  26.233551499775604\n",
      "Training R squared after 101 epochs and  101 iterations is: 0.7018375389112264\n",
      "Testing R squared after 101 epochs and  101 iterations is: 0.6045944722564778\n",
      "loss after 101 epochs and  201 iterations is:  29.665504494662667\n",
      "Training R squared after 101 epochs and  201 iterations is: 0.6623323149188428\n",
      "Testing R squared after 101 epochs and  201 iterations is: 0.5849056617123403\n",
      "loss after 101 epochs and  301 iterations is:  59.607925012307156\n",
      "Training R squared after 101 epochs and  301 iterations is: 0.3176650686049952\n",
      "Testing R squared after 101 epochs and  301 iterations is: 0.05190117944268091\n",
      "loss after 101 epochs and  401 iterations is:  22.998294639827684\n",
      "Training R squared after 101 epochs and  401 iterations is: 0.739078590101227\n",
      "Testing R squared after 101 epochs and  401 iterations is: 0.669043020995415\n",
      "loss after 201 epochs and  1 iterations is:  27.371484950165573\n",
      "Training R squared after 201 epochs and  1 iterations is: 0.6887380115760069\n",
      "Testing R squared after 201 epochs and  1 iterations is: 0.5994123887528153\n",
      "loss after 201 epochs and  101 iterations is:  40.533267720110324\n",
      "Training R squared after 201 epochs and  101 iterations is: 0.5372326559124255\n",
      "Testing R squared after 201 epochs and  101 iterations is: 0.4145001708691174\n",
      "loss after 201 epochs and  201 iterations is:  26.120918318407323\n",
      "Training R squared after 201 epochs and  201 iterations is: 0.7031332360125969\n",
      "Testing R squared after 201 epochs and  201 iterations is: 0.5866133566782014\n",
      "loss after 201 epochs and  301 iterations is:  83.8879406691559\n",
      "Training R squared after 201 epochs and  301 iterations is: 0.03817686606594006\n",
      "Testing R squared after 201 epochs and  301 iterations is: -0.1848569504951092\n",
      "loss after 201 epochs and  401 iterations is:  41.90243842631278\n",
      "Training R squared after 201 epochs and  401 iterations is: 0.5214720877449064\n",
      "Testing R squared after 201 epochs and  401 iterations is: 0.36080286917031756\n"
     ]
    }
   ],
   "source": [
    "eta = 1e-6# step size (learning rate)\n",
    "num_epochs = 300\n",
    "M = len(y_train)\n",
    "N = M # in general you can choose M <= N\n",
    "w = np.array([30.24675099,  -0.11305592,   0.03011046,   0.04038072, 2.7844382 , -17.20263339,   4.4388352 ,  \n",
    "              -0.00629636,  -1.44786537,   0.26242974,  -0.01064679,  -0.91545624, 0.01235133,  -0.50857142]) \n",
    "w += 2e-1*np.random.normal(size=np.shape(X_train)[1])  \n",
    "\n",
    "sgd_loss_at_eachstep = np.zeros([num_epochs,N]) # record the change of the loss function\n",
    "# num_epochs is the # of outer iterations\n",
    "# N is the # of samples, which is the number of inner iterations\n",
    "\n",
    "for e in range(num_epochs):\n",
    "    shuffle_index = np.random.permutation(N)\n",
    "    for m in range(M):\n",
    "        i = shuffle_index[m] # i corresponds i-th sample\n",
    "        sgd_loss_at_eachstep[e,m] = loss(w,X_train,y_train)\n",
    "        dw = gradient_loss(w,X_train[i,:],y_train[i])\n",
    "        # this is the gradient for i-th sample\n",
    "        w = w - eta * dw\n",
    "        if m % 100 ==0 and e % 100 == 0:\n",
    "            print(\"loss after\", e+1, \"epochs and \", m+1, \"iterations is: \", loss(w,X_train,y_train))\n",
    "            print(\"Training R squared after\", e+1, \"epochs and \", m+1, \n",
    "                  \"iterations is:\", cross_validate_rsquared(w, X_train, y_train))\n",
    "            print(\"Testing R squared after\", e+1, \"epochs and \", m+1, \n",
    "                  \"iterations is:\", cross_validate_rsquared(w, X_test, y_test))"
   ]
  },
  {
   "cell_type": "code",
   "execution_count": 33,
   "metadata": {},
   "outputs": [
    {
     "data": {
      "image/png": "[encoded data removed]",
      "text/plain": [
       "<Figure size 432x288 with 1 Axes>"
      ]
     },
     "metadata": {
      "needs_background": "light"
     },
     "output_type": "display_data"
    }
   ],
   "source": [
    "num_plot = 500\n",
    "plt.plot(range(5,num_plot), sgd_loss_at_eachstep.reshape(-1)[5:num_plot], label=\"SGD loss\")\n",
    "plt.plot(range(5,num_plot), loss_at_eachstep[5:num_plot], linewidth=2, label= \"GD loss\")\n",
    "plt.legend()\n",
    "plt.show()"
   ]
  },
  {
   "cell_type": "markdown",
   "metadata": {},
   "source": [
    "# Mini-batch SGD\n",
    "\n",
    "In the vanilla SGD, each parameter $\\mathbf{w}$ update is computed w.r.t one training sample randomly selected. In mini-batch SGD, the update is computed for a mini-batch (a small number of training samples), as opposed to a single example. The reason for this is twofold: \n",
    "* This reduces the variance in the parameter update and can lead to more stable convergence.\n",
    "* This allows the computation to be more efficient, since our code is written in a vectorized way. \n",
    "\n",
    "A typical mini-batch size is $2^k$ (32, 256, etc), although the optimal size of the mini-batch can vary for different applications, and size of dataset (e.g., AlphaGo training uses mini-batch size of 2048 positions).\n",
    "\n",
    "> Choose initial guess $\\mathbf{w}_0$, step size (learning rate) $\\eta$, <br>\n",
    "batch size $n_B$, number of inner iterations $M\\leq N/n_B$, number of epochs $n_E$ <br><br>\n",
    ">    Set $\\mathbf{w}_{M+1} = \\mathbf{w}_0$ for epoch $e=0$<br>\n",
    ">    For epoch $n=1,2, \\cdots, n_E$<br>\n",
    ">    &nbsp;&nbsp;&nbsp;&nbsp; $\\mathbf{w}_{0}$ for the current epoch is $\\mathbf{w}_{M+1}$ for the previous epoch.<br>\n",
    ">    &nbsp;&nbsp;&nbsp;&nbsp; Randomly shuffle the training samples.<br>\n",
    ">    &nbsp;&nbsp;&nbsp;&nbsp; For $m=0,1,2, \\cdots, M$<br>\n",
    ">    &nbsp;&nbsp;&nbsp;&nbsp;&nbsp;&nbsp;&nbsp;&nbsp;    $\\displaystyle\\mathbf{w}_{m+1} = \\mathbf{w}_m -  \\frac{\\eta}{n_B}\\sum_{i=1}^{n_B} \\nabla f_i(\\mathbf{w}; \\mathbf{x}^{(m+i)},y^{(m+i)})$"
   ]
  },
  {
   "cell_type": "code",
   "execution_count": 34,
   "metadata": {},
   "outputs": [
    {
     "name": "stdout",
     "output_type": "stream",
     "text": [
      "loss after 1 epochs and  1 iterations is:  1420.0987833295746\n",
      "Training R squared after 1 epochs and  1 iterations is: -15.343033151837965\n",
      "Testing R squared after 1 epochs and  1 iterations is: -19.752914794303525\n",
      "loss after 1 epochs and  11 iterations is:  43.76081982914412\n",
      "Training R squared after 1 epochs and  11 iterations is: 0.4999970011263003\n",
      "Testing R squared after 1 epochs and  11 iterations is: 0.5485009790919042\n",
      "loss after 1 epochs and  21 iterations is:  43.54661808303475\n",
      "Training R squared after 1 epochs and  21 iterations is: 0.5024626648474175\n",
      "Testing R squared after 1 epochs and  21 iterations is: 0.558228533741763\n",
      "loss after 61 epochs and  1 iterations is:  32.97930433273371\n",
      "Training R squared after 61 epochs and  1 iterations is: 0.6241026827667258\n",
      "Testing R squared after 61 epochs and  1 iterations is: 0.5361439714618133\n",
      "loss after 61 epochs and  11 iterations is:  37.34987100189008\n",
      "Training R squared after 61 epochs and  11 iterations is: 0.5737930752142615\n",
      "Testing R squared after 61 epochs and  11 iterations is: 0.46198943680468985\n",
      "loss after 61 epochs and  21 iterations is:  28.205959331610263\n",
      "Training R squared after 61 epochs and  21 iterations is: 0.6790486609418706\n",
      "Testing R squared after 61 epochs and  21 iterations is: 0.6312631632474529\n",
      "loss after 121 epochs and  1 iterations is:  28.318795049099627\n",
      "Training R squared after 121 epochs and  1 iterations is: 0.6777499952397659\n",
      "Testing R squared after 121 epochs and  1 iterations is: 0.6250092993798713\n",
      "loss after 121 epochs and  11 iterations is:  26.63913887508335\n",
      "Training R squared after 121 epochs and  11 iterations is: 0.6970845308379918\n",
      "Testing R squared after 121 epochs and  11 iterations is: 0.6310483577081907\n",
      "loss after 121 epochs and  21 iterations is:  26.86084000130676\n",
      "Training R squared after 121 epochs and  21 iterations is: 0.6945325237292455\n",
      "Testing R squared after 121 epochs and  21 iterations is: 0.6329790377025071\n",
      "loss after 181 epochs and  1 iterations is:  29.123327183771\n",
      "Training R squared after 181 epochs and  1 iterations is: 0.668489078507053\n",
      "Testing R squared after 181 epochs and  1 iterations is: 0.5864408461359347\n",
      "loss after 181 epochs and  11 iterations is:  32.8777936258617\n",
      "Training R squared after 181 epochs and  11 iterations is: 0.6252714079180883\n",
      "Testing R squared after 181 epochs and  11 iterations is: 0.5270900617862732\n",
      "loss after 181 epochs and  21 iterations is:  28.58847227580547\n",
      "Training R squared after 181 epochs and  21 iterations is: 0.6746457981304763\n",
      "Testing R squared after 181 epochs and  21 iterations is: 0.5927151005717477\n",
      "loss after 241 epochs and  1 iterations is:  26.367330521674955\n",
      "Training R squared after 241 epochs and  1 iterations is: 0.700213500499689\n",
      "Testing R squared after 241 epochs and  1 iterations is: 0.6393906490740964\n",
      "loss after 241 epochs and  11 iterations is:  25.34467738902142\n",
      "Training R squared after 241 epochs and  11 iterations is: 0.7119852628325237\n",
      "Testing R squared after 241 epochs and  11 iterations is: 0.6451450797567431\n",
      "loss after 241 epochs and  21 iterations is:  25.915266594526152\n",
      "Training R squared after 241 epochs and  21 iterations is: 0.7054172110525532\n",
      "Testing R squared after 241 epochs and  21 iterations is: 0.6460418449092253\n",
      "loss after 301 epochs and  1 iterations is:  25.1375181048442\n",
      "Training R squared after 301 epochs and  1 iterations is: 0.7143699346340859\n",
      "Testing R squared after 301 epochs and  1 iterations is: 0.6624622159813518\n",
      "loss after 301 epochs and  11 iterations is:  25.3471101940903\n",
      "Training R squared after 301 epochs and  11 iterations is: 0.7119573238436543\n",
      "Testing R squared after 301 epochs and  11 iterations is: 0.6561870209199415\n",
      "loss after 301 epochs and  21 iterations is:  24.927313771911994\n",
      "Training R squared after 301 epochs and  21 iterations is: 0.7167896020476447\n",
      "Testing R squared after 301 epochs and  21 iterations is: 0.6628867974472433\n",
      "loss after 361 epochs and  1 iterations is:  24.545400394172546\n",
      "Training R squared after 361 epochs and  1 iterations is: 0.7211857913078481\n",
      "Testing R squared after 361 epochs and  1 iterations is: 0.6554080585961584\n",
      "loss after 361 epochs and  11 iterations is:  25.844689421648958\n",
      "Training R squared after 361 epochs and  11 iterations is: 0.7062296642172665\n",
      "Testing R squared after 361 epochs and  11 iterations is: 0.643376586325076\n",
      "loss after 361 epochs and  21 iterations is:  25.19594110653912\n",
      "Training R squared after 361 epochs and  21 iterations is: 0.713697402430205\n",
      "Testing R squared after 361 epochs and  21 iterations is: 0.6542671083239515\n",
      "loss after 421 epochs and  1 iterations is:  24.819278048801436\n",
      "Training R squared after 421 epochs and  1 iterations is: 0.7180333395655916\n",
      "Testing R squared after 421 epochs and  1 iterations is: 0.6401709248546424\n",
      "loss after 421 epochs and  11 iterations is:  24.20517636513122\n",
      "Training R squared after 421 epochs and  11 iterations is: 0.7251022633479496\n",
      "Testing R squared after 421 epochs and  11 iterations is: 0.6652718471936134\n",
      "loss after 421 epochs and  21 iterations is:  25.16177907027747\n",
      "Training R squared after 421 epochs and  21 iterations is: 0.7140908087178772\n",
      "Testing R squared after 421 epochs and  21 iterations is: 0.6321532607816645\n",
      "loss after 481 epochs and  1 iterations is:  24.072834989117943\n",
      "Training R squared after 481 epochs and  1 iterations is: 0.7266255521072079\n",
      "Testing R squared after 481 epochs and  1 iterations is: 0.6707464611870214\n",
      "loss after 481 epochs and  11 iterations is:  24.34112801551418\n",
      "Training R squared after 481 epochs and  11 iterations is: 0.7235372263495907\n",
      "Testing R squared after 481 epochs and  11 iterations is: 0.6711711476880665\n",
      "loss after 481 epochs and  21 iterations is:  24.840198910229624\n",
      "Training R squared after 481 epochs and  21 iterations is: 0.7177924195207415\n",
      "Testing R squared after 481 epochs and  21 iterations is: 0.6710420179679655\n"
     ]
    }
   ],
   "source": [
    "eta = 1e-6# step size (learning rate)\n",
    "num_epochs = 500\n",
    "n_B = 16 # number of mini-batch\n",
    "M = int(len(y_train)/n_B)\n",
    "w = np.array([30.24675099,  -0.11305592,   0.03011046,   0.04038072, 2.7844382 , -17.20263339,   4.4388352 ,  \n",
    "              -0.00629636,  -1.44786537,   0.26242974,  -0.01064679,  -0.91545624, 0.01235133,  -0.50857142]) \n",
    "w += 2e-1*np.random.normal(size=np.shape(X_train)[1])  \n",
    "\n",
    "sgdmini_loss_at_eachstep = np.zeros([num_epochs,M]) # record the change of the loss function\n",
    "\n",
    "for e in range(num_epochs):\n",
    "    shuffle_index = np.random.permutation(N)\n",
    "    for m in range(M):\n",
    "        i = shuffle_index[m:m+n_B]\n",
    "        # indices for the gradient of loss function\n",
    "        # of the i-th sample to be evaluated \n",
    "        sgdmini_loss_at_eachstep[e,m] = loss(w,X_train,y_train)\n",
    "        dw = gradient_loss(w,X_train[i,:],y_train[i])\n",
    "        w = w - eta * dw\n",
    "        if m % 10 ==0 and e % 60 == 0:\n",
    "            print(\"loss after\", e+1, \"epochs and \", m+1, \"iterations is: \", loss(w,X_train,y_train))\n",
    "            print(\"Training R squared after\", e+1, \"epochs and \", m+1, \n",
    "                  \"iterations is:\", cross_validate_rsquared(w, X_train, y_train))\n",
    "            print(\"Testing R squared after\", e+1, \"epochs and \", m+1, \n",
    "                  \"iterations is:\", cross_validate_rsquared(w, X_test, y_test))"
   ]
  },
  {
   "cell_type": "code",
   "execution_count": 35,
   "metadata": {},
   "outputs": [
    {
     "data": {
      "image/png": "[encoded data removed]",
      "text/plain": [
       "<Figure size 1152x576 with 1 Axes>"
      ]
     },
     "metadata": {},
     "output_type": "display_data"
    }
   ],
   "source": [
    "import seaborn as sns\n",
    "sns.set()\n",
    "num_plot = 500\n",
    "plt.figure(figsize= [16,8])\n",
    "plt.plot(range(5,num_plot), sgdmini_loss_at_eachstep.reshape(-1)[5:num_plot], 'b-*',\n",
    "         label=\"SGD mini-batch loss\")\n",
    "plt.plot(range(5,num_plot), sgd_loss_at_eachstep.reshape(-1)[5:num_plot], \n",
    "         label=\"SGD loss\", linewidth=1, color = 'green' )\n",
    "plt.plot(range(5,num_plot), loss_at_eachstep[5:num_plot], 'r',\n",
    "         linewidth=2, label= \"GD loss\")\n",
    "plt.legend(fontsize=20)\n",
    "plt.show()"
   ]
  }
 ],
 "metadata": {
  "kernelspec": {
   "display_name": "Python 3",
   "language": "python",
   "name": "python3"
  },
  "language_info": {
   "codemirror_mode": {
    "name": "ipython",
    "version": 3
   },
   "file_extension": ".py",
   "mimetype": "text/x-python",
   "name": "python",
   "nbconvert_exporter": "python",
   "pygments_lexer": "ipython3",
   "version": "3.7.0"
  }
 },
 "nbformat": 4,
 "nbformat_minor": 2
}
